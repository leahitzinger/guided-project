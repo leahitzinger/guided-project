{
 "cells": [
  {
   "cell_type": "code",
   "execution_count": 1,
   "metadata": {},
   "outputs": [],
   "source": [
    "from sklearn.linear_model import LogisticRegression\n",
    "from sklearn.metrics import accuracy_score\n",
    "from sklearn.model_selection import train_test_split"
   ]
  },
  {
   "cell_type": "code",
   "execution_count": 2,
   "metadata": {},
   "outputs": [],
   "source": [
    "import pandas as pd\n",
    "data = pd.read_csv(\"Apartments Dataset  - Apartments Dataset .csv\")"
   ]
  },
  {
   "cell_type": "code",
   "execution_count": 3,
   "metadata": {},
   "outputs": [],
   "source": [
    "data['elevator(y/n)'] = data['elevator(y/n)'].map({'y': 1, 'n': 0})\n",
    "data['makolet on your street?(y/n)'] = data['makolet on your street?(y/n)'].map({'y': 1, 'n': 0})\n",
    "data['Yerushalyim? (y/n)'] = data['Yerushalyim? (y/n)'].map({'y': 1, 'n': 0})"
   ]
  },
  {
   "cell_type": "code",
   "execution_count": 4,
   "metadata": {},
   "outputs": [
    {
     "data": {
      "text/plain": [
       "1.0    40\n",
       "0.0     8\n",
       "Name: Yerushalyim? (y/n), dtype: int64"
      ]
     },
     "execution_count": 4,
     "metadata": {},
     "output_type": "execute_result"
    }
   ],
   "source": [
    "data['Yerushalyim? (y/n)'].value_counts()"
   ]
  },
  {
   "cell_type": "code",
   "execution_count": 5,
   "metadata": {},
   "outputs": [
    {
     "data": {
      "text/html": [
       "<div>\n",
       "<style scoped>\n",
       "    .dataframe tbody tr th:only-of-type {\n",
       "        vertical-align: middle;\n",
       "    }\n",
       "\n",
       "    .dataframe tbody tr th {\n",
       "        vertical-align: top;\n",
       "    }\n",
       "\n",
       "    .dataframe thead th {\n",
       "        text-align: right;\n",
       "    }\n",
       "</style>\n",
       "<table border=\"1\" class=\"dataframe\">\n",
       "  <thead>\n",
       "    <tr style=\"text-align: right;\">\n",
       "      <th></th>\n",
       "      <th>number of floors in your building</th>\n",
       "      <th>elevator(y/n)</th>\n",
       "      <th>number of  apartments in your building</th>\n",
       "      <th>makolet on your street?(y/n)</th>\n",
       "      <th>Yerushalyim? (y/n)</th>\n",
       "    </tr>\n",
       "  </thead>\n",
       "  <tbody>\n",
       "    <tr>\n",
       "      <th>count</th>\n",
       "      <td>51.000000</td>\n",
       "      <td>51.000000</td>\n",
       "      <td>51.000000</td>\n",
       "      <td>50.000000</td>\n",
       "      <td>48.000000</td>\n",
       "    </tr>\n",
       "    <tr>\n",
       "      <th>mean</th>\n",
       "      <td>4.813725</td>\n",
       "      <td>0.313725</td>\n",
       "      <td>16.215686</td>\n",
       "      <td>0.620000</td>\n",
       "      <td>0.833333</td>\n",
       "    </tr>\n",
       "    <tr>\n",
       "      <th>std</th>\n",
       "      <td>1.603000</td>\n",
       "      <td>0.468623</td>\n",
       "      <td>9.398540</td>\n",
       "      <td>0.490314</td>\n",
       "      <td>0.376622</td>\n",
       "    </tr>\n",
       "    <tr>\n",
       "      <th>min</th>\n",
       "      <td>2.000000</td>\n",
       "      <td>0.000000</td>\n",
       "      <td>3.000000</td>\n",
       "      <td>0.000000</td>\n",
       "      <td>0.000000</td>\n",
       "    </tr>\n",
       "    <tr>\n",
       "      <th>25%</th>\n",
       "      <td>3.750000</td>\n",
       "      <td>0.000000</td>\n",
       "      <td>8.500000</td>\n",
       "      <td>0.000000</td>\n",
       "      <td>1.000000</td>\n",
       "    </tr>\n",
       "    <tr>\n",
       "      <th>50%</th>\n",
       "      <td>5.000000</td>\n",
       "      <td>0.000000</td>\n",
       "      <td>15.000000</td>\n",
       "      <td>1.000000</td>\n",
       "      <td>1.000000</td>\n",
       "    </tr>\n",
       "    <tr>\n",
       "      <th>75%</th>\n",
       "      <td>6.000000</td>\n",
       "      <td>1.000000</td>\n",
       "      <td>24.500000</td>\n",
       "      <td>1.000000</td>\n",
       "      <td>1.000000</td>\n",
       "    </tr>\n",
       "    <tr>\n",
       "      <th>max</th>\n",
       "      <td>8.000000</td>\n",
       "      <td>1.000000</td>\n",
       "      <td>35.000000</td>\n",
       "      <td>1.000000</td>\n",
       "      <td>1.000000</td>\n",
       "    </tr>\n",
       "  </tbody>\n",
       "</table>\n",
       "</div>"
      ],
      "text/plain": [
       "       number of floors in your building  elevator(y/n)  \\\n",
       "count                          51.000000      51.000000   \n",
       "mean                            4.813725       0.313725   \n",
       "std                             1.603000       0.468623   \n",
       "min                             2.000000       0.000000   \n",
       "25%                             3.750000       0.000000   \n",
       "50%                             5.000000       0.000000   \n",
       "75%                             6.000000       1.000000   \n",
       "max                             8.000000       1.000000   \n",
       "\n",
       "       number of  apartments in your building  makolet on your street?(y/n)  \\\n",
       "count                               51.000000                     50.000000   \n",
       "mean                                16.215686                      0.620000   \n",
       "std                                  9.398540                      0.490314   \n",
       "min                                  3.000000                      0.000000   \n",
       "25%                                  8.500000                      0.000000   \n",
       "50%                                 15.000000                      1.000000   \n",
       "75%                                 24.500000                      1.000000   \n",
       "max                                 35.000000                      1.000000   \n",
       "\n",
       "       Yerushalyim? (y/n)  \n",
       "count           48.000000  \n",
       "mean             0.833333  \n",
       "std              0.376622  \n",
       "min              0.000000  \n",
       "25%              1.000000  \n",
       "50%              1.000000  \n",
       "75%              1.000000  \n",
       "max              1.000000  "
      ]
     },
     "execution_count": 5,
     "metadata": {},
     "output_type": "execute_result"
    }
   ],
   "source": [
    "data.describe()"
   ]
  },
  {
   "attachments": {},
   "cell_type": "markdown",
   "metadata": {},
   "source": [
    "We could see that the target isn't balanced, around 80% of them are in Yerushalayim. The test is on very small data therefore you can't really predict much."
   ]
  },
  {
   "cell_type": "code",
   "execution_count": 6,
   "metadata": {},
   "outputs": [
    {
     "name": "stdout",
     "output_type": "stream",
     "text": [
      "name 0\n",
      "number of floors in your building 2\n",
      "elevator(y/n) 2\n",
      "number of  apartments in your building 2\n",
      "makolet on your street?(y/n) 3\n",
      "Yerushalyim? (y/n) 5\n"
     ]
    }
   ],
   "source": [
    "for x in data.columns:\n",
    "    print(x, data[x].isnull().sum())"
   ]
  },
  {
   "cell_type": "code",
   "execution_count": 7,
   "metadata": {},
   "outputs": [],
   "source": [
    "data=data.dropna(axis=0)"
   ]
  },
  {
   "cell_type": "code",
   "execution_count": 8,
   "metadata": {},
   "outputs": [
    {
     "data": {
      "text/html": [
       "<div>\n",
       "<style scoped>\n",
       "    .dataframe tbody tr th:only-of-type {\n",
       "        vertical-align: middle;\n",
       "    }\n",
       "\n",
       "    .dataframe tbody tr th {\n",
       "        vertical-align: top;\n",
       "    }\n",
       "\n",
       "    .dataframe thead th {\n",
       "        text-align: right;\n",
       "    }\n",
       "</style>\n",
       "<table border=\"1\" class=\"dataframe\">\n",
       "  <thead>\n",
       "    <tr style=\"text-align: right;\">\n",
       "      <th></th>\n",
       "      <th>name</th>\n",
       "      <th>number of floors in your building</th>\n",
       "      <th>elevator(y/n)</th>\n",
       "      <th>number of  apartments in your building</th>\n",
       "      <th>makolet on your street?(y/n)</th>\n",
       "      <th>Yerushalyim? (y/n)</th>\n",
       "    </tr>\n",
       "  </thead>\n",
       "  <tbody>\n",
       "    <tr>\n",
       "      <th>0</th>\n",
       "      <td>Aidel Matskin</td>\n",
       "      <td>2.0</td>\n",
       "      <td>0.0</td>\n",
       "      <td>4.0</td>\n",
       "      <td>1.0</td>\n",
       "      <td>0.0</td>\n",
       "    </tr>\n",
       "    <tr>\n",
       "      <th>2</th>\n",
       "      <td>Aviva Winsbacher</td>\n",
       "      <td>4.0</td>\n",
       "      <td>0.0</td>\n",
       "      <td>8.0</td>\n",
       "      <td>0.0</td>\n",
       "      <td>0.0</td>\n",
       "    </tr>\n",
       "    <tr>\n",
       "      <th>3</th>\n",
       "      <td>Bassie Schoonmaker</td>\n",
       "      <td>6.0</td>\n",
       "      <td>0.0</td>\n",
       "      <td>12.0</td>\n",
       "      <td>1.0</td>\n",
       "      <td>0.0</td>\n",
       "    </tr>\n",
       "    <tr>\n",
       "      <th>4</th>\n",
       "      <td>Brina Rochel Kaplan</td>\n",
       "      <td>6.0</td>\n",
       "      <td>0.0</td>\n",
       "      <td>28.0</td>\n",
       "      <td>1.0</td>\n",
       "      <td>1.0</td>\n",
       "    </tr>\n",
       "    <tr>\n",
       "      <th>5</th>\n",
       "      <td>Bruchy Schweitzer</td>\n",
       "      <td>4.0</td>\n",
       "      <td>0.0</td>\n",
       "      <td>7.0</td>\n",
       "      <td>0.0</td>\n",
       "      <td>1.0</td>\n",
       "    </tr>\n",
       "  </tbody>\n",
       "</table>\n",
       "</div>"
      ],
      "text/plain": [
       "                  name  number of floors in your building  elevator(y/n)  \\\n",
       "0        Aidel Matskin                                2.0            0.0   \n",
       "2     Aviva Winsbacher                                4.0            0.0   \n",
       "3   Bassie Schoonmaker                                6.0            0.0   \n",
       "4  Brina Rochel Kaplan                                6.0            0.0   \n",
       "5    Bruchy Schweitzer                                4.0            0.0   \n",
       "\n",
       "   number of  apartments in your building  makolet on your street?(y/n)  \\\n",
       "0                                     4.0                           1.0   \n",
       "2                                     8.0                           0.0   \n",
       "3                                    12.0                           1.0   \n",
       "4                                    28.0                           1.0   \n",
       "5                                     7.0                           0.0   \n",
       "\n",
       "   Yerushalyim? (y/n)  \n",
       "0                 0.0  \n",
       "2                 0.0  \n",
       "3                 0.0  \n",
       "4                 1.0  \n",
       "5                 1.0  "
      ]
     },
     "execution_count": 8,
     "metadata": {},
     "output_type": "execute_result"
    }
   ],
   "source": [
    "data.head()"
   ]
  },
  {
   "cell_type": "code",
   "execution_count": 9,
   "metadata": {},
   "outputs": [],
   "source": [
    "X= data.drop(['Yerushalyim? (y/n)','name'], axis=1)\n",
    "y=data['Yerushalyim? (y/n)']"
   ]
  },
  {
   "cell_type": "code",
   "execution_count": 10,
   "metadata": {},
   "outputs": [],
   "source": [
    "X_train, X_test, y_train, y_test = train_test_split(X, y, test_size=.15)"
   ]
  },
  {
   "cell_type": "code",
   "execution_count": 11,
   "metadata": {},
   "outputs": [
    {
     "name": "stdout",
     "output_type": "stream",
     "text": [
      "1.0\n"
     ]
    }
   ],
   "source": [
    "model = LogisticRegression(max_iter= 500, penalty='l2',C=.5)\n",
    "model.fit(X_train, y_train)\n",
    "pred= model.predict(X_test)\n",
    "accuracy = accuracy_score(y_test, pred)\n",
    "print(accuracy)"
   ]
  },
  {
   "cell_type": "code",
   "execution_count": 12,
   "metadata": {},
   "outputs": [
    {
     "name": "stdout",
     "output_type": "stream",
     "text": [
      "[1. 1. 1. 1. 1. 1. 1.]\n"
     ]
    }
   ],
   "source": [
    "print(pred)"
   ]
  },
  {
   "cell_type": "code",
   "execution_count": 13,
   "metadata": {},
   "outputs": [
    {
     "name": "stdout",
     "output_type": "stream",
     "text": [
      "    actual  predicted\n",
      "39     1.0        1.0\n",
      "31     1.0        1.0\n",
      "32     1.0        1.0\n",
      "6      1.0        1.0\n",
      "25     1.0        1.0\n",
      "13     1.0        1.0\n",
      "20     1.0        1.0\n"
     ]
    }
   ],
   "source": [
    "pred_df = pd.DataFrame(columns=['actual', 'predicted'])\n",
    "pred_df['actual']=y_test\n",
    "pred_df['predicted']=pred\n",
    "print(pred_df)"
   ]
  },
  {
   "attachments": {},
   "cell_type": "markdown",
   "metadata": {},
   "source": [
    "In order to improve the model we would neet to get more data , and to get more features that would help us predict the target. "
   ]
  },
  {
   "cell_type": "code",
   "execution_count": null,
   "metadata": {},
   "outputs": [],
   "source": []
  }
 ],
 "metadata": {
  "kernelspec": {
   "display_name": "base",
   "language": "python",
   "name": "python3"
  },
  "language_info": {
   "codemirror_mode": {
    "name": "ipython",
    "version": 3
   },
   "file_extension": ".py",
   "mimetype": "text/x-python",
   "name": "python",
   "nbconvert_exporter": "python",
   "pygments_lexer": "ipython3",
   "version": "3.9.12"
  },
  "orig_nbformat": 4
 },
 "nbformat": 4,
 "nbformat_minor": 2
}
