{
 "cells": [
  {
   "cell_type": "code",
   "execution_count": 1,
   "metadata": {},
   "outputs": [
    {
     "ename": "FileNotFoundError",
     "evalue": "[Errno 2] No such file or directory: 'laptops.csv'",
     "output_type": "error",
     "traceback": [
      "\u001b[1;31m---------------------------------------------------------------------------\u001b[0m",
      "\u001b[1;31mFileNotFoundError\u001b[0m                         Traceback (most recent call last)",
      "\u001b[1;32mc:\\Users\\admin\\Documents\\guided project\\malka\\guided_project.ipynb Cell 1\u001b[0m in \u001b[0;36m<cell line: 3>\u001b[1;34m()\u001b[0m\n\u001b[0;32m      <a href='vscode-notebook-cell:/c%3A/Users/admin/Documents/guided%20project/malka/guided_project.ipynb#W0sZmlsZQ%3D%3D?line=0'>1</a>\u001b[0m \u001b[39m# The Dataset\u001b[39;00m\n\u001b[0;32m      <a href='vscode-notebook-cell:/c%3A/Users/admin/Documents/guided%20project/malka/guided_project.ipynb#W0sZmlsZQ%3D%3D?line=1'>2</a>\u001b[0m \u001b[39mimport\u001b[39;00m \u001b[39mcsv\u001b[39;00m\n\u001b[1;32m----> <a href='vscode-notebook-cell:/c%3A/Users/admin/Documents/guided%20project/malka/guided_project.ipynb#W0sZmlsZQ%3D%3D?line=2'>3</a>\u001b[0m f \u001b[39m=\u001b[39m \u001b[39mopen\u001b[39;49m(\u001b[39m'\u001b[39;49m\u001b[39mlaptops.csv\u001b[39;49m\u001b[39m'\u001b[39;49m)\n\u001b[0;32m      <a href='vscode-notebook-cell:/c%3A/Users/admin/Documents/guided%20project/malka/guided_project.ipynb#W0sZmlsZQ%3D%3D?line=3'>4</a>\u001b[0m r \u001b[39m=\u001b[39m csv\u001b[39m.\u001b[39mreader(f)\n\u001b[0;32m      <a href='vscode-notebook-cell:/c%3A/Users/admin/Documents/guided%20project/malka/guided_project.ipynb#W0sZmlsZQ%3D%3D?line=4'>5</a>\u001b[0m laptop \u001b[39m=\u001b[39m \u001b[39mlist\u001b[39m(r)\n",
      "\u001b[1;31mFileNotFoundError\u001b[0m: [Errno 2] No such file or directory: 'laptops.csv'"
     ]
    }
   ],
   "source": [
    "# The Dataset\n",
    "import csv\n",
    "f = open('laptops.csv')\n",
    "r = csv.reader(f)\n",
    "laptop = list(r)\n",
    "header=laptop[0]\n",
    "rows=laptop[1:]\n"
   ]
  },
  {
   "cell_type": "code",
   "execution_count": 2,
   "metadata": {},
   "outputs": [
    {
     "name": "stdout",
     "output_type": "stream",
     "text": [
      "['Id', 'Company', 'Product', 'TypeName', 'Inches', 'ScreenResolution', 'Cpu', 'Ram', 'Memory', 'Gpu', 'OpSys', 'Weight', 'Price']\n",
      "1303\n"
     ]
    },
    {
     "data": {
      "text/plain": [
       "<__main__.Inventory at 0x7f48b6f913a0>"
      ]
     },
     "execution_count": 2,
     "metadata": {},
     "output_type": "execute_result"
    }
   ],
   "source": [
    "# Inventory Class\n",
    "class Inventory():\n",
    "\n",
    "    def __init__(self, csv_filename):\n",
    "        import csv\n",
    "        f = open('laptops.csv')\n",
    "        r = csv.reader(f)\n",
    "        csv_filename = list(r)\n",
    "        self.header = csv_filename[0]\n",
    "        self.rows = csv_filename[1:]\n",
    "        for price in self.rows:\n",
    "            price[-1]=price[-1].replace(',','.')\n",
    "            price[-1] = float(price[-1])\n",
    "        print(self.header)\n",
    "        print(len(self.rows))\n",
    "Inventory(laptop)"
   ]
  },
  {
   "cell_type": "code",
   "execution_count": 3,
   "metadata": {},
   "outputs": [
    {
     "name": "stdout",
     "output_type": "stream",
     "text": [
      "None\n"
     ]
    }
   ],
   "source": [
    "# Finding a Laptop From the Id\n",
    "class Inventory():\n",
    "\n",
    "    def __init__(self, csv_filename):\n",
    "        import csv\n",
    "        f = open('laptops.csv')\n",
    "        r = csv.reader(f)\n",
    "        csv_filename = list(r)\n",
    "        self.header = csv_filename[0]\n",
    "        self.rows = csv_filename[1:]\n",
    "        for price in self.rows:\n",
    "            price[-1]=price[-1].replace(',','.')\n",
    "            price[-1] = float(price[-1])\n",
    "        \n",
    "        \n",
    "    def get_laptop_from_id(self ,laptop_id):\n",
    "        for row in self.rows:\n",
    "            if row[0]==laptop_id:\n",
    "                return row \n",
    "        return None \n",
    "my=Inventory(laptop)\n",
    "my.get_laptop_from_id('3362737')\n",
    "print(my.get_laptop_from_id('3362736'))"
   ]
  },
  {
   "cell_type": "code",
   "execution_count": 4,
   "metadata": {},
   "outputs": [
    {
     "name": "stdout",
     "output_type": "stream",
     "text": [
      "['HP', '250 G6', 'Notebook', '15.6', 'Full HD 1920x1080', 'Intel Core i5 7200U 2.5GHz', '8GB', '256GB SSD', 'Intel HD Graphics 620', 'No OS', '1.86kg', 575.0]\n",
      "None\n"
     ]
    }
   ],
   "source": [
    "#  Improving Id Lookups\n",
    "class Inventory():\n",
    "\n",
    "    def __init__(self, csv_filename):\n",
    "        import csv\n",
    "        f = open('laptops.csv')\n",
    "        r = csv.reader(f)\n",
    "        csv_filename = list(r)\n",
    "        self.header = csv_filename[0]\n",
    "        self.rows = csv_filename[1:]\n",
    "        self.id_to_row={}\n",
    "        for price in self.rows:\n",
    "            price[-1]=price[-1].replace(',','.')\n",
    "            price[-1] = float(price[-1])\n",
    "        for row in self.rows:\n",
    "            self.id_to_row[row[0]]=row[1:]\n",
    "        \n",
    "    def get_laptop_from_id(self ,laptop_id):\n",
    "        for row in self.rows:\n",
    "            if row[0]==laptop_id:\n",
    "                return row \n",
    "        return None\n",
    "    \n",
    "    def get_laptop_from_id_fast(self,laptop_id):\n",
    "        if laptop_id in self.id_to_row:\n",
    "            return self.id_to_row[laptop_id]\n",
    "        else:\n",
    "            return None\n",
    "        \n",
    "my=Inventory(laptop)\n",
    "print(my.get_laptop_from_id_fast('3362737'))\n",
    "print(my.get_laptop_from_id_fast('3362736'))"
   ]
  },
  {
   "cell_type": "code",
   "execution_count": 5,
   "metadata": {},
   "outputs": [
    {
     "name": "stdout",
     "output_type": "stream",
     "text": [
      "0.05374407768249512\n",
      "13.743639707565308\n"
     ]
    }
   ],
   "source": [
    "# Comparing the Performance\n",
    "import time\n",
    "import random\n",
    "ids = [random.randint(1000000, 9999999) for _ in range (10000)]\n",
    "ids=str(ids)\n",
    "my=Inventory(laptop)\n",
    "total_time_no_dict=0\n",
    "total_time_dict=0\n",
    "\n",
    "for id in ids:\n",
    "    start = time.time()\n",
    "    my.get_laptop_from_id(id)\n",
    "    end = time.time()\n",
    "    elapsed = end - start\n",
    "    total_time_no_dict+=elapsed\n",
    "    \n",
    "for id in ids:\n",
    "    start = time.time()\n",
    "    my.get_laptop_from_id_fast(id)\n",
    "    end = time.time()\n",
    "    elapsed = end - start\n",
    "    total_time_dict+=elapsed\n",
    "    \n",
    "    \n",
    "print(total_time_dict)\n",
    "print(total_time_no_dict)\n",
    "\n"
   ]
  },
  {
   "cell_type": "code",
   "execution_count": 6,
   "metadata": {},
   "outputs": [
    {
     "name": "stdout",
     "output_type": "stream",
     "text": [
      "True\n",
      "False\n"
     ]
    }
   ],
   "source": [
    "# Two Laptop Promotion\n",
    "class Inventory():\n",
    "\n",
    "    def __init__(self, csv_filename):\n",
    "        import csv\n",
    "        f = open('laptops.csv')\n",
    "        r = csv.reader(f)\n",
    "        csv_filename = list(r)\n",
    "        self.header = csv_filename[0]\n",
    "        self.rows = csv_filename[1:]\n",
    "        self.id_to_row={}\n",
    "        for price in self.rows:\n",
    "            price[-1]=price[-1].replace(',','.')\n",
    "            price[-1] = float(price[-1])\n",
    "        for row in self.rows:\n",
    "            self.id_to_row[row[0]]=row[1:]\n",
    "        \n",
    "    def get_laptop_from_id(self ,laptop_id):\n",
    "        for row in self.rows:\n",
    "            if row[0]==laptop_id:\n",
    "                return row \n",
    "        return None\n",
    "    \n",
    "    def get_laptop_from_id_fast(self,laptop_id):\n",
    "        if laptop_id in self.id_to_row:\n",
    "            return self.id_to_row[laptop_id]\n",
    "        else:\n",
    "            return None\n",
    "    \n",
    "    def check_promotion_dollars(self,dollars):\n",
    "        for row in self.rows:\n",
    "            if row[-1]==dollars:\n",
    "                 return True\n",
    "            for row1 in self.rows:\n",
    "                if row[-1]+row1[-1]==dollars:\n",
    "                    return True\n",
    "        return False\n",
    "    \n",
    "my=Inventory(laptop)\n",
    "print(my.check_promotion_dollars(1000))\n",
    "print(my.check_promotion_dollars(442))\n",
    "    \n",
    "    "
   ]
  },
  {
   "cell_type": "code",
   "execution_count": 7,
   "metadata": {},
   "outputs": [
    {
     "name": "stdout",
     "output_type": "stream",
     "text": [
      "True\n",
      "False\n"
     ]
    }
   ],
   "source": [
    "# Optimizing Laptop Promotion\n",
    "class Inventory():\n",
    "\n",
    "    def __init__(self, csv_filename):\n",
    "        import csv\n",
    "        f = open('laptops.csv')\n",
    "        r = csv.reader(f)\n",
    "        csv_filename = list(r)\n",
    "        self.header = csv_filename[0]\n",
    "        self.rows = csv_filename[1:]\n",
    "        self.id_to_row={}\n",
    "        self.prices=set()\n",
    "        for price in self.rows:\n",
    "            price[-1]=price[-1].replace(',','.')\n",
    "            price[-1] = float(price[-1])\n",
    "        for row in self.rows:\n",
    "            self.id_to_row[row[0]]=row[1:]\n",
    "        for row in self.rows:\n",
    "            self.prices.add(row[-1])\n",
    "        \n",
    "    def get_laptop_from_id(self ,laptop_id):\n",
    "        for row in self.rows:\n",
    "            if row[0]==laptop_id:\n",
    "                return row \n",
    "        return None\n",
    "    \n",
    "    def get_laptop_from_id_fast(self,laptop_id):\n",
    "        if laptop_id in self.id_to_row:\n",
    "            return self.id_to_row[laptop_id]\n",
    "        else:\n",
    "            return None\n",
    "    \n",
    "    def check_promotion_dollars(self,dollars):\n",
    "        for row in self.rows:\n",
    "            if row[-1]==dollars:\n",
    "                 return True\n",
    "            for row1 in self.rows:\n",
    "                if row[-1]+row1[-1]==dollars:\n",
    "                    return True\n",
    "        return False\n",
    "    def check_promotion_dollars_fast(self,dollars):\n",
    "        for price in self.prices:\n",
    "            if price==dollars:\n",
    "                 return True\n",
    "            for price1 in self.prices:\n",
    "                if price1+price==dollars:\n",
    "                    return True\n",
    "        return False\n",
    "    \n",
    "my=Inventory(laptop)\n",
    "print(my.check_promotion_dollars_fast(1000))\n",
    "print(my.check_promotion_dollars_fast(442))"
   ]
  },
  {
   "cell_type": "code",
   "execution_count": 8,
   "metadata": {
    "scrolled": true
   },
   "outputs": [
    {
     "name": "stdout",
     "output_type": "stream",
     "text": [
      "0.47747254371643066\n",
      "2.2472875118255615\n"
     ]
    }
   ],
   "source": [
    "# Comparing Promotion Functions\n",
    "import time\n",
    "import random\n",
    "prices = [random.randint(100, 5000) for _ in range (100)]\n",
    "my=Inventory(laptop)\n",
    "total_time_no_set=0\n",
    "total_time_set=0\n",
    "\n",
    "for price in prices:\n",
    "    start = time.time()\n",
    "    my.check_promotion_dollars(price)\n",
    "    end = time.time()\n",
    "    elapsed = end - start\n",
    "    total_time_no_set+=elapsed\n",
    "\n",
    "for price in prices:\n",
    "    start = time.time()\n",
    "    my.check_promotion_dollars_fast(price)\n",
    "    end = time.time()\n",
    "    elapsed = end - start\n",
    "    total_time_set+=elapsed\n",
    "    \n",
    "print(total_time_set)\n",
    "print(total_time_no_set)\n"
   ]
  },
  {
   "cell_type": "code",
   "execution_count": 12,
   "metadata": {},
   "outputs": [
    {
     "name": "stdout",
     "output_type": "stream",
     "text": [
      "682\n",
      "-1\n"
     ]
    }
   ],
   "source": [
    "#  Finding Laptops Within a Budget\n",
    "def row_price(row):\n",
    "    return row[-1]\n",
    "class Inventory():\n",
    "    def __init__(self, csv_filename):\n",
    "        import csv\n",
    "        o = open('laptops.csv')\n",
    "        r = csv.reader(o)\n",
    "        csv_filename = list(r)\n",
    "        self.header = csv_filename[0]\n",
    "        self.rows= csv_filename[1:]\n",
    "        self.id_to_row={}\n",
    "        self.prices=set()\n",
    "        for price in self.rows:\n",
    "            price[-1]=price[-1].replace(',','.')\n",
    "            price[-1] = float(price[-1])\n",
    "        for row in self.rows:\n",
    "            self.id_to_row[row[0]]=row[1:]\n",
    "        for row in self.rows:\n",
    "            self.prices.add(row[-1])\n",
    "        self.rows_by_price = sorted(self.rows, key=row_price)\n",
    "    def get_laptop_from_id(self, laptop_id):\n",
    "        for row in self.rows:\n",
    "            if row[0] == laptop_id:\n",
    "                return row\n",
    "        return None\n",
    "    def get_laptop_from_id_fast(self, laptop_id):\n",
    "        if laptop_id in self.id_to_row:\n",
    "            return self.id_to_row[laptop_id]\n",
    "        else:\n",
    "            return None\n",
    "    def check_promotion_dollars(self, dollars):\n",
    "        for row in self.rows:\n",
    "            if row[-1] == dollars:\n",
    "                return True\n",
    "            for row1 in self.rows:\n",
    "                if row[-1]+ row1[-1] == dollars:\n",
    "                    return True\n",
    "        return False\n",
    "    def check_promotion_dollars_fast(self, dollars):\n",
    "        for price in self.prices:\n",
    "            if dollars in self.prices:\n",
    "                return True\n",
    "            for price1 in self.prices:\n",
    "                if price1+price == dollars:\n",
    "                    return True\n",
    "        return False\n",
    "    def find_first_laptop_more_expensive(self, target_price):\n",
    "        range_start = 0\n",
    "        range_end = len(self.rows_by_price) - 1\n",
    "        while range_start < range_end:\n",
    "            range_middle = (range_end + range_start) // 2\n",
    "            price = self.rows_by_price[range_middle][-1]\n",
    "            if price == target_price:\n",
    "                return range_middle\n",
    "            elif price < target_price:\n",
    "                range_start = range_middle + 1\n",
    "            else:\n",
    "                range_end = range_middle - 1\n",
    "        price = self.rows_by_price[range_start][-1]\n",
    "        if price != target_price:\n",
    "            return -1\n",
    "        return range_start\n",
    "my=Inventory(laptop)\n",
    "print(my.find_first_laptop_more_expensive(1000))\n",
    "print(my.find_first_laptop_more_expensive(10000))\n"
   ]
  },
  {
   "cell_type": "code",
   "execution_count": 13,
   "metadata": {},
   "outputs": [],
   "source": []
  },
  {
   "cell_type": "code",
   "execution_count": 21,
   "metadata": {},
   "outputs": [
    {
     "name": "stdout",
     "output_type": "stream",
     "text": [
      "[['7287764', 'Apple', 'Macbook Air', 'Ultrabook', '13.3', '1440x900', 'Intel Core i5 1.8GHz', '8GB', '128GB Flash Storage', 'Intel HD Graphics 6000', 'macOS', '1.34kg', 898.0], ['9202701', 'Acer', 'Swift 3', 'Ultrabook', '14', 'IPS Panel Full HD 1920x1080', 'Intel Core i5 8250U 1.6GHz', '8GB', '256GB SSD', 'Intel UHD Graphics 620', 'Windows 10', '1.6kg', 770.0], ['8371792', 'Dell', 'Inspiron 3567', 'Notebook', '15.6', 'Full HD 1920x1080', 'Intel Core i7 7500U 2.7GHz', '8GB', '256GB SSD', 'AMD Radeon R5 M430', 'Windows 10', '2.2kg', 745.0], ['4991632', 'Dell', 'XPS 13', 'Ultrabook', '13.3', 'IPS Panel Full HD / Touchscreen 1920x1080', 'Intel Core i5 8250U 1.6GHz', '8GB', '128GB SSD', 'Intel UHD Graphics 620', 'Windows 10', '1.22kg', 979.0], ['5650428', 'Lenovo', 'Legion Y520-15IKBN', 'Gaming', '15.6', 'IPS Panel Full HD 1920x1080', 'Intel Core i5 7300HQ 2.5GHz', '8GB', '128GB SSD +  1TB HDD', 'Nvidia GeForce GTX 1050', 'Windows 10', '2.5kg', 999.0], ['1940272', 'Dell', 'Inspiron 5379', '2 in 1 Convertible', '13.3', 'Full HD / Touchscreen 1920x1080', 'Intel Core i5 8250U 1.6GHz', '8GB', '256GB SSD', 'Intel UHD Graphics 620', 'Windows 10', '1.62kg', 819.0], ['5634391', 'Dell', 'Inspiron 5570', 'Notebook', '15.6', 'Full HD 1920x1080', 'Intel Core i5 8250U 1.6GHz', '8GB', '256GB SSD', 'AMD Radeon 530', 'Windows 10', '2.2kg', 800.0], ['9600663', 'HP', 'ProBook 470', 'Notebook', '17.3', 'Full HD 1920x1080', 'Intel Core i5 8250U 1.6GHz', '8GB', '1TB HDD', 'Nvidia GeForce 930MX', 'Windows 10', '2.5kg', 896.0], ['2877805', 'Apple', 'MacBook Air', 'Ultrabook', '13.3', '1440x900', 'Intel Core i5 1.6GHz', '8GB', '256GB Flash Storage', 'Intel HD Graphics 6000', 'Mac OS X', '1.35kg', 998.0], ['4621708', 'Dell', 'Inspiron 5770', 'Notebook', '17.3', 'IPS Panel Full HD 1920x1080', 'Intel Core i5 8250U 1.6GHz', '8GB', '128GB SSD +  1TB HDD', 'AMD Radeon 530', 'Windows 10', '2.8kg', 979.0], ['8367566', 'HP', 'ProBook 450', 'Notebook', '15.6', 'Full HD 1920x1080', 'Intel Core i5 8250U 1.6GHz', '8GB', '256GB SSD', 'Nvidia GeForce 930MX ', 'Windows 10', '2.1kg', 879.0], ['2459229', 'Dell', 'Inspiron 7773', '2 in 1 Convertible', '17.3', 'Full HD / Touchscreen 1920x1080', 'Intel Core i5 8250U 1.6GHz', '12GB', '1TB HDD', 'Nvidia GeForce 150MX', 'Windows 10', '2.77kg', 999.0], ['1786745', 'Acer', 'Aspire A515-51G', 'Notebook', '15.6', 'IPS Panel Full HD 1920x1080', 'Intel Core i7 8550U 1.8GHz', '8GB', '256GB SSD', 'Nvidia GeForce MX150', 'Windows 10', '2.2kg', 841.0], ['3201203', 'Dell', 'Inspiron 3576', 'Notebook', '15.6', 'Full HD 1920x1080', 'Intel Core i7 8550U 1.8GHz', '8GB', '256GB SSD', 'AMD Radeon 520', 'Windows 10', '2.13kg', 767.0], ['8845657', 'Dell', 'Vostro 5471', 'Ultrabook', '14', 'Full HD 1920x1080', 'Intel Core i5 8250U 1.6GHz', '8GB', '256GB SSD', 'Intel UHD Graphics 620', 'Windows 10', '1.7kg', 879.0], ['6337731', 'Asus', 'UX410UA-GV350T (i5-8250U/8GB/256GB/FHD/W10)', 'Notebook', '14', 'Full HD 1920x1080', 'Intel Core i5 8250U 1.6GHz', '8GB', '256GB SSD', 'Intel UHD Graphics 620', 'Windows 10', '1.4kg', 941.0], ['8544205', 'Asus', 'FX753VE-GC093 (i7-7700HQ/12GB/1TB/GeForce', 'Gaming', '17.3', 'Full HD 1920x1080', 'Intel Core i7 7700HQ 2.8GHz', '12GB', '1TB HDD', 'Nvidia GeForce GTX 1050 Ti', 'Linux', '3kg', 949.0], ['4682835', 'Dell', 'Inspiron 5370', 'Ultrabook', '13.3', 'IPS Panel Full HD 1920x1080', 'Intel Core i7 8550U 1.8GHz', '8GB', '256GB SSD', 'AMD Radeon 530', 'Windows 10', '1.4kg', 955.0], ['6152791', 'Dell', 'Inspiron 5570', 'Notebook', '15.6', 'Full HD 1920x1080', 'Intel Core i7 8550U 1.8GHz', '8GB', '256GB SSD', 'AMD Radeon 530', 'Windows 10', '2.2kg', 870.0], ['5741011', 'Asus', 'FX503VD-E4022T (i7-7700HQ/8GB/1TB/GeForce', 'Gaming', '15.6', 'Full HD 1920x1080', 'Intel Core i7 7700HQ 2.8GHz', '8GB', '1TB HDD', 'Nvidia GeForce GTX 1050', 'Windows 10', '2.2kg', 949.0], ['6107447', 'Dell', 'Inspiron 5570', 'Notebook', '15.6', 'Full HD 1920x1080', 'Intel Core i7 8550U 1.8GHz', '8GB', '128GB SSD +  1TB HDD', 'Intel UHD Graphics 620', 'Windows 10', '2.02kg', 855.0], ['5210941', 'HP', 'ProBook 470', 'Notebook', '17.3', 'Full HD 1920x1080', 'Intel Core i5 8250U 1.6GHz', '8GB', '128GB SSD +  1TB HDD', 'Nvidia GeForce 930MX', 'Windows 10', '2.5kg', 977.0], ['8225398', 'HP', 'ProBook 440', 'Notebook', '14', 'Full HD 1920x1080', 'Intel Core i5 8250U 1.6GHz', '8GB', '256GB SSD', 'Intel HD Graphics 620', 'Windows 10', '1.63kg', 860.0], ['8421453', 'Acer', 'Spin 5', '2 in 1 Convertible', '13.3', 'IPS Panel Full HD / Touchscreen 1920x1080', 'Intel Core i5 8250U 1.6GHz', '8GB', '256GB SSD', 'Intel UHD Graphics 620', 'Windows 10', '1.5kg', 847.0], ['7283234', 'HP', '15-bs017nv (i7-7500U/8GB/256GB/Radeon', 'Notebook', '15.6', 'Full HD 1920x1080', 'Intel Core i7 7500U 2.7GHz', '8GB', '256GB SSD', 'AMD Radeon 530', 'Windows 10', '1.91kg', 719.0], ['7497980', 'HP', 'Probook 440', 'Notebook', '14', 'IPS Panel 1366x768', 'Intel Core i5 8250U 1.6GHz', '4GB', '500GB HDD', 'Intel UHD Graphics 620', 'Windows 10', '1.63kg', 722.0], ['5630248', 'HP', 'Probook 440', 'Notebook', '14', 'Full HD 1920x1080', 'Intel Core i5 8250U 1.6GHz', '8GB', '1TB HDD', 'Intel UHD Graphics 620', 'Windows 10', '1.63kg', 812.0], ['2355172', 'HP', 'ProBook 470', 'Notebook', '17.3', 'Full HD 1920x1080', 'Intel Core i5 8250U 1.6GHz', '8GB', '256GB SSD', 'Intel UHD Graphics 620', 'Windows 10', '2.5kg', 928.0], ['2618138', 'Acer', 'Swift 3', 'Ultrabook', '14', 'IPS Panel Full HD 1920x1080', 'Intel Core i7 8550U 1.8GHz', '8GB', '256GB SSD', 'Intel UHD Graphics 620', 'Windows 10', '1.6kg', 884.0], ['9750975', 'HP', 'Probook 440', 'Notebook', '14', 'Full HD 1920x1080', 'Intel Core i7 8550U 1.8GHz', '8GB', '256GB SSD', 'Intel UHD Graphics 620', 'Windows 10', '1.63kg', 988.0], ['2724402', 'Asus', 'FX753VD-GC086T (i5-7300HQ/8GB/1TB', 'Gaming', '17.3', 'Full HD 1920x1080', 'Intel Core i5 7300HQ 2.5GHz', '8GB', '128GB SSD +  1TB HDD', 'Nvidia GeForce GTX 1050', 'Windows 10', '3kg', 938.0], ['6085824', 'Lenovo', 'Legion Y520-15IKBN', 'Gaming', '15.6', 'IPS Panel Full HD 1920x1080', 'Intel Core i7 7700HQ 2.8GHz', '8GB', '256GB SSD', 'Nvidia GeForce GTX 1050M', 'No OS', '2.4kg', 869.0], ['8959799', 'Dell', 'Inspiron 7567', 'Gaming', '15.6', 'Full HD 1920x1080', 'Intel Core i7 7700HQ 2.8GHz', '8GB', '1.0TB Hybrid', 'Nvidia GeForce GTX 1050', 'Windows 10', '2.62kg', 899.0], ['5195468', 'Acer', 'Aspire A517-51G', 'Notebook', '17.3', 'IPS Panel Full HD 1920x1080', 'Intel Core i5 8250U 1.6GHz', '4GB', '256GB SSD', 'Nvidia GeForce MX150', 'Windows 10', '3kg', 805.0], ['7196316', 'Dell', 'Inspiron 3576', 'Notebook', '15.6', 'Full HD 1920x1080', 'Intel Core i5 8250U 1.6GHz', '8GB', '256GB SSD', 'AMD Radeon 520', 'Windows 10', '2.13kg', 728.0], ['9494115', 'Acer', 'Aspire A517-51G', 'Notebook', '17.3', 'IPS Panel Full HD 1920x1080', 'Intel Core i5 8250U 1.6GHz', '8GB', '256GB SSD', 'Nvidia GeForce MX150', 'Windows 10', '3kg', 854.0], ['3105555', 'HP', 'ProBook 430', 'Notebook', '13.3', 'IPS Panel Full HD 1920x1080', 'Intel Core i5 8250U 1.6GHz', '4GB', '500GB HDD', 'Intel UHD Graphics 620', 'Windows 10', '1.49kg', 754.0], ['1525448', 'HP', 'ProBook 470', 'Notebook', '17.3', 'Full HD 1920x1080', 'Intel Core i5 8250U 1.6GHz', '8GB', '256GB SSD', 'Nvidia GeForce 930MX', 'Windows 10', '2.5kg', 923.0], ['3093053', 'Lenovo', 'V310-15IKB (i5-7200U/8GB/1TB', 'Notebook', '15.6', 'Full HD 1920x1080', 'Intel Core i5 7200U 2.5GHz', '8GB', '128GB SSD +  1TB HDD', 'AMD R17M-M1-70', 'Windows 10', '1.90kg', 813.0], ['5895262', 'Toshiba', 'Satellite Pro', 'Notebook', '15.6', '1366x768', 'Intel Core i5 7200U 2.5GHz', '8GB', '128GB SSD', 'Intel HD Graphics 620', 'Windows 10', '2.0kg', 793.0], ['6280119', 'Lenovo', 'Legion Y520-15IKBN', 'Gaming', '15.6', 'IPS Panel Full HD 1920x1080', 'Intel Core i5 7300HQ 2.5GHz', '8GB', '256GB SSD', 'Nvidia GeForce GTX 1050', 'No OS', '2.4kg', 779.0], ['5141214', 'Acer', 'Swift 7', 'Ultrabook', '13.3', 'IPS Panel Full HD 1920x1080', 'Intel Core i5 7Y54 1.2GHz', '8GB', '256GB SSD', 'Intel HD Graphics 615', 'Windows 10', '1.12kg', 989.0], ['1283932', 'Xiaomi', 'Mi Notebook', 'Ultrabook', '13.3', 'IPS Panel Full HD 1920x1080', 'Intel Core i5 7200U 2.5GHz', '8GB', '256GB SSD', 'Nvidia GeForce MX150', 'No OS', '1.3kg', 999.0], ['5453672', 'Dell', 'Inspiron 5379', '2 in 1 Convertible', '13.3', 'IPS Panel Full HD / Touchscreen 1920x1080', 'Intel Core i7 8550U 1.8GHz', '8GB', '1TB HDD', 'Intel UHD Graphics 620', 'Windows 10', '1.62kg', 839.0], ['3606207', 'HP', 'ProBook 470', 'Notebook', '17.3', 'IPS Panel Full HD 1920x1080', 'Intel Core i5 8250U 1.6GHz', '8GB', '1TB HDD', 'Nvidia GeForce 930MX', 'Windows 10', '2.5kg', 914.0], ['6592668', 'HP', 'ProBook 430', 'Notebook', '13.3', 'Full HD 1920x1080', 'Intel Core i5 8250U 1.6GHz', '8GB', '512GB SSD', 'Intel UHD Graphics 620', 'Windows 10', '1.49kg', 959.0], ['5060088', 'Acer', 'Aspire E5-576G', 'Notebook', '15.6', 'Full HD 1920x1080', 'Intel Core i7 7500U 2.7GHz', '8GB', '1TB HDD', 'Nvidia GeForce 940MX', 'Windows 10', '2.23kg', 742.0], ['1922158', 'Acer', 'Aspire 7', 'Notebook', '15.6', 'Full HD 1920x1080', 'Intel Core i7 7700HQ 2.8GHz', '8GB', '1TB HDD', 'Nvidia GeForce GTX 1050', 'Linux', '2.4kg', 779.0], ['9354140', 'Dell', 'Inspiron 5370', 'Ultrabook', '13.3', 'IPS Panel Full HD 1920x1080', 'Intel Core i7 8550U 1.8GHz', '8GB', '256GB SSD', 'AMD Radeon 530', 'Windows 10', '1.4kg', 931.0], ['9390454', 'Lenovo', 'Yoga 520-14IKB', '2 in 1 Convertible', '14', 'IPS Panel Full HD 1920x1080', 'Intel Core i5 8250U 1.6GHz', '8GB', '256GB SSD', 'Intel UHD Graphics 620', 'Windows 10', '1.74kg', 899.0], ['3284519', 'HP', 'ProBook 450', 'Notebook', '15.6', 'Full HD 1920x1080', 'Intel Core i5 8250U 1.6GHz', '8GB', '1TB HDD', 'Intel UHD Graphics 620', 'Windows 10', '2.1kg', 794.0], ['5075075', 'Acer', 'Aspire E5-576G', 'Notebook', '15.6', 'Full HD 1920x1080', 'Intel Core i7 7500U 2.7GHz', '8GB', '256GB SSD', 'Nvidia GeForce 940MX', 'Windows 10', '2.2kg', 832.0], ['7436397', 'Dell', 'Inspiron 5567', 'Notebook', '15.6', 'Full HD / Touchscreen 1920x1080', 'Intel Core i7 7500U 2.7GHz', '16GB', '1TB HDD', 'AMD Radeon R7 M445', 'Windows 10', '2.3kg', 859.0], ['2579949', 'Asus', 'Vivobook X541UV-DM1217T', 'Notebook', '15.6', 'Full HD 1920x1080', 'Intel Core i5 7200U 2.5GHz', '8GB', '256GB SSD', 'Nvidia GeForce 920MX ', 'Windows 10', '2kg', 769.0], ['3301667', 'Asus', 'K756UX-T4340T (i5-7200U/8GB/500GB', 'Notebook', '17.3', 'Full HD 1920x1080', 'Intel Core i5 7200U 2.5GHz', '8GB', '256GB SSD +  500GB HDD', 'Nvidia GeForce GTX 950M', 'Windows 10', '2.69kg', 891.0], ['8259646', 'Dell', 'Vostro 5468', 'Notebook', '14', 'Full HD 1920x1080', 'Intel Core i5 7200U 2.5GHz', '8GB', '256GB SSD', 'Intel HD Graphics 620', 'Windows 10', '1.6kg', 859.0], ['7106466', 'Dell', 'Inspiron 5567', 'Notebook', '15.6', 'Full HD 1920x1080', 'Intel Core i7 7500U 2.7GHz', '16GB', '256GB SSD', 'AMD Radeon R7 M445', 'Linux', '2.36kg', 899.0], ['6676364', 'Acer', 'Nitro AN515-51', 'Gaming', '15.6', 'IPS Panel Full HD 1920x1080', 'Intel Core i5 7300HQ 2.5GHz', '8GB', '256GB SSD', 'Nvidia GeForce GTX 1050', 'Windows 10', '2.5kg', 846.0], ['1374202', 'Asus', 'F756UX-T4201D (i7-7500U/8GB/128GB', 'Notebook', '17.3', 'Full HD 1920x1080', 'Intel Core i7 7500U 2.7GHz', '8GB', '128GB SSD +  1TB HDD', 'Nvidia GeForce GTX 950M', 'No OS', '2.69kg', 889.0], ['4688003', 'Dell', 'Inspiron 5577', 'Gaming', '15.6', 'Full HD 1920x1080', 'Intel Core i5 7300HQ 2.5GHz', '8GB', '256GB SSD', 'Nvidia GeForce GTX 1050', 'Windows 10', '2.56kg', 879.0], ['7504936', 'Dell', 'Inspiron 5570', 'Notebook', '15.6', 'Full HD 1920x1080', 'Intel Core i7 8550U 1.8GHz', '8GB', '128GB SSD +  2TB HDD', 'AMD Radeon 530', 'Windows 10', '2.2kg', 985.0], ['8005325', 'Dell', 'Inspiron 5579', '2 in 1 Convertible', '15.6', 'IPS Panel Full HD / Touchscreen 1920x1080', 'Intel Core i7 8550U 1.8GHz', '8GB', '1TB HDD', 'Intel UHD Graphics 620', 'Windows 10', '2.08kg', 819.0], ['5455416', 'Acer', 'Aspire 5', 'Notebook', '17.3', 'IPS Panel Full HD 1920x1080', 'Intel Core i3 7130U 2.7GHz', '4GB', '256GB SSD', 'Nvidia GeForce MX130', 'Windows 10', '3kg', 702.0], ['5635613', 'Dell', 'Vostro 5370', 'Ultrabook', '13.3', 'Full HD 1920x1080', 'Intel Core i5 8250U 1.6GHz', '8GB', '256GB SSD', 'Intel UHD Graphics 620', 'Windows 10', '1.41kg', 949.0], ['5346081', 'HP', 'ProBook 450', 'Notebook', '15.6', 'IPS Panel Full HD 1920x1080', 'Intel Core i5 8250U 1.6GHz', '4GB', '500GB HDD', 'Intel HD Graphics 620', 'Windows 10', '2.1kg', 722.0], ['3714210', 'Dell', 'Inspiron 5579', '2 in 1 Convertible', '15.6', 'Full HD / Touchscreen 1920x1080', 'Intel Core i5 8250U 1.6GHz', '8GB', '256GB SSD', 'Intel UHD Graphics 620', 'Windows 10', '2.67kg', 799.0], ['5587263', 'Lenovo', 'V330-15IKB (i7-8550U/8GB/256GB/FHD/W10)', 'Notebook', '15.6', 'Full HD 1920x1080', 'Intel Core i7 8550U 1.8GHz', '8GB', '256GB SSD', 'Intel UHD Graphics 620', 'Windows 10', '2.05kg', 880.0], ['7371561', 'Dell', 'Inspiron 3576', 'Notebook', '15.6', 'Full HD 1920x1080', 'Intel Core i7 8550U 1.8GHz', '8GB', '256GB SSD', 'AMD Radeon 520', 'Linux', '2.14kg', 735.0], ['9952171', 'Toshiba', 'Satellite Pro', 'Notebook', '15.6', '1366x768', 'Intel Core i7 6500U 2.5GHz', '8GB', '500GB HDD', 'Nvidia GeForce 930M', 'Windows 10', '2.2kg', 812.0], ['9100292', 'Dell', 'Inspiron 5567', 'Notebook', '15.6', '1366x768', 'Intel Core i7 7500U 2.7GHz', '12GB', '1TB HDD', 'Intel HD Graphics 620', 'Windows 10', '2.3kg', 713.0], ['5752499', 'Acer', 'Aspire A515-51G', 'Notebook', '15.6', 'IPS Panel Full HD 1920x1080', 'Intel Core i7 8550U 1.8GHz', '8GB', '1TB HDD', 'Nvidia GeForce MX130', 'Windows 10', '2.2kg', 745.0], ['2811904', 'Lenovo', 'IdeaPad 320-17IKBR', 'Notebook', '17.3', 'Full HD 1920x1080', 'Intel Core i7 8550U 1.8GHz', '8GB', '2TB HDD', 'Nvidia GeForce MX150', 'No OS', '2.8kg', 849.0], ['1667803', 'Lenovo', 'IdeaPad 320-17IKB', 'Notebook', '17.3', '1600x900', 'Intel Core i7 7500U 2.7GHz', '6GB', '128GB SSD +  1TB HDD', 'Nvidia GeForce 940MX', 'Windows 10', '2.8kg', 859.0], ['7040804', 'Lenovo', 'Legion Y520-15IKBN', 'Gaming', '15.6', 'IPS Panel Full HD 1920x1080', 'Intel Core i5 7300HQ 2.5GHz', '8GB', '256GB SSD', 'Nvidia GeForce GTX 1050', 'Windows 10', '2.5kg', 829.0], ['8664016', 'Acer', 'Aspire A517-51G', 'Notebook', '15.6', 'IPS Panel Full HD 1920x1080', 'Intel Core i7 8550U 1.8GHz', '8GB', '256GB SSD', 'Nvidia GeForce MX150', 'Windows 10', '3kg', 951.0], ['3314732', 'Asus', 'VivoBook S15', 'Ultrabook', '15.6', 'Full HD 1920x1080', 'Intel Core i5 7200U 2.5GHz', '8GB', '256GB SSD', 'Nvidia GeForce 940MX', 'Windows 10', '1.7kg', 977.0], ['6828442', 'Lenovo', 'V330-15IKB (i5-8250U/8GB/256GB/FHD/W10)', 'Notebook', '15.6', 'Full HD 1920x1080', 'Intel Core i5 8250U 1.6GHz', '8GB', '256GB SSD', 'Intel UHD Graphics 620', 'Windows 10', '2.05kg', 739.0], ['3836511', 'Acer', 'Aspire A715-71G', 'Notebook', '15.6', 'Full HD 1920x1080', 'Intel Core i7 7700HQ 2.8GHz', '8GB', '256GB SSD', 'Nvidia GeForce GTX 1050 Ti', 'Linux', '2.5kg', 979.0], ['9169853', 'Lenovo', 'IdeaPad 320-15IKB', 'Notebook', '15.6', 'Full HD 1920x1080', 'Intel Core i5 7200U 2.5GHz', '8GB', '128GB SSD +  1TB HDD', 'Nvidia GeForce 940MX', 'Windows 10', '2.3kg', 819.0], ['9137264', 'Lenovo', 'IdeaPad 720S-13IKB', 'Notebook', '13.3', 'IPS Panel Full HD 1920x1080', 'Intel Core i5 7200U 2.5GHz', '8GB', '256GB SSD', 'Intel HD Graphics 620', 'Windows 10', '1.1kg', 999.0], ['9064647', 'Dell', 'Inspiron 5570', 'Notebook', '15.6', 'Full HD 1920x1080', 'Intel Core i5 8250U 1.6GHz', '8GB', '128GB SSD +  1TB HDD', 'AMD Radeon 530', 'Windows 10', '2.33kg', 844.0], ['3735815', 'HP', 'ProBook 640', 'Notebook', '14', 'Full HD 1920x1080', 'Intel Core i5 7200U 2.5GHz', '8GB', '256GB SSD', 'Intel HD Graphics 620', 'Windows 10', '1.95kg', 980.0], ['3218997', 'HP', 'ProBook 450', 'Notebook', '15.6', 'IPS Panel Full HD 1366x768', 'Intel Core i7 8550U 1.8GHz', '8GB', '1TB HDD', 'Intel UHD Graphics 620', 'Windows 10', '2.1kg', 902.0], ['8947698', 'Toshiba', 'Satellite Pro', 'Notebook', '15.6', 'IPS Panel Full HD 1920x1080', 'Intel Core i5 7200U 2.5GHz', '8GB', '256GB SSD', 'Intel HD Graphics 620', 'Windows 10', '2.0kg', 943.0], ['7524229', 'Asus', 'FX553VD-FY647T (i7-7700HQ/8GB/256GB/GeForce', 'Gaming', '15.6', 'Full HD 1920x1080', 'Intel Core i7 7700HQ 2.8GHz', '8GB', '256GB SSD', 'Nvidia GeForce GTX 1050', 'Windows 10', '2.5kg', 999.0], ['7523657', 'Lenovo', 'IdeaPad 320-15ABR', 'Notebook', '15.6', 'Full HD 1920x1080', 'AMD A12-Series 9720P 3.6GHz', '12GB', '2TB HDD', 'AMD Radeon 530', 'Windows 10', '2.2kg', 899.0], ['8837038', 'HP', 'ProBook 450', 'Notebook', '15.6', 'IPS Panel Full HD 1920x1080', 'Intel Core i3 7100U 2.4GHz', '8GB', '1TB HDD', 'Nvidia GeForce 930MX ', 'Windows 10', '2.1kg', 716.0], ['3444668', 'Dell', 'Inspiron 5570', 'Notebook', '15.6', 'Full HD 1920x1080', 'Intel Core i7 8550U 1.8GHz', '8GB', '128GB SSD +  2TB HDD', 'AMD Radeon 530', 'Windows 10', '2.02kg', 970.0], ['1315593', 'Dell', 'Inspiron 7577', 'Gaming', '15.6', 'Full HD 1920x1080', 'Intel Core i5 7300HQ 2.5GHz', '8GB', '1TB HDD', 'Nvidia GeForce GTX 1050', 'Windows 10', '2.65kg', 999.0], ['7837602', 'Asus', 'Zenbook UX410UA-GV027T', 'Notebook', '14', 'Full HD 1920x1080', 'Intel Core i5 7200U 2.5GHz', '8GB', '256GB SSD', 'Intel HD Graphics 620', 'Windows 10', '2kg', 945.0], ['9606174', 'Lenovo', 'IdeaPad 320-17IKB', 'Notebook', '17.3', '1600x900', 'Intel Core i5 7200U 2.5GHz', '6GB', '128GB SSD +  1TB HDD', 'Nvidia GeForce GTX 940MX', 'Windows 10', '2.8kg', 719.0], ['1268870', 'Lenovo', 'Legion Y520-15IKBN', 'Gaming', '15.6', 'IPS Panel Full HD 1920x1080', 'Intel Core i5 7300HQ 2.5GHz', '8GB', '128GB SSD +  1TB HDD', 'Nvidia GeForce GTX 1050', 'No OS', '2.4kg', 809.0], ['7130324', 'Dell', 'Inspiron 5567', 'Notebook', '15.6', 'Full HD 1920x1080', 'Intel Core i7 7500U 2.7GHz', '8GB', '256GB SSD', 'AMD Radeon R7 M445', 'Windows 10', '2.33kg', 899.0], ['8312235', 'Dell', 'Inspiron 5379', '2 in 1 Convertible', '13.3', 'Full HD / Touchscreen 1920x1080', 'Intel Core i7 8550U 1.8GHz', '8GB', '256GB SSD', 'Intel UHD Graphics 620', 'Windows 10', '1.62kg', 869.0], ['1689001', 'Acer', 'Aspire 7', 'Notebook', '15.6', 'Full HD 1920x1080', 'Intel Core i7 7700HQ 2.8GHz', '8GB', '1TB HDD', 'Nvidia GeForce GTX 1050', 'Linux', '2.4kg', 846.0], ['7244694', 'Dell', 'Inspiron 5567', 'Notebook', '15.6', 'Full HD 1920x1080', 'Intel Core i7 7500U 2.7GHz', '8GB', '256GB SSD', 'AMD Radeon R7 M445', 'Linux', '2.33kg', 778.0], ['1538812', 'Lenovo', 'ThinkPad L470', 'Notebook', '14', 'IPS Panel Full HD 1920x1080', 'Intel Core i5 7200U 2.5GHz', '8GB', '256GB SSD', 'Intel HD Graphics 620', 'Windows 10', '1.9kg', 938.0], ['8681714', 'Acer', 'Aspire 7', 'Notebook', '15.6', 'Full HD 1920x1080', 'Intel Core i7 7700HQ 2.8GHz', '8GB', '256GB SSD', 'Nvidia GeForce GTX 1050', 'Linux', '2.5kg', 879.0], ['5336732', 'Acer', 'Aspire R7', '2 in 1 Convertible', '13.3', 'IPS Panel Full HD / Touchscreen 1920x1080', 'Intel Core i7 6500U 2.5GHz', '8GB', '256GB SSD', 'Intel HD Graphics 520', 'Windows 10', '1.6kg', 789.0], ['6047308', 'Asus', 'ZenBook Flip', '2 in 1 Convertible', '13.3', 'IPS Panel Full HD / Touchscreen 1920x1080', 'Intel Core i5 7200U 2.5GHz', '8GB', '256GB SSD', 'Intel HD Graphics 620', 'Windows 10', '1.27kg', 928.0], ['8537981', 'Dell', 'Inspiron 5570', 'Notebook', '15.6', 'Full HD 1920x1080', 'Intel Core i5 8250U 1.6GHz', '4GB', '256GB SSD', 'AMD Radeon 530', 'Windows 10', '2.2kg', 749.0], ['6936735', 'Dell', 'Inspiron 5570', 'Notebook', '15.6', 'Full HD 1920x1080', 'Intel Core i7 8550U 1.8GHz', '8GB', '128GB SSD +  1TB HDD', 'AMD Radeon 530', 'Windows 10', '2.36kg', 979.0], ['6143026', 'Microsoft', 'Surface Laptop', 'Ultrabook', '13.5', 'Touchscreen 2256x1504', 'Intel Core M m3-7Y30 2.2GHz', '4GB', '128GB SSD', 'Intel HD Graphics 615', 'Windows 10 S', '1.252kg', 989.0], ['3602417', 'Asus', 'Pro P2540UA-AB51', 'Notebook', '15.6', 'Full HD 1920x1080', 'Intel Core i5 7200U 2.5GHz', '8GB', '1TB HDD', 'Intel HD Graphics 620', 'Windows 10', '2.37kg', 749.0], ['9715794', 'Lenovo', 'IdeaPad 510s-14IKB', 'Notebook', '14', 'IPS Panel Full HD 1920x1080', 'Intel Core i7 7500U 2.7GHz', '8GB', '512GB SSD', 'AMD Radeon R7 M460', 'No OS', '1.5kg', 799.0], ['8440789', 'Dell', 'Inspiron 5570', 'Notebook', '15.6', 'Full HD 1920x1080', 'Intel Core i5 8250U 1.6GHz', '8GB', '2TB HDD', 'AMD Radeon 530', 'Windows 10', '2.02kg', 759.0], ['2363883', 'Dell', 'Latitude E5470', 'Notebook', '14', '1366x768', 'Intel Core i3 6100U 2.3GHz', '8GB', '128GB SSD', 'Intel HD Graphics 520', 'Windows 10', '1.79kg', 740.0], ['3423499', 'HP', 'ProBook 430', 'Notebook', '13.3', 'IPS Panel Full HD 1920x1080', 'Intel Core i5 8250U 1.6GHz', '4GB', '128GB SSD', 'Intel UHD Graphics 620', 'Windows 10', '1.49kg', 726.0], ['9636255', 'Lenovo', 'Ideapad 520-15IKBR', 'Notebook', '15.6', 'Full HD 1920x1080', 'Intel Core i7 8550U 1.8GHz', '8GB', '256GB SSD', 'Intel UHD Graphics 620', 'Windows 10', '2.17kg', 898.0], ['9131644', 'Lenovo', 'ThinkPad 13', 'Notebook', '13.3', 'IPS Panel Full HD 1920x1080', 'Intel Core i3 7100U 2.4GHz', '8GB', '256GB SSD', 'Intel HD Graphics 620', 'Windows 10', '1.4kg', 949.0], ['9163575', 'Lenovo', 'ThinkPad L570', 'Notebook', '15.6', 'IPS Panel Full HD 1920x1080', 'Intel Core i5 7200U 2.5GHz', '8GB', '256GB SSD', 'Intel HD Graphics 620', 'Windows 10', '2.3kg', 911.0], ['9741930', 'Lenovo', 'ThinkPad 13', 'Notebook', '13.3', 'Full HD 1920x1080', 'Intel Core i5 7200U 2.5GHz', '8GB', '256GB SSD', 'Intel HD Graphics 620', 'Windows 10', '1.44kg', 949.0], ['7384405', 'Dell', 'XPS 13', 'Ultrabook', '13.3', 'IPS Panel Full HD / Touchscreen 1920x1080', 'Intel Core i5 7200U 2.5GHz', '8GB', '128GB SSD', 'Intel HD Graphics 620', 'Windows 10', '1.29kg', 899.0], ['6924027', 'Dell', 'Vostro 5568', 'Notebook', '15.6', 'Full HD 1920x1080', 'Intel Core i5 7200U 2.5GHz', '8GB', '1TB HDD', 'Intel HD Graphics 620', 'Windows 10', '2.18kg', 836.0], ['3664034', 'HP', 'Probook 450', 'Notebook', '15.6', 'Full HD 1920x1080', 'Intel Core i5 7200U 2.5GHz', '8GB', '256GB SSD', 'Nvidia GeForce 930MX', 'Windows 10', '2.04kg', 889.0], ['9317246', 'Dell', 'Inspiron 5770', 'Notebook', '17.3', 'IPS Panel Full HD 1920x1080', 'Intel Core i5 8250U 1.6GHz', '8GB', '128GB SSD +  1TB HDD', 'AMD Radeon 530', 'Linux', '2.8kg', 889.0], ['6456744', 'Lenovo', 'IdeaPad 320-15IKB', 'Notebook', '15.6', 'Full HD 1920x1080', 'Intel Core i7 7500U 2.7GHz', '4GB', '1TB HDD', 'Nvidia GeForce 920MX', 'Windows 10', '2.2kg', 799.0], ['5376127', 'Toshiba', 'Satellite Pro', 'Notebook', '15.6', 'IPS Panel Full HD 1920x1080', 'Intel Core i5 7200U 2.5GHz', '8GB', '500GB HDD', 'Intel HD Graphics 620', 'Windows 10', '2.0kg', 860.0], ['6801203', 'Dell', 'Inspiron 5570', 'Notebook', '15.6', 'Full HD 1920x1080', 'Intel Core i5 8250U 1.6GHz', '8GB', '256GB SSD', 'AMD Radeon 530', 'Windows 10', '2.2kg', 797.0], ['5397402', 'Lenovo', 'Thinkpad E470', 'Notebook', '14', 'IPS Panel Full HD 1920x1080', 'Intel Core i7 7500U 2.7GHz', '8GB', '256GB SSD', 'Nvidia GeForce 940MX', 'Windows 10', '1.87kg', 859.0], ['1286032', 'Dell', 'Vostro 5468', 'Notebook', '14', 'Full HD 1920x1080', 'Intel Core i3 6006U 2GHz', '4GB', '128GB SSD', 'Intel HD Graphics 520', 'Windows 10', '1.6kg', 735.0], ['5988701', 'Acer', 'Aspire 7', 'Gaming', '15.6', 'Full HD 1920x1080', 'Intel Core i5 7300HQ 2.5GHz', '8GB', '1TB HDD', 'Nvidia GeForce GTX 1050', 'Linux', '2.4kg', 798.0], ['5252103', 'HP', 'ProBook 450', 'Notebook', '15.6', 'Full HD 1920x1080', 'Intel Core i3 7100U 2.4GHz', '4GB', '128GB SSD', 'Intel HD Graphics 620', 'Windows 10', '2.1kg', 705.0], ['6187500', 'Lenovo', 'ThinkPad E470', 'Notebook', '14', 'Full HD 1920x1080', 'Intel Core i5 7200U 2.5GHz', '4GB', '500GB HDD', 'Intel HD Graphics 620', 'Windows 10', '1.87kg', 785.0], ['5229469', 'Lenovo', 'IdeaPad 320-17IKB', 'Notebook', '17.3', '1600x900', 'Intel Core i7 7500U 2.7GHz', '6GB', '128GB SSD +  1TB HDD', 'Nvidia GeForce 940MX', 'Windows 10', '2.8kg', 949.0], ['6180401', 'Asus', 'FX553VD-DM627T (i5-7300HQ/8GB/1TB', 'Notebook', '15.6', 'Full HD 1920x1080', 'Intel Core i5 7300HQ 2.5GHz', '8GB', '128GB SSD +  1TB HDD', 'Nvidia GeForce GTX 1050', 'Windows 10', '2.5kg', 839.0], ['8329450', 'Dell', 'Latitude 5580', 'Notebook', '15.6', '1366x768', 'Intel Core i5 7300U 2.6GHz', '4GB', '500GB HDD', 'Intel HD Graphics 620', 'Windows 10', '1.93kg', 959.0], ['9248871', 'Fujitsu', 'Lifebook A557', 'Notebook', '15.6', '1366x768', 'Intel Core i5 7200U 2.5GHz', '8GB', '1TB HDD', 'Intel HD Graphics 620', 'Windows 10', '2.2kg', 739.0], ['1616058', 'Lenovo', 'ThinkPad L470', 'Notebook', '14', '1366x768', 'Intel Core i5 7200U 2.5GHz', '4GB', '500GB HDD', 'Intel HD Graphics 620', 'Windows 10', '2.02kg', 990.0], ['5472768', 'Lenovo', 'Thinkpad E570', 'Notebook', '15.6', 'Full HD 1920x1080', 'Intel Core i5 7200U 2.5GHz', '8GB', '256GB SSD', 'Intel HD Graphics 620', 'Windows 10', '2.3kg', 830.0], ['5322452', 'Dell', 'Inspiron 3567', 'Notebook', '15.6', 'Full HD 1920x1080', 'Intel Core i7 7500U 2.7GHz', '8GB', '256GB SSD', 'AMD Radeon R5 M430', 'Linux', '2.2kg', 749.0], ['4558723', 'HP', 'ProBook 430', 'Notebook', '13.3', 'Full HD 1920x1080', 'Intel Core i3 7100U 2.4GHz', '4GB', '128GB SSD', 'Intel HD Graphics 620', 'Windows 10', '1.49kg', 719.0], ['9507949', 'Asus', 'TP501UA-CJ131T (i5-7200U/8GB/1TB/W10)', '2 in 1 Convertible', '15.6', 'Touchscreen 1366x768', 'Intel Core i5 7200U 2.5GHz', '8GB', '1TB HDD', 'Intel HD Graphics 520', 'Windows 10', '2.2kg', 739.0], ['3067292', 'Lenovo', 'IdeaPad 320-15ABR', 'Notebook', '15.6', 'Full HD 1920x1080', 'AMD A12-Series 9720P 3.6GHz', '12GB', '512GB SSD', 'AMD Radeon 530', 'Windows 10', '2.2kg', 949.0], ['6735575', 'Dell', 'Inspiron 7559', 'Gaming', '15.6', 'Full HD 1920x1080', 'Intel Core i7 6700HQ 2.6GHz', '16GB', '1TB HDD', 'Nvidia GeForce GTX 960<U+039C>', 'Windows 10', '2.59kg', 879.0], ['9172061', 'Dell', 'Latitude 5580', 'Notebook', '15.6', '1366x768', 'Intel Core i5 7300U 2.6GHz', '4GB', '500GB HDD', 'Intel HD Graphics 620', 'Linux', '1.93kg', 869.0], ['8489997', 'Dell', 'Inspiron 5570', 'Notebook', '15.6', 'Full HD 1920x1080', 'Intel Core i5 8250U 1.6GHz', '4GB', '1TB HDD', 'AMD Radeon 530', 'Windows 10', '2.2kg', 776.0], ['7252026', 'Fujitsu', 'LifeBook A557', 'Notebook', '15.6', '1366x768', 'Intel Core i5 7200U 2.5GHz', '8GB', '256GB SSD', 'Intel HD Graphics 620', 'Windows 10', '2.2kg', 799.0], ['1178786', 'HP', 'EliteBook 850', 'Notebook', '15.6', '1366x768', 'Intel Core i5 6200U 2.3GHz', '4GB', '500GB HDD', 'Intel HD Graphics 520', 'Windows 7', '1.88kg', 932.0], ['6218853', 'Lenovo', 'IdeaPad 320-15IKB', 'Notebook', '15.6', 'Full HD 1920x1080', 'Intel Core i7 7500U 2.7GHz', '8GB', '1TB HDD', 'Nvidia GeForce 920MX', 'Windows 10', '2.2kg', 899.0], ['8976452', 'Lenovo', 'V330-15IKB (i5-8250U/4GB/256GB/FHD/W10)', 'Notebook', '15.6', 'Full HD 1920x1080', 'Intel Core i5 8250U 1.6GHz', '4GB', '256GB SSD', 'Intel UHD Graphics 620', 'Windows 10', '1.8kg', 829.0], ['4231761', 'Asus', 'VivoBook Pro', 'Notebook', '15.6', 'Full HD 1920x1080', 'Intel Core i5 7300HQ 2.5GHz', '8GB', '1TB HDD', 'Nvidia GeForce GTX 1050', 'Windows 10', '1.99kg', 906.0], ['1701173', 'Acer', 'Swift 3', 'Ultrabook', '14', 'IPS Panel Full HD 1920x1080', 'Intel Core i5 7200U 2.5GHz', '8GB', '256GB SSD', 'Intel Graphics 620', 'Windows 10', '1.8kg', 919.0], ['8416477', 'Acer', 'A715-71G-59DH (i5-7300HQ/8GB/1TB/GeForce', 'Gaming', '15.6', 'Full HD 1920x1080', 'Intel Core i5 7300HQ 2.5GHz', '8GB', '1TB HDD', 'Nvidia GeForce GTX 1050', 'Linux', '2.4kg', 709.0], ['7264795', 'Dell', 'Inspiron 5570', 'Notebook', '15.6', 'Full HD 1920x1080', 'Intel Core i7 8550U 1.8GHz', '8GB', '256GB SSD', 'AMD Radeon 530', 'Windows 10', '2.2kg', 919.0], ['3295843', 'Dell', 'Latitude 3580', 'Notebook', '15.6', 'Full HD 1920x1080', 'Intel Core i5 7200U 2.5GHz', '8GB', '1TB HDD', 'Intel HD Graphics 620', 'Windows 10', '2.06kg', 955.0], ['7516903', 'HP', '15-bs012nv (i7-7500U/8GB/1TB/Radeon', 'Notebook', '15.6', 'Full HD 1920x1080', 'Intel Core i7 7500U 2.7GHz', '8GB', '1TB HDD', 'AMD Radeon 530', 'Windows 10', '2.1kg', 745.0], ['6348436', 'Lenovo', 'V310-15ISK (i5-7200U/8GB/1TB', 'Notebook', '15.6', 'Full HD 1920x1080', 'Intel Core i5 7200U 2.5GHz', '8GB', '128GB SSD +  1TB HDD', 'AMD Radeon R5 M430', 'Windows 10', '1.90kg', 817.0], ['1980644', 'MSI', 'GV62M 7RD', 'Gaming', '15.6', 'Full HD 1920x1080', 'Intel Core i5 7300HQ 2.5GHz', '8GB', '256GB SSD', 'Nvidia GeForce GTX 1050', 'Windows 10', '2.2kg', 997.0], ['6407922', 'Toshiba', 'Satellite Pro', 'Notebook', '13.3', 'IPS Panel Full HD 1920x1080', 'Intel Core i5 7200U 2.5GHz', '8GB', '256GB SSD', 'Intel HD Graphics 620', 'Windows 10', '1.5kg', 973.0], ['3615714', 'Dell', 'Inspiron 5577', 'Gaming', '15.6', 'Full HD 1920x1080', 'Intel Core i5 7300HQ 2.5GHz', '8GB', '1TB HDD', 'Nvidia GeForce GTX 1050', 'Windows 10', '2.56kg', 819.0], ['5447560', 'Dell', 'Vostro 5568', 'Notebook', '15.6', 'Full HD 1920x1080', 'Intel Core i5 7200U 2.5GHz', '8GB', '256GB SSD', 'Intel HD Graphics 620', 'Windows 10', '2.18kg', 795.0], ['9703217', 'Acer', 'Spin 5', '2 in 1 Convertible', '13.3', 'IPS Panel Full HD / Touchscreen 1920x1080', 'Intel Core i5 8250U 1.6GHz', '8GB', '256GB SSD', 'Intel UHD Graphics 620', 'Windows 10', '1.6kg', 999.0], ['7032044', 'Dell', 'Vostro 5568', 'Notebook', '15.6', 'Full HD 1920x1080', 'Intel Core i5 7200U 2.5GHz', '8GB', '1TB HDD', 'Intel HD Graphics 620', 'Linux', '1.98kg', 726.0], ['7959358', 'Lenovo', 'Thinkpad E470', 'Notebook', '14', 'IPS Panel Full HD 1920x1080', 'Intel Core i5 7200U 2.5GHz', '8GB', '256GB SSD', 'Nvidia GeForce 920MX', 'Windows 10', '1.87kg', 857.0], ['4726891', 'HP', 'Pavilion X360', '2 in 1 Convertible', '13.3', 'IPS Panel Touchscreen 1366x768', 'Intel Core i5 7200U 2.5GHz', '8GB', '256GB SSD', 'Intel HD Graphics 620', 'Windows 10', '1.58kg', 836.0], ['7510869', 'Dell', 'Inspiron 5570', 'Notebook', '15.6', 'Full HD 1920x1080', 'Intel Core i5 8250U 1.6GHz', '8GB', '128GB SSD +  1TB HDD', 'AMD Radeon 530', 'Windows 10', '2.2kg', 719.0], ['5062733', 'Lenovo', 'ThinkPad 13', 'Notebook', '13.3', 'IPS Panel Full HD 1920x1080', 'Intel Core i5 7200U 2.5GHz', '8GB', '256GB SSD', 'Intel HD Graphics 620', 'Windows 10', '1.44kg', 960.0], ['3917027', 'Lenovo', 'V310-15IKB (i7-7500U/4GB/1TB/FHD/W10)', 'Notebook', '15.6', 'Full HD 1920x1080', 'Intel Core i7 7500U 2.7GHz', '4GB', '1TB HDD', 'Intel HD Graphics 620', 'Windows 10', '1.85kg', 779.0], ['8573508', 'Lenovo', 'Flex 5', '2 in 1 Convertible', '14', 'Full HD / Touchscreen 1920x1080', 'Intel Core i5 7200U 2.5GHz', '8GB', '256GB SSD', 'Intel HD Graphics 620', 'Windows 10', '1.7kg', 999.0], ['7000811', 'Asus', 'Pro P2540UA-XO0192R', 'Notebook', '15.6', '1366x768', 'Intel Core i7 7500U 2.7GHz', '4GB', '256GB SSD', 'Intel HD Graphics 620', 'Windows 10', '2.37kg', 849.0], ['7045578', 'Dell', 'Latitude 3380', 'Notebook', '13.3', '1366x768', 'Intel Core i3 6006U 2GHz', '4GB', '500GB HDD', 'Intel HD Graphics 520', 'Windows 10', '1.65kg', 849.0], ['3213976', 'Asus', 'Q524UQ-BHI7T15 (i7-7500U/12GB/2TB/GeForce', '2 in 1 Convertible', '15.6', 'Full HD / Touchscreen 1920x1080', 'Intel Core i7 7500U 2.7GHz', '12GB', '2TB HDD', 'Nvidia GeForce 940MX', 'Windows 10', '2.3kg', 839.0], ['1159748', 'Lenovo', 'Legion Y520-15IKBN', 'Gaming', '15.6', 'IPS Panel Full HD 1920x1080', 'Intel Core i7 7700HQ 2.8GHz', '4GB', '1TB HDD', 'Nvidia GeForce GTX 1050', 'Windows 10', '2.4kg', 999.0], ['3308866', 'Dell', 'Inspiron 7567', 'Gaming', '15.6', 'Full HD 1920x1080', 'Intel Core i5 7300HQ 2.5GHz', '8GB', '256GB SSD', 'Nvidia GeForce GTX 1050', 'Windows 10', '2.62kg', 985.0], ['6145520', 'Lenovo', 'Yoga 510-15IKB', '2 in 1 Convertible', '15.6', 'Full HD / Touchscreen 1920x1080', 'Intel Core i5 7200U 2.5GHz', '8GB', '256GB SSD', 'AMD Radeon R7 M460', 'Windows 10', '2.08kg', 959.0], ['5069567', 'Dell', 'Latitude 3580', 'Notebook', '15.6', '1366x768', 'Intel Core i5 7200U 2.5GHz', '8GB', '128GB SSD', 'Intel HD Graphics 620', 'Windows 10', '1.95kg', 810.0], ['1694389', 'Dell', 'Vostro 5568', 'Notebook', '15.6', 'Full HD 1920x1080', 'Intel Core i3 6006U 2GHz', '8GB', '256GB SSD', 'AMD Radeon R5 M420X', 'Windows 10', '2kg', 739.0], ['9299321', 'Dell', 'Latitude 3180', 'Netbook', '11.6', '1366x768', 'Intel Pentium Quad Core N4200 1.1GHz', '4GB', '128GB SSD', 'Intel HD Graphics 505', 'Windows 10', '1.63kg', 744.0], ['7913362', 'Toshiba', 'Satellite Pro', 'Notebook', '15.6', '1366x768', 'Intel Core i5 6200U 2.3GHz', '4GB', '500GB HDD', 'Intel HD Graphics 520', 'Windows 10', '2.1kg', 780.0], ['1553787', 'Dell', 'Vostro 5568', 'Notebook', '15.6', 'Full HD 1920x1080', 'Intel Core i7 7500U 2.7GHz', '8GB', '1TB HDD', 'Nvidia GeForce GT 940MX', 'Windows 10', '1.98kg', 961.0], ['4333300', 'Dell', 'Vostro 3568', 'Notebook', '15.6', 'Full HD 1920x1080', 'Intel Core i5 7200U 2.5GHz', '8GB', '256GB SSD', 'AMD Radeon R5 M420', 'Windows 10', '2.18kg', 789.0], ['7861256', 'Dell', 'Latitude 3480', 'Notebook', '14', '1366x768', 'Intel Core i5 6200U 2.3GHz', '4GB', '500GB HDD', 'Intel HD Graphics 520', 'Windows 10', '1.76kg', 755.0], ['6659823', 'HP', 'ProBook 470', 'Notebook', '17.3', '1600x900', 'Intel Core i5 7200U 2.5GHz', '8GB', '1TB HDD', 'Nvidia GeForce 930MX', 'Windows 10', '2.63kg', 910.0], ['5697288', 'Dell', 'Vostro 3568', 'Notebook', '15.6', '1366x768', 'Intel Core i5 7200U 2.5GHz', '8GB', '128GB SSD', 'Intel HD Graphics 620', 'Windows 10', '2.18kg', 713.0], ['2347020', 'Dell', 'Vostro 3568', 'Notebook', '15.6', 'Full HD 1920x1080', 'Intel Core i7 7500U 2.7GHz', '4GB', '256GB SSD', 'AMD Radeon R5 M420', 'Windows 10', '2.18kg', 739.0], ['1529860', 'Dell', 'Inspiron 5767', 'Notebook', '17.3', 'Full HD 1920x1080', 'Intel Core i7 7500U 2.7GHz', '8GB', '1TB HDD', 'AMD Radeon R7 M445', 'Linux', '2.83kg', 865.0], ['3484842', 'Asus', 'K556UR-DM621T (i7-7500U/8GB/256GB/GeForce', 'Notebook', '15.6', 'IPS Panel Full HD 1920x1080', 'Intel Core i7 7500U 2.7GHz', '8GB', '256GB SSD', 'Nvidia GeForce GTX 930MX', 'Windows 10', '2.3kg', 787.0], ['3372480', 'Dell', 'Latitude 5580', 'Notebook', '15.6', 'Full HD 1920x1080', 'Intel Core i5 7200U 2.5GHz', '8GB', '128GB SSD', 'Intel HD Graphics 620', 'Windows 10', '1.9kg', 945.0], ['9849850', 'Lenovo', 'ThinkPad E570', 'Notebook', '15.6', 'IPS Panel Full HD 1920x1080', 'Intel Core i5 7200U 2.5GHz', '8GB', '1TB HDD', 'Intel HD Graphics 620', 'Windows 10', '2.3kg', 850.0], ['9646524', 'HP', 'Probook 450', 'Notebook', '15.6', 'Full HD 1920x1080', 'Intel Core i5 6200U 2.3GHz', '4GB', '500GB HDD', 'Intel HD Graphics 520', 'Windows 10', '2.07kg', 910.0], ['5391856', 'Acer', 'TMX349-G2-M-50FS (i5-7200U/8GB/256GB/FHD/W10)', 'Notebook', '14', 'IPS Panel Full HD 1920x1080', 'Intel Core i5 7200U 2.5GHz', '8GB', '256GB SSD', 'Intel HD Graphics 620', 'Windows 10', '1.56kg', 902.0], ['6599316', 'Lenovo', 'Thinkpad 13', 'Notebook', '13.3', 'IPS Panel Full HD 1920x1080', 'Intel Core i3 7100U 2.4GHz', '4GB', '180GB SSD', 'Intel HD Graphics 620', 'Windows 10', '1.44kg', 735.0], ['2439403', 'Xiaomi', 'Mi Notebook', 'Ultrabook', '13.3', 'IPS Panel Full HD 1920x1080', 'Intel Core i5 6200U 2.3GHz', '8GB', '256GB SSD', 'Nvidia GeForce 940MX', 'Windows 10', '1.28kg', 935.0], ['6295156', 'Dell', 'Vostro 5568', 'Notebook', '15.6', 'Full HD 1920x1080', 'Intel Core i5 7200U 2.5GHz', '4GB', '128GB SSD +  1TB HDD', 'Nvidia GeForce 940MX', 'Windows 10', '2.18kg', 912.0], ['9302837', 'HP', 'ProBook 450', 'Notebook', '15.6', 'Full HD 1920x1080', 'Intel Core i5 7200U 2.5GHz', '4GB', '256GB SSD', 'Intel HD Graphics 620', 'Windows 10', '2.04kg', 839.0], ['7386757', 'Dell', 'Inspiron 7567', 'Gaming', '15.6', 'Full HD 1920x1080', 'Intel Core i7 7700HQ 2.8GHz', '8GB', '1TB HDD', 'Nvidia GeForce GTX 1050Ti', 'Linux', '2.62kg', 929.0], ['9020399', 'HP', 'ProBook 450', 'Notebook', '15.6', 'Full HD 1920x1080', 'Intel Core i7 7500U 2.7GHz', '8GB', '1TB HDD', 'Nvidia GeForce 930MX', 'Windows 10', '2.04kg', 900.0], ['2668103', 'Dell', 'Latitude 5580', 'Notebook', '15.6', 'Full HD 1920x1080', 'Intel Core i5 7300U 2.6GHz', '8GB', '500GB HDD', 'Intel HD Graphics 620', 'Windows 10', '1.9kg', 935.0], ['1190809', 'Lenovo', 'IdeaPad Y700-15ISK', 'Notebook', '15.6', 'IPS Panel Full HD 1920x1080', 'Intel Core i5 6300HQ 2.3GHz', '8GB', '128GB SSD +  1TB HDD', 'Nvidia GeForce GTX 960M', 'Windows 10', '2.6kg', 789.0], ['9482233', 'Lenovo', 'IdeaPad 510-15IKB', 'Notebook', '15.6', 'Full HD 1920x1080', 'Intel Core i7 7500U 2.7GHz', '6GB', '256GB SSD', 'Nvidia GeForce 940MX', 'Windows 10', '2.2kg', 789.0], ['5980403', 'Lenovo', 'ThinkPad 13', 'Notebook', '13.3', 'Full HD 1920x1080', 'Intel Core i5 7200U 2.5GHz', '4GB', '128GB SSD', 'Intel HD Graphics 620', 'Windows 10', '1.44kg', 881.0], ['1961990', 'HP', 'Probook 430', 'Notebook', '13.3', 'Full HD 1920x1080', 'Intel Core i5 7200U 2.5GHz', '8GB', '256GB SSD', 'Intel HD Graphics 620', 'Windows 10', '1.49kg', 960.0], ['1999945', 'Dell', 'Latitude 3580', 'Notebook', '15.6', '1366x768', 'Intel Core i5 6200U 2.3GHz', '4GB', '500GB HDD', 'Intel HD Graphics 520', 'Windows 10', '1.95kg', 729.0], ['4765534', 'Dell', 'Vostro 3568', 'Notebook', '15.6', '1366x768', 'Intel Core i5 7200U 2.5GHz', '4GB', '1TB HDD', 'Intel HD Graphics 620', 'Windows 10', '2.18kg', 708.0], ['6210340', 'Lenovo', 'IdeaPad Y700-15ACZ', 'Gaming', '15.6', 'IPS Panel Full HD 1920x1080', 'AMD FX 8800P 2.1GHz', '16GB', '512GB SSD +  1TB HDD', 'AMD Radeon R9 M385', 'Windows 10', '2.5kg', 999.0], ['3312709', 'HP', 'ProBook x360', '2 in 1 Convertible', '11.6', 'Touchscreen 1366x768', 'Intel Pentium Quad Core N4200 1.1GHz', '4GB', '256GB SSD', 'Intel HD Graphics 505', 'Windows 10', '1.45kg', 775.0], ['7355294', 'HP', 'ProBook 450', 'Notebook', '15.6', '1366x768', 'Intel Core i5 7200U 2.50GHz', '8GB', '1TB HDD', 'Nvidia GeForce 930MX', 'Windows 10', '2.04kg', 846.0], ['6888074', 'Dell', 'Latitude 5580', 'Notebook', '15.6', '1366x768', 'Intel Core i5 7200U 2.5GHz', '4GB', '500GB HDD', 'Intel HD Graphics 620', 'Windows 10', '1.9kg', 825.0], ['9951552', 'HP', 'Probook 450', 'Notebook', '15.6', 'IPS Panel Full HD 1920x1080', 'Intel Core i5 7200U 2.70GHz', '8GB', '128GB SSD +  1TB HDD', 'Nvidia GeForce 930MX', 'Windows 10', '2.04kg', 979.0], ['6092016', 'Toshiba', 'Tecra A40-C-1KF', 'Notebook', '14', '1366x768', 'Intel Core i5 6200U 2.3GHz', '4GB', '500GB HDD', 'Intel HD Graphics 520', 'Windows 10', '1.75kg', 915.0], ['1595010', 'HP', 'Probook 450', 'Notebook', '15.6', 'Full HD 1920x1080', 'Intel Core i5 7200U 2.5GHz', '8GB', '1TB HDD', 'Intel HD Graphics 620', 'Windows 10', '2.04kg', 806.0], ['6762391', 'Dell', 'Inspiron 5567', 'Notebook', '15.6', '1366x768', 'Intel Core i7 7500U 2.7GHz', '8GB', '1TB HDD', 'AMD Radeon R7 M445', 'Windows 10', '2.36kg', 749.0], ['3890464', 'Dell', 'Inspiron 5378', '2 in 1 Convertible', '13.3', 'Full HD / Touchscreen 1920x1080', 'Intel Core i5 7200U 2.5GHz', '8GB', '256GB SSD', 'Intel HD Graphics 620', 'Windows 10', '1.68kg', 889.0], ['6538891', 'HP', 'Probook 440', 'Notebook', '14', '1366x768', 'Intel Core i5 7200U 2.5GHz', '4GB', '500GB HDD', 'Intel HD Graphics 620', 'Windows 10', '1.64kg', 779.0], ['7729599', 'Dell', 'Inspiron 7567', 'Gaming', '15.6', 'Full HD 1920x1080', 'Intel Core i5 7300HQ 2.5GHz', '8GB', '1.0TB Hybrid', 'Nvidia GeForce GTX 1050', 'Windows 10', '2.65kg', 949.0], ['6886099', 'HP', 'Probook 430', 'Notebook', '13.3', '1366x768', 'Intel Core i3 7100U 2.4GHz', '4GB', '500GB HDD', 'Intel HD Graphics 620', 'Windows 10', '1.49kg', 800.0], ['5017836', 'HP', 'ProBook 450', 'Notebook', '15.6', '1366x768', 'Intel Core i3 7100U 2.4GHz', '4GB', '256GB SSD', 'Intel HD Graphics 620', 'Windows 10', '2.04kg', 769.0], ['7837521', 'Dell', 'Inspiron 5568', '2 in 1 Convertible', '15.6', 'IPS Panel Full HD / Touchscreen 1920x1080', 'Intel Core i3 6100U 2.3GHz', '4GB', '1TB HDD', 'Intel HD Graphics 520', 'Windows 10', '2.08kg', 795.0], ['5666663', 'HP', 'ProBook 440', 'Notebook', '14', '1366x768', 'Intel Core i5 7200U 2.5GHz', '4GB', '256GB SSD', 'Intel HD Graphics 620', 'Windows 10', '1.64kg', 973.0], ['6827877', 'HP', 'ProBook 450', 'Notebook', '15.6', '1366x768', 'Intel Core i5 7200U 2.5GHz', '4GB', '500GB HDD', 'Intel HD Graphics 620', 'Windows 10', '2.04kg', 742.0], ['7248846', 'Lenovo', 'Yoga 500-15ISK', '2 in 1 Convertible', '15.6', 'IPS Panel Full HD / Touchscreen 1920x1080', 'Intel Core i7 6500U 2.5GHz', '4GB', '256GB SSD', 'Intel HD Graphics 520', 'Windows 10', '1.8kg', 847.0], ['6676297', 'HP', 'EliteBook 840', 'Notebook', '14', 'Full HD 1920x1080', 'Intel Core i5 6200U 2.3GHz', '4GB', '500GB HDD', 'Intel HD Graphics 520', 'Windows 10', '1.54kg', 1000.0], ['3736040', 'HP', 'Noteb Pav', 'Notebook', '15.6', 'IPS Panel Full HD 1920x1080', 'Intel Core i7 7500U 2.7GHz', '8GB', '1TB HDD', 'Nvidia GeForce 940MX', 'Windows 10', '1.91kg', 979.0], ['2481827', 'HP', 'ProBook 450', 'Notebook', '15.6', '1366x768', 'Intel Core i5 7200U 2.5GHz', '4GB', '256GB SSD', 'Intel HD Graphics 620', 'Windows 10', '2.04kg', 979.0], ['2286683', 'HP', 'ProBook 650', 'Notebook', '15.6', '1366x768', 'Intel Core i3 6100U 2.3GHz', '4GB', '500GB HDD', 'Intel HD Graphics 520', 'Windows 10', '2.31kg', 705.0], ['1375681', 'Asus', 'Rog G752VL-GC088D', 'Gaming', '17.3', 'IPS Panel Full HD 1920x1080', 'Intel Core i7 6700HQ 2.6GHz', '16GB', '1TB HDD', 'Nvidia GeForce GTX 965M', 'No OS', '4kg', 998.0], ['6236474', 'Dell', 'Inspiron 5567', 'Notebook', '15.6', 'Full HD 1920x1080', 'Intel Core i7 7500U 2.7GHz', '16GB', '2TB HDD', 'AMD Radeon R7 M445', 'Windows 10', '2.32kg', 989.0], ['1754994', 'Dell', 'Inspiron 5368', '2 in 1 Convertible', '13.3', 'Full HD / Touchscreen 1920x1080', 'Intel Core i7 6500U 2.5GHz', '8GB', '256GB SSD', 'Intel HD Graphics 520', 'Windows 10', '1.62kg', 798.0], ['2965574', 'Lenovo', 'Ideapad 700-15ISK', 'Notebook', '15.6', 'IPS Panel Full HD 1920x1080', 'Intel Core i5 6300HQ 2.3GHz', '4GB', '1TB HDD', 'Nvidia GeForce GTX 950M', 'Windows 10', '2.3kg', 977.0], ['4600984', 'HP', 'Probook 650', 'Notebook', '15.6', 'Full HD 1920x1080', 'Intel Core i5 6200U 2.3GHz', '4GB', '500GB HDD', 'Intel HD Graphics 520', 'Windows 7', '2.31kg', 940.0], ['5309221', 'Dell', 'Vostro 3568', 'Notebook', '15.6', 'Full HD 1920x1080', 'Intel Core i5 7200U 2.5GHz', '8GB', '256GB SSD', 'Intel HD Graphics 620', 'Windows 10', '2.18kg', 750.0], ['4594338', 'Dell', 'Inspiron 5370', 'Ultrabook', '13.3', 'IPS Panel Full HD 1920x1080', 'Intel Core i5 8250U 1.6GHz', '4GB', '256GB SSD', 'AMD Radeon 530', 'Windows 10', '1.4kg', 818.0], ['5567668', 'Acer', 'Aspire F5-573G', 'Notebook', '15.6', 'Full HD 1920x1080', 'Intel Core i5 7200U 2.5GHz', '8GB', '256GB SSD +  1TB HDD', 'Nvidia GeForce GTX 950M', 'Windows 10', '2.4kg', 799.0], ['7353700', 'Lenovo', 'Yoga 500-15ISK', '2 in 1 Convertible', '15.6', 'IPS Panel Full HD / Touchscreen 1920x1080', 'Intel Core i5 6200U 2.3GHz', '4GB', '256GB SSD', 'Intel HD Graphics 520', 'Windows 10', '2.1kg', 867.0], ['3997689', 'Dell', 'Vostro 3559', 'Notebook', '15.6', '1366x768', 'Intel Core i5 6200U 2.3GHz', '4GB', '500GB HDD', 'AMD Radeon R5 M315', 'Windows 7', '2.24kg', 769.0], ['4702771', 'Lenovo', 'Legion Y520-15IKBN', 'Gaming', '15.6', 'IPS Panel Full HD 1920x1080', 'Intel Core i5 7300HQ 2.5GHz', '8GB', '128GB SSD +  1TB HDD', 'Nvidia GeForce GTX 1060', 'No OS', '2.4kg', 989.0], ['3371187', 'HP', '250 G6', 'Ultrabook', '15.6', 'Full HD 1920x1080', 'Intel Core i7 7500U 2.7GHz', '8GB', '256GB SSD', 'Intel HD Graphics 620', 'Windows 10', '1.84kg', 752.0], ['5563916', 'Dell', 'Inspiron 5567', 'Notebook', '15.6', '1366x768', 'Intel Core i5 7200U 2.5GHz', '8GB', '1TB HDD', 'AMD Radeon R7 M445', 'Windows 10', '2.5kg', 784.0], ['1056057', 'Lenovo', 'B51-80 (i5-6200U/8GB/1008GB/Radeon', 'Notebook', '15.6', 'Full HD 1920x1080', 'Intel Core i5 6200U 2.3GHz', '8GB', '1.0TB Hybrid', 'AMD Radeon R5 M330', 'Windows 10', '2.5kg', 788.0], ['4358763', 'HP', 'Pavilion 15-cb003nv', 'Gaming', '15.6', 'IPS Panel Full HD 1920x1080', 'Intel Core i7 7700HQ 2.8GHz', '8GB', '1TB HDD', 'Nvidia GeForce GTX 1050', 'Windows 10', '2.62kg', 899.0], ['9101928', 'MSI', 'PL60 7RD', 'Gaming', '15.6', 'IPS Panel Full HD 1920x1080', 'Intel Core i7 7500U 2.7GHz', '8GB', '1TB HDD', 'Nvidia GeForce GTX 1050', 'Windows 10', '2.2kg', 839.0], ['6819784', 'Lenovo', 'IdeaPad 510-15IKB', 'Notebook', '15.6', 'Full HD 1920x1080', 'Intel Core i7 7500U 2.7GHz', '8GB', '1TB HDD', 'Nvidia GeForce 940MX', 'No OS', '2.2kg', 709.0], ['2618217', 'Asus', 'UX410UA-GV097T (i3-7100U/4GB/256GB/FHD/W10)', 'Notebook', '14', 'Full HD 1920x1080', 'Intel Core i3 7100U 2.4GHz', '4GB', '256GB SSD', 'Intel HD Graphics 620', 'Windows 10', '2kg', 769.0], ['9858096', 'Lenovo', 'B51-80 (i7-6500U/4GB/1008GB/FHD/W7)', 'Notebook', '15.6', 'Full HD 1920x1080', 'Intel Core i7 6500U 2.5GHz', '4GB', '1.0TB Hybrid', 'Intel HD Graphics 520', 'Windows 7', '2.32kg', 825.0], ['7476438', 'Lenovo', 'IdeaPad 310-15IKB', 'Ultrabook', '15.6', 'Full HD 1920x1080', 'Intel Core i7 7500U 2.7GHz', '6GB', '256GB SSD', 'Nvidia GeForce 920M', 'Windows 10', '1.54kg', 831.0], ['8716939', 'Dell', 'Vostro 5568', 'Notebook', '15.6', 'Full HD 1920x1080', 'Intel Core i7 7500U 2.7GHz', '8GB', '256GB SSD', 'Nvidia GeForce GT 940MX', 'Linux', '1.98kg', 895.0], ['3849318', 'HP', 'Pavilion 15-BC000nv', 'Notebook', '15.6', 'IPS Panel Full HD 1920x1080', 'Intel Core i7 6700HQ 2.6GHz', '6GB', '1TB HDD', 'Nvidia GeForce GTX 960M', 'Windows 10', '2.18kg', 799.0], ['6865594', 'Asus', 'Rog GL552VW-DM201T', 'Gaming', '15.6', 'IPS Panel Full HD 1920x1080', 'Intel Core i7 6700HQ 2.6GHz', '8GB', '256GB SSD +  1TB HDD', 'Nvidia GeForce GTX 960M', 'Windows 10', '2.591kg', 909.0], ['9747224', 'Lenovo', 'Legion Y520-15IKBN', 'Gaming', '15.6', 'IPS Panel Full HD 1920x1080', 'Intel Core i5 7300HQ 2.5GHz', '8GB', '1TB HDD', 'Nvidia GeForce GTX 1050', 'Windows 10', '2.4kg', 819.0], ['4600839', 'Dell', 'Inspiron 5567', 'Notebook', '15.6', 'Full HD 1920x1080', 'Intel Core i5 7200U 2.5GHz', '8GB', '256GB SSD', 'AMD Radeon R7 M445', 'Windows 10', '2.36kg', 889.0], ['9505275', 'Dell', 'Inspiron 7579', '2 in 1 Convertible', '15.6', 'IPS Panel Full HD / Touchscreen 1920x1080', 'Intel Core i5 7200U 2.5GHz', '8GB', '256GB SSD', 'Intel HD Graphics 620', 'Windows 10', '2.191kg', 999.0], ['7546603', 'Apple', 'MacBook Air', 'Ultrabook', '11.6', '1366x768', 'Intel Core i5 1.6GHz', '4GB', '256GB Flash Storage', 'Intel HD Graphics 6000', 'Mac OS X', '1.08kg', 959.0], ['9969570', 'Dell', 'Vostro 3559', 'Notebook', '15.6', '1366x768', 'Intel Core i5 6200U 2.3GHz', '4GB', '500GB HDD', 'Intel HD Graphics 520', 'Windows 7', '2.24kg', 737.0], ['6729956', 'Dell', 'Latitude 5480', 'Notebook', '14', '1366x768', 'Intel Core i5 7200U 2.5GHz', '4GB', '500GB HDD', 'Intel HD Graphics 620', 'Windows 10', '1.6kg', 875.0], ['3507379', 'Lenovo', 'B51-80 (i7-6500U/8GB/1008GB/Radeon', 'Notebook', '15.6', 'Full HD 1920x1080', 'Intel Core i7 6500U 2.5GHz', '8GB', '1.0TB Hybrid', 'AMD Radeon R5 M330', 'Windows 7', '2.32kg', 895.0], ['2434088', 'Lenovo', 'Yoga 500-14IBD', '2 in 1 Convertible', '14', 'Full HD / Touchscreen 1920x1080', 'Intel Core i5 6200U 2.3GHz', '4GB', '128GB SSD', 'Intel HD Graphics 520', 'Windows 10', '1.8kg', 833.0], ['9134926', 'Asus', 'ZenBook UX305CA-UBM1', 'Ultrabook', '13.3', 'IPS Panel Full HD 1920x1080', 'Intel Core M 6Y30 0.9GHz', '8GB', '512GB SSD', 'Intel HD Graphics 515', 'Windows 10', '1.2kg', 729.0], ['9166425', 'Lenovo', 'IdeaPad Y700-15ISK', 'Notebook', '15.6', 'IPS Panel Full HD 1920x1080', 'Intel Core i7 6700HQ 2.6GHz', '8GB', '1TB HDD', 'Nvidia GeForce GTX 960M', 'Windows 10', '2.6kg', 899.0], ['1012887', 'Dell', 'Inspiron 3567', 'Notebook', '15.6', '1366x768', 'Intel Core i7 7500U 2.7GHz', '8GB', '1TB HDD', 'AMD Radeon R5 M430', 'Linux', '2.3kg', 805.0], ['2988937', 'Asus', 'X556UJ-XO044T (i7-6500U/4GB/500GB/GeForce', 'Notebook', '15.6', '1366x768', 'Intel Core i7 6500U 2.5GHz', '4GB', '500GB HDD', 'Nvidia GeForce 920M', 'Windows 10', '2.2kg', 720.0], ['1665350', 'HP', '15-AC110nv (i7-6500U/6GB/1TB/Radeon', 'Notebook', '15.6', '1366x768', 'Intel Core i7 6500U 2.5GHz', '6GB', '1TB HDD', 'AMD Radeon R5 M330', 'Windows 10', '2.19kg', 764.0], ['1490009', 'Asus', 'ZenBook UX305CA-UBM1', 'Ultrabook', '13.3', 'IPS Panel Full HD 1920x1080', 'Intel Core M 6Y30 0.9GHz', '8GB', '512GB SSD', 'Intel HD Graphics 515', 'Windows 10', '1.2kg', 729.0], ['3377565', 'Lenovo', 'IdeaPad Y700-15ISK', 'Notebook', '15.6', 'IPS Panel Full HD 1920x1080', 'Intel Core i7 6700HQ 2.6GHz', '8GB', '1TB HDD', 'Nvidia GeForce GTX 960M', 'Windows 10', '2.6kg', 899.0], ['2955598', 'Dell', 'Inspiron 3567', 'Notebook', '15.6', '1366x768', 'Intel Core i7 7500U 2.7GHz', '8GB', '1TB HDD', 'AMD Radeon R5 M430', 'Linux', '2.3kg', 805.0], ['9642273', 'Asus', 'X556UJ-XO044T (i7-6500U/4GB/500GB/GeForce', 'Notebook', '15.6', '1366x768', 'Intel Core i7 6500U 2.5GHz', '4GB', '500GB HDD', 'Nvidia GeForce 920M', 'Windows 10', '2.2kg', 720.0], ['8977838', 'HP', '15-AC110nv (i7-6500U/6GB/1TB/Radeon', 'Notebook', '15.6', '1366x768', 'Intel Core i7 6500U 2.5GHz', '6GB', '1TB HDD', 'AMD Radeon R5 M330', 'Windows 10', '2.19kg', 764.0], ['5358634', 'Asus', 'ZenBook UX305CA-UBM1', 'Ultrabook', '13.3', 'IPS Panel Full HD 1920x1080', 'Intel Core M 6Y30 0.9GHz', '8GB', '512GB SSD', 'Intel HD Graphics 515', 'Windows 10', '1.2kg', 729.0], ['1860651', 'Lenovo', 'IdeaPad Y700-15ISK', 'Notebook', '15.6', 'IPS Panel Full HD 1920x1080', 'Intel Core i7 6700HQ 2.6GHz', '8GB', '1TB HDD', 'Nvidia GeForce GTX 960M', 'Windows 10', '2.6kg', 899.0], ['2845549', 'Dell', 'Inspiron 3567', 'Notebook', '15.6', '1366x768', 'Intel Core i7 7500U 2.7GHz', '8GB', '1TB HDD', 'AMD Radeon R5 M430', 'Linux', '2.3kg', 805.0], ['6931731', 'Asus', 'X556UJ-XO044T (i7-6500U/4GB/500GB/GeForce', 'Notebook', '15.6', '1366x768', 'Intel Core i7 6500U 2.5GHz', '4GB', '500GB HDD', 'Nvidia GeForce 920M', 'Windows 10', '2.2kg', 720.0], ['2490800', 'HP', '15-AC110nv (i7-6500U/6GB/1TB/Radeon', 'Notebook', '15.6', '1366x768', 'Intel Core i7 6500U 2.5GHz', '6GB', '1TB HDD', 'AMD Radeon R5 M330', 'Windows 10', '2.19kg', 764.0]]\n"
     ]
    }
   ],
   "source": [
    "#  Write a query that finds \n",
    "# all laptops whose price is in the given range\n",
    "def row_price(row):\n",
    "    return row[-1]\n",
    "class Inventory():\n",
    "    def __init__(self, csv_filename):\n",
    "        import csv\n",
    "        o = open('laptops.csv')\n",
    "        r = csv.reader(o)\n",
    "        csv_filename = list(r)\n",
    "        self.header = csv_filename[0]\n",
    "        self.rows= csv_filename[1:]\n",
    "        self.id_to_row={}\n",
    "        self.prices=set()\n",
    "        self.range=[]\n",
    "        for price in self.rows:\n",
    "            price[-1]=price[-1].replace(',','.')\n",
    "            price[-1] = float(price[-1])\n",
    "        for row in self.rows:\n",
    "            self.id_to_row[row[0]]=row[1:]\n",
    "        for row in self.rows:\n",
    "            self.prices.add(row[-1])\n",
    "        self.rows_by_price = sorted(self.rows, key=row_price)\n",
    "    def get_laptop_from_id(self, laptop_id):\n",
    "        for row in self.rows:\n",
    "            if row[0] == laptop_id:\n",
    "                return row\n",
    "        return None\n",
    "    def get_laptop_from_id_fast(self, laptop_id):\n",
    "        if laptop_id in self.id_to_row:\n",
    "            return self.id_to_row[laptop_id]\n",
    "        else:\n",
    "            return None\n",
    "    def check_promotion_dollars(self, dollars):\n",
    "        for row in self.rows:\n",
    "            if row[-1] == dollars:\n",
    "                return True\n",
    "            for row1 in self.rows:\n",
    "                if row[-1]+ row1[-1] == dollars:\n",
    "                    return True\n",
    "        return False\n",
    "    def check_promotion_dollars_fast(self, dollars):\n",
    "        for price in self.prices:\n",
    "            if dollars in self.prices:\n",
    "                return True\n",
    "            for price1 in self.prices:\n",
    "                if price1+price == dollars:\n",
    "                    return True\n",
    "        return False\n",
    "    def find_first_laptop_more_expensive(self, target_price):\n",
    "        range_start = 0\n",
    "        range_end = len(self.rows_by_price) - 1\n",
    "        while range_start < range_end:\n",
    "            range_middle = (range_end + range_start) // 2\n",
    "            price = self.rows_by_price[range_middle][-1]\n",
    "            if price == target_price:\n",
    "                return range_middle\n",
    "            elif price < target_price:\n",
    "                range_start = range_middle + 1\n",
    "            else:\n",
    "                range_end = range_middle - 1\n",
    "        price = self.rows_by_price[range_start][-1]\n",
    "        if price != target_price:\n",
    "            return -1\n",
    "        return range_start\n",
    "    \n",
    "    def finds_laptops_in_given_range(self, minprice, maxprice):\n",
    "        for row in self.rows:\n",
    "            if row[-1] >= minprice and row[-1]<= maxprice:\n",
    "                self.range.append(row)\n",
    "        return self.range\n",
    "my=Inventory(laptop)\n",
    "print(my.finds_laptops_in_given_range(700,1000))\n",
    "              "
   ]
  },
  {
   "cell_type": "code",
   "execution_count": 23,
   "metadata": {},
   "outputs": [
    {
     "name": "stdout",
     "output_type": "stream",
     "text": [
      "['5009762', 'HP', '15-BW094nd (A6-9220/8GB/128GB/W10)', 'Notebook', '15.6', '1366x768', 'AMD A6-Series A6-9220 2.5GHz', '8GB', '128GB SSD', 'AMD Radeon R4 Graphics', 'Windows 10', '1.91kg', 445.0]\n"
     ]
    }
   ],
   "source": [
    "# find the cheapest laptop that matches\n",
    "# the desired characteristics. For simplicity, focus only on the amount of RAM \n",
    "# and hard drive capacity.\n",
    "\n",
    "def row_price(row):\n",
    "    return row[-1]\n",
    "class Inventory():\n",
    "    def __init__(self, csv_filename):\n",
    "        import csv\n",
    "        o = open('laptops.csv')\n",
    "        r = csv.reader(o)\n",
    "        csv_filename = list(r)\n",
    "        self.header = csv_filename[0]\n",
    "        self.rows= csv_filename[1:]\n",
    "        self.id_to_row={}\n",
    "        self.prices=set()\n",
    "        self.range=[]\n",
    "        self.ram_hdd=[]\n",
    "        for price in self.rows:\n",
    "            price[-1]=price[-1].replace(',','.')\n",
    "            price[-1] = float(price[-1])\n",
    "            \n",
    "        for row in self.rows:\n",
    "            self.id_to_row[row[0]]=row[1:]\n",
    "        for row in self.rows:\n",
    "            self.prices.add(row[-1])\n",
    "        self.rows_by_price = sorted(self.rows, key=row_price)\n",
    "    def get_laptop_from_id(self, laptop_id):\n",
    "        for row in self.rows:\n",
    "            if row[0] == laptop_id:\n",
    "                return row\n",
    "        return None\n",
    "    def get_laptop_from_id_fast(self, laptop_id):\n",
    "        if laptop_id in self.id_to_row:\n",
    "            return self.id_to_row[laptop_id]\n",
    "        else:\n",
    "            return None\n",
    "    def check_promotion_dollars(self, dollars):\n",
    "        for row in self.rows:\n",
    "            if row[-1] == dollars:\n",
    "                return True\n",
    "            for row1 in self.rows:\n",
    "                if row[-1]+ row1[-1] == dollars:\n",
    "                    return True\n",
    "        return False\n",
    "    def check_promotion_dollars_fast(self, dollars):\n",
    "        for price in self.prices:\n",
    "            if dollars in self.prices:\n",
    "                return True\n",
    "            for price1 in self.prices:\n",
    "                if price1+price == dollars:\n",
    "                    return True\n",
    "        return False\n",
    "    def find_first_laptop_more_expensive(self, target_price):\n",
    "        range_start = 0\n",
    "        range_end = len(self.rows_by_price) - 1\n",
    "        while range_start < range_end:\n",
    "            range_middle = (range_end + range_start) // 2\n",
    "            price = self.rows_by_price[range_middle][-1]\n",
    "            if price == target_price:\n",
    "                return range_middle\n",
    "            elif price < target_price:\n",
    "                range_start = range_middle + 1\n",
    "            else:\n",
    "                range_end = range_middle - 1\n",
    "        price = self.rows_by_price[range_start][-1]\n",
    "        if price != target_price:\n",
    "            return -1\n",
    "        return range_start\n",
    "    \n",
    "    def finds_laptops_in_given_range(self, minprice, maxprice):\n",
    "        for row in self.rows:\n",
    "            if row[-1] >= minprice and row[-1]<= maxprice:\n",
    "                self.range.append(row)\n",
    "        return self.range\n",
    "    \n",
    "    def cheapest_laptop_for_desired_characteristics(self, ram ,harddrive):\n",
    "        for row in self.rows_by_price:\n",
    "            if row[-5]== harddrive and row[-6]==ram:\n",
    "                self.ram_hdd.append(row)\n",
    "        return self.ram_hdd[0]\n",
    "    \n",
    "    \n",
    "    \n",
    "    \n",
    "        \n",
    "my=Inventory(laptop)\n",
    "print(my.cheapest_laptop_for_desired_characteristics('8GB','128GB SSD'))\n",
    "              "
   ]
  },
  {
   "cell_type": "code",
   "execution_count": null,
   "metadata": {},
   "outputs": [],
   "source": []
  }
 ],
 "metadata": {
  "kernelspec": {
   "display_name": "base",
   "language": "python",
   "name": "python3"
  },
  "language_info": {
   "codemirror_mode": {
    "name": "ipython",
    "version": 3
   },
   "file_extension": ".py",
   "mimetype": "text/x-python",
   "name": "python",
   "nbconvert_exporter": "python",
   "pygments_lexer": "ipython3",
   "version": "3.9.12"
  },
  "vscode": {
   "interpreter": {
    "hash": "610a6f344c2137faf927ea819c63f6cee33a2c04455044b28099f39fe9722347"
   }
  }
 },
 "nbformat": 4,
 "nbformat_minor": 2
}
