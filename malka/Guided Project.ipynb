{
 "cells": [
  {
   "attachments": {},
   "cell_type": "markdown",
   "metadata": {},
   "source": [
    "## Worlds Best Employers"
   ]
  },
  {
   "attachments": {},
   "cell_type": "markdown",
   "metadata": {},
   "source": [
    "### leah itzinger\n",
    "1/18/2023"
   ]
  },
  {
   "cell_type": "code",
   "execution_count": 17,
   "metadata": {},
   "outputs": [],
   "source": [
    "# Reading in the csv as a list of lists\n",
    "import csv\n",
    "with open (\"Worlds Best Employers.csv\", encoding = 'UTF-8') as f:\n",
    "    reader = csv.reader(f)\n",
    "    rows = list(reader)\n",
    "header = rows[0]\n",
    "rows = rows[1:]\n"
   ]
  },
  {
   "cell_type": "code",
   "execution_count": 18,
   "metadata": {},
   "outputs": [
    {
     "name": "stdout",
     "output_type": "stream",
     "text": [
      "['RANK', 'NAME', 'INDUSTRIES', 'COUNTRY/TERRITORY', 'EMPLOYEES']\n"
     ]
    }
   ],
   "source": [
    "print (header)"
   ]
  },
  {
   "cell_type": "code",
   "execution_count": 19,
   "metadata": {},
   "outputs": [
    {
     "name": "stdout",
     "output_type": "stream",
     "text": [
      "[['1.', 'Samsung Electronics', 'Semiconductors, Electronics, Electrical Engineering, Technology Hardware & Equipment', 'South Kore', '266,673'], ['2.', 'Microsoft', 'IT, Internet, Software & Services', 'United States', '221,000'], ['3.', 'IBM', 'Semiconductors, Electronics, Electrical Engineering, Technology Hardware & Equipment', 'United States', '250,000']]\n"
     ]
    }
   ],
   "source": [
    "print (rows[:3])"
   ]
  },
  {
   "cell_type": "code",
   "execution_count": 20,
   "metadata": {},
   "outputs": [],
   "source": [
    "# Creating a dictionary with the country as a key and the rest of the information as values\n",
    "eployees_by_country = {}\n",
    "for row in rows:\n",
    "    if row[3] in eployees_by_country:\n",
    "        eployees_by_country[row[3]] += [row[:3] + row[4:]]\n",
    "    else:\n",
    "        eployees_by_country[row[3]] = [row[:3] + row[4:]]\n"
   ]
  },
  {
   "attachments": {},
   "cell_type": "markdown",
   "metadata": {},
   "source": [
    "We used a for loop in order to create a dictionary with the countries as keys, the values are lists of all the information of the companies in that country. This for loop saves time for all lookups from now on. Now we can find all the information by country just with calling the key."
   ]
  },
  {
   "cell_type": "code",
   "execution_count": 22,
   "metadata": {},
   "outputs": [],
   "source": [
    "# Creating a set of all industries\n",
    "industries = set()\n",
    "for row in rows:\n",
    "    industries.add(row[2])"
   ]
  },
  {
   "cell_type": "code",
   "execution_count": 23,
   "metadata": {},
   "outputs": [
    {
     "data": {
      "text/plain": [
       "{'Aerospace & Defense',\n",
       " 'Automotive (Automotive and Suppliers)',\n",
       " 'Banking and Financial Services',\n",
       " 'Clothing, Shoes, Sports Equipment',\n",
       " 'Conglomerate',\n",
       " 'Construction, Oil & Gas Operations, Mining and Chemicals',\n",
       " 'Drugs & Biotechnology',\n",
       " 'Engineering, Manufacturing',\n",
       " 'Food, Soft Beverages, Alcohol & Tobacco',\n",
       " 'Health Care Equipment & Services',\n",
       " 'Healthcare & Social',\n",
       " 'IT, Internet, Software & Services',\n",
       " 'Media & Advertising',\n",
       " 'Packaged Goods',\n",
       " 'Retail and Wholesale',\n",
       " 'Semiconductors, Electronics, Electrical Engineering, Technology Hardware & Equipment',\n",
       " 'Telecommunications Services, Cable Supplier',\n",
       " 'Transportation and Logistics',\n",
       " 'Travel & Leisure      ',\n",
       " 'Utilities'}"
      ]
     },
     "execution_count": 23,
     "metadata": {},
     "output_type": "execute_result"
    }
   ],
   "source": [
    "industries"
   ]
  },
  {
   "attachments": {},
   "cell_type": "markdown",
   "metadata": {},
   "source": [
    "We created a set of all industries to make it easier to check up all the different types and that way save time and space."
   ]
  },
  {
   "cell_type": "code",
   "execution_count": 24,
   "metadata": {},
   "outputs": [],
   "source": [
    "sorted_company_names = []\n",
    "for row in rows:\n",
    "    sorted_company_names.append(row[1])\n",
    "sorted_company_names = sorted(sorted_company_names)    "
   ]
  },
  {
   "cell_type": "code",
   "execution_count": 25,
   "metadata": {},
   "outputs": [],
   "source": [
    "# Binary search on the rank with a list of lists\n",
    "def list_lookup(sorted_names, target_name):\n",
    "    range_start = 0\n",
    "    range_end = len(sorted_names) - 1\n",
    "    while range_start < range_end:\n",
    "        range_middle = (range_end + range_start) // 2\n",
    "        name = sorted_names[range_middle]\n",
    "        if name == target_name:\n",
    "            for row in rows:\n",
    "                if row[1] == name:\n",
    "                    return row[0]\n",
    "        elif name < target_name:\n",
    "            range_start = range_middle + 1\n",
    "        else:\n",
    "            range_end = range_middle - 1\n",
    "    if sorted_names[range_start] != target_name:\n",
    "        return False\n",
    "    else:\n",
    "        for row in rows:\n",
    "            if row[1] == target_name:\n",
    "                return row[0]  "
   ]
  },
  {
   "cell_type": "code",
   "execution_count": 26,
   "metadata": {},
   "outputs": [
    {
     "data": {
      "text/plain": [
       "'5.'"
      ]
     },
     "execution_count": 26,
     "metadata": {},
     "output_type": "execute_result"
    }
   ],
   "source": [
    "list_lookup(sorted_company_names, 'Apple')"
   ]
  },
  {
   "cell_type": "code",
   "execution_count": 27,
   "metadata": {},
   "outputs": [
    {
     "name": "stdout",
     "output_type": "stream",
     "text": [
      "['5.', 'Apple', 'Semiconductors, Electronics, Electrical Engineering, Technology Hardware & Equipment', 'United States', '154,000']\n"
     ]
    }
   ],
   "source": [
    "print (rows[4])"
   ]
  },
  {
   "cell_type": "code",
   "execution_count": 28,
   "metadata": {},
   "outputs": [],
   "source": [
    "#reading in the file as df\n",
    "import pandas as pd\n",
    "employees_df = pd.DataFrame(rows, columns = header)"
   ]
  },
  {
   "cell_type": "code",
   "execution_count": 29,
   "metadata": {},
   "outputs": [
    {
     "data": {
      "text/html": [
       "<div>\n",
       "<style scoped>\n",
       "    .dataframe tbody tr th:only-of-type {\n",
       "        vertical-align: middle;\n",
       "    }\n",
       "\n",
       "    .dataframe tbody tr th {\n",
       "        vertical-align: top;\n",
       "    }\n",
       "\n",
       "    .dataframe thead th {\n",
       "        text-align: right;\n",
       "    }\n",
       "</style>\n",
       "<table border=\"1\" class=\"dataframe\">\n",
       "  <thead>\n",
       "    <tr style=\"text-align: right;\">\n",
       "      <th></th>\n",
       "      <th>RANK</th>\n",
       "      <th>NAME</th>\n",
       "      <th>INDUSTRIES</th>\n",
       "      <th>COUNTRY/TERRITORY</th>\n",
       "      <th>EMPLOYEES</th>\n",
       "    </tr>\n",
       "  </thead>\n",
       "  <tbody>\n",
       "    <tr>\n",
       "      <th>0</th>\n",
       "      <td>1.</td>\n",
       "      <td>Samsung Electronics</td>\n",
       "      <td>Semiconductors, Electronics, Electrical Engine...</td>\n",
       "      <td>South Kore</td>\n",
       "      <td>266,673</td>\n",
       "    </tr>\n",
       "    <tr>\n",
       "      <th>1</th>\n",
       "      <td>2.</td>\n",
       "      <td>Microsoft</td>\n",
       "      <td>IT, Internet, Software &amp; Services</td>\n",
       "      <td>United States</td>\n",
       "      <td>221,000</td>\n",
       "    </tr>\n",
       "    <tr>\n",
       "      <th>2</th>\n",
       "      <td>3.</td>\n",
       "      <td>IBM</td>\n",
       "      <td>Semiconductors, Electronics, Electrical Engine...</td>\n",
       "      <td>United States</td>\n",
       "      <td>250,000</td>\n",
       "    </tr>\n",
       "    <tr>\n",
       "      <th>3</th>\n",
       "      <td>4.</td>\n",
       "      <td>Alphabet</td>\n",
       "      <td>IT, Internet, Software &amp; Services</td>\n",
       "      <td>United States</td>\n",
       "      <td>156,500</td>\n",
       "    </tr>\n",
       "    <tr>\n",
       "      <th>4</th>\n",
       "      <td>5.</td>\n",
       "      <td>Apple</td>\n",
       "      <td>Semiconductors, Electronics, Electrical Engine...</td>\n",
       "      <td>United States</td>\n",
       "      <td>154,000</td>\n",
       "    </tr>\n",
       "  </tbody>\n",
       "</table>\n",
       "</div>"
      ],
      "text/plain": [
       "  RANK                 NAME  \\\n",
       "0   1.  Samsung Electronics   \n",
       "1   2.            Microsoft   \n",
       "2   3.                  IBM   \n",
       "3   4.             Alphabet   \n",
       "4   5.                Apple   \n",
       "\n",
       "                                          INDUSTRIES COUNTRY/TERRITORY  \\\n",
       "0  Semiconductors, Electronics, Electrical Engine...        South Kore   \n",
       "1                  IT, Internet, Software & Services     United States   \n",
       "2  Semiconductors, Electronics, Electrical Engine...     United States   \n",
       "3                  IT, Internet, Software & Services     United States   \n",
       "4  Semiconductors, Electronics, Electrical Engine...     United States   \n",
       "\n",
       "  EMPLOYEES  \n",
       "0   266,673  \n",
       "1   221,000  \n",
       "2   250,000  \n",
       "3   156,500  \n",
       "4   154,000  "
      ]
     },
     "execution_count": 29,
     "metadata": {},
     "output_type": "execute_result"
    }
   ],
   "source": [
    "employees_df.head()"
   ]
  },
  {
   "cell_type": "code",
   "execution_count": 30,
   "metadata": {},
   "outputs": [],
   "source": [
    "# Binary search on the rank with a pandas dataframe\n",
    "def df_lookup(df, sorted_names, target_name):\n",
    "    range_start = 0\n",
    "    range_end = len(sorted_names) - 1\n",
    "    while range_start < range_end:\n",
    "        range_middle = (range_end + range_start) // 2\n",
    "        name = sorted_names[range_middle]\n",
    "        if name == target_name:\n",
    "            return df['RANK'][df['NAME'] == target_name]\n",
    "        elif name < target_name:\n",
    "            range_start = range_middle + 1\n",
    "        else:\n",
    "            range_end = range_middle - 1\n",
    "    if sorted_names[range_start] != target_name:\n",
    "        return False\n",
    "    else:\n",
    "        return df['RANK'][df['NAME'] == target_name]  "
   ]
  },
  {
   "cell_type": "code",
   "execution_count": 31,
   "metadata": {},
   "outputs": [
    {
     "data": {
      "text/plain": [
       "2    3.\n",
       "Name: RANK, dtype: object"
      ]
     },
     "execution_count": 31,
     "metadata": {},
     "output_type": "execute_result"
    }
   ],
   "source": [
    "df_lookup(employees_df, sorted_company_names, 'IBM')"
   ]
  },
  {
   "cell_type": "code",
   "execution_count": 32,
   "metadata": {},
   "outputs": [
    {
     "name": "stdout",
     "output_type": "stream",
     "text": [
      "0.0009980201721191406 0.0\n"
     ]
    }
   ],
   "source": [
    "#checking whats faster binary search with list or with df\n",
    "import time\n",
    "start=time.time()\n",
    "list_lookup(sorted_company_names, 'IBM')\n",
    "end=time.time()\n",
    "list_time=end-start\n",
    "\n",
    "\n",
    "start=time.time()\n",
    "df_lookup(employees_df, sorted_company_names, 'IBM')\n",
    "end=time.time()\n",
    "df_time=end-start\n",
    "print(df_time,list_time)\n",
    "\n"
   ]
  },
  {
   "attachments": {},
   "cell_type": "markdown",
   "metadata": {},
   "source": [
    "We see that list search is much faster than df search"
   ]
  },
  {
   "cell_type": "code",
   "execution_count": null,
   "metadata": {},
   "outputs": [],
   "source": []
  }
 ],
 "metadata": {
  "kernelspec": {
   "display_name": "base",
   "language": "python",
   "name": "python3"
  },
  "language_info": {
   "codemirror_mode": {
    "name": "ipython",
    "version": 3
   },
   "file_extension": ".py",
   "mimetype": "text/x-python",
   "name": "python",
   "nbconvert_exporter": "python",
   "pygments_lexer": "ipython3",
   "version": "3.9.12 (main, Apr  4 2022, 05:22:27) [MSC v.1916 64 bit (AMD64)]"
  },
  "orig_nbformat": 4,
  "vscode": {
   "interpreter": {
    "hash": "610a6f344c2137faf927ea819c63f6cee33a2c04455044b28099f39fe9722347"
   }
  }
 },
 "nbformat": 4,
 "nbformat_minor": 2
}
