{
 "cells": [
  {
   "cell_type": "code",
   "execution_count": 911,
   "metadata": {},
   "outputs": [],
   "source": [
    "import pandas as pd\n",
    "import matplotlib.pyplot as plt\n",
    "import seaborn as sns"
   ]
  },
  {
   "cell_type": "code",
   "execution_count": 912,
   "metadata": {},
   "outputs": [],
   "source": [
    "hotel=pd.read_csv('C:/Users/admin/Documents/guided project/guided-project/hotel_bookings.csv')"
   ]
  },
  {
   "cell_type": "code",
   "execution_count": 913,
   "metadata": {},
   "outputs": [
    {
     "data": {
      "text/html": [
       "<div>\n",
       "<style scoped>\n",
       "    .dataframe tbody tr th:only-of-type {\n",
       "        vertical-align: middle;\n",
       "    }\n",
       "\n",
       "    .dataframe tbody tr th {\n",
       "        vertical-align: top;\n",
       "    }\n",
       "\n",
       "    .dataframe thead th {\n",
       "        text-align: right;\n",
       "    }\n",
       "</style>\n",
       "<table border=\"1\" class=\"dataframe\">\n",
       "  <thead>\n",
       "    <tr style=\"text-align: right;\">\n",
       "      <th></th>\n",
       "      <th>hotel</th>\n",
       "      <th>is_canceled</th>\n",
       "      <th>lead_time</th>\n",
       "      <th>arrival_date_year</th>\n",
       "      <th>arrival_date_month</th>\n",
       "      <th>arrival_date_week_number</th>\n",
       "      <th>arrival_date_day_of_month</th>\n",
       "      <th>stays_in_weekend_nights</th>\n",
       "      <th>stays_in_week_nights</th>\n",
       "      <th>adults</th>\n",
       "      <th>...</th>\n",
       "      <th>deposit_type</th>\n",
       "      <th>agent</th>\n",
       "      <th>company</th>\n",
       "      <th>days_in_waiting_list</th>\n",
       "      <th>customer_type</th>\n",
       "      <th>adr</th>\n",
       "      <th>required_car_parking_spaces</th>\n",
       "      <th>total_of_special_requests</th>\n",
       "      <th>reservation_status</th>\n",
       "      <th>reservation_status_date</th>\n",
       "    </tr>\n",
       "  </thead>\n",
       "  <tbody>\n",
       "    <tr>\n",
       "      <th>0</th>\n",
       "      <td>Resort Hotel</td>\n",
       "      <td>0</td>\n",
       "      <td>342</td>\n",
       "      <td>2015</td>\n",
       "      <td>July</td>\n",
       "      <td>27</td>\n",
       "      <td>1</td>\n",
       "      <td>0</td>\n",
       "      <td>0</td>\n",
       "      <td>2</td>\n",
       "      <td>...</td>\n",
       "      <td>No Deposit</td>\n",
       "      <td>NaN</td>\n",
       "      <td>NaN</td>\n",
       "      <td>0</td>\n",
       "      <td>Transient</td>\n",
       "      <td>0.0</td>\n",
       "      <td>0</td>\n",
       "      <td>0</td>\n",
       "      <td>Check-Out</td>\n",
       "      <td>2015-07-01</td>\n",
       "    </tr>\n",
       "    <tr>\n",
       "      <th>1</th>\n",
       "      <td>Resort Hotel</td>\n",
       "      <td>0</td>\n",
       "      <td>737</td>\n",
       "      <td>2015</td>\n",
       "      <td>July</td>\n",
       "      <td>27</td>\n",
       "      <td>1</td>\n",
       "      <td>0</td>\n",
       "      <td>0</td>\n",
       "      <td>2</td>\n",
       "      <td>...</td>\n",
       "      <td>No Deposit</td>\n",
       "      <td>NaN</td>\n",
       "      <td>NaN</td>\n",
       "      <td>0</td>\n",
       "      <td>Transient</td>\n",
       "      <td>0.0</td>\n",
       "      <td>0</td>\n",
       "      <td>0</td>\n",
       "      <td>Check-Out</td>\n",
       "      <td>2015-07-01</td>\n",
       "    </tr>\n",
       "    <tr>\n",
       "      <th>2</th>\n",
       "      <td>Resort Hotel</td>\n",
       "      <td>0</td>\n",
       "      <td>7</td>\n",
       "      <td>2015</td>\n",
       "      <td>July</td>\n",
       "      <td>27</td>\n",
       "      <td>1</td>\n",
       "      <td>0</td>\n",
       "      <td>1</td>\n",
       "      <td>1</td>\n",
       "      <td>...</td>\n",
       "      <td>No Deposit</td>\n",
       "      <td>NaN</td>\n",
       "      <td>NaN</td>\n",
       "      <td>0</td>\n",
       "      <td>Transient</td>\n",
       "      <td>75.0</td>\n",
       "      <td>0</td>\n",
       "      <td>0</td>\n",
       "      <td>Check-Out</td>\n",
       "      <td>2015-07-02</td>\n",
       "    </tr>\n",
       "    <tr>\n",
       "      <th>3</th>\n",
       "      <td>Resort Hotel</td>\n",
       "      <td>0</td>\n",
       "      <td>13</td>\n",
       "      <td>2015</td>\n",
       "      <td>July</td>\n",
       "      <td>27</td>\n",
       "      <td>1</td>\n",
       "      <td>0</td>\n",
       "      <td>1</td>\n",
       "      <td>1</td>\n",
       "      <td>...</td>\n",
       "      <td>No Deposit</td>\n",
       "      <td>304.0</td>\n",
       "      <td>NaN</td>\n",
       "      <td>0</td>\n",
       "      <td>Transient</td>\n",
       "      <td>75.0</td>\n",
       "      <td>0</td>\n",
       "      <td>0</td>\n",
       "      <td>Check-Out</td>\n",
       "      <td>2015-07-02</td>\n",
       "    </tr>\n",
       "    <tr>\n",
       "      <th>4</th>\n",
       "      <td>Resort Hotel</td>\n",
       "      <td>0</td>\n",
       "      <td>14</td>\n",
       "      <td>2015</td>\n",
       "      <td>July</td>\n",
       "      <td>27</td>\n",
       "      <td>1</td>\n",
       "      <td>0</td>\n",
       "      <td>2</td>\n",
       "      <td>2</td>\n",
       "      <td>...</td>\n",
       "      <td>No Deposit</td>\n",
       "      <td>240.0</td>\n",
       "      <td>NaN</td>\n",
       "      <td>0</td>\n",
       "      <td>Transient</td>\n",
       "      <td>98.0</td>\n",
       "      <td>0</td>\n",
       "      <td>1</td>\n",
       "      <td>Check-Out</td>\n",
       "      <td>2015-07-03</td>\n",
       "    </tr>\n",
       "  </tbody>\n",
       "</table>\n",
       "<p>5 rows × 32 columns</p>\n",
       "</div>"
      ],
      "text/plain": [
       "          hotel  is_canceled  lead_time  arrival_date_year arrival_date_month  \\\n",
       "0  Resort Hotel            0        342               2015               July   \n",
       "1  Resort Hotel            0        737               2015               July   \n",
       "2  Resort Hotel            0          7               2015               July   \n",
       "3  Resort Hotel            0         13               2015               July   \n",
       "4  Resort Hotel            0         14               2015               July   \n",
       "\n",
       "   arrival_date_week_number  arrival_date_day_of_month  \\\n",
       "0                        27                          1   \n",
       "1                        27                          1   \n",
       "2                        27                          1   \n",
       "3                        27                          1   \n",
       "4                        27                          1   \n",
       "\n",
       "   stays_in_weekend_nights  stays_in_week_nights  adults  ...  deposit_type  \\\n",
       "0                        0                     0       2  ...    No Deposit   \n",
       "1                        0                     0       2  ...    No Deposit   \n",
       "2                        0                     1       1  ...    No Deposit   \n",
       "3                        0                     1       1  ...    No Deposit   \n",
       "4                        0                     2       2  ...    No Deposit   \n",
       "\n",
       "   agent company days_in_waiting_list customer_type   adr  \\\n",
       "0    NaN     NaN                    0     Transient   0.0   \n",
       "1    NaN     NaN                    0     Transient   0.0   \n",
       "2    NaN     NaN                    0     Transient  75.0   \n",
       "3  304.0     NaN                    0     Transient  75.0   \n",
       "4  240.0     NaN                    0     Transient  98.0   \n",
       "\n",
       "   required_car_parking_spaces  total_of_special_requests  reservation_status  \\\n",
       "0                            0                          0           Check-Out   \n",
       "1                            0                          0           Check-Out   \n",
       "2                            0                          0           Check-Out   \n",
       "3                            0                          0           Check-Out   \n",
       "4                            0                          1           Check-Out   \n",
       "\n",
       "  reservation_status_date  \n",
       "0              2015-07-01  \n",
       "1              2015-07-01  \n",
       "2              2015-07-02  \n",
       "3              2015-07-02  \n",
       "4              2015-07-03  \n",
       "\n",
       "[5 rows x 32 columns]"
      ]
     },
     "execution_count": 913,
     "metadata": {},
     "output_type": "execute_result"
    }
   ],
   "source": [
    "hotel.head()"
   ]
  },
  {
   "attachments": {},
   "cell_type": "markdown",
   "metadata": {},
   "source": [
    "###  cleaning the nans"
   ]
  },
  {
   "cell_type": "code",
   "execution_count": 914,
   "metadata": {},
   "outputs": [
    {
     "name": "stdout",
     "output_type": "stream",
     "text": [
      "<class 'pandas.core.frame.DataFrame'>\n",
      "RangeIndex: 119390 entries, 0 to 119389\n",
      "Data columns (total 32 columns):\n",
      " #   Column                          Non-Null Count   Dtype  \n",
      "---  ------                          --------------   -----  \n",
      " 0   hotel                           119390 non-null  object \n",
      " 1   is_canceled                     119390 non-null  int64  \n",
      " 2   lead_time                       119390 non-null  int64  \n",
      " 3   arrival_date_year               119390 non-null  int64  \n",
      " 4   arrival_date_month              119390 non-null  object \n",
      " 5   arrival_date_week_number        119390 non-null  int64  \n",
      " 6   arrival_date_day_of_month       119390 non-null  int64  \n",
      " 7   stays_in_weekend_nights         119390 non-null  int64  \n",
      " 8   stays_in_week_nights            119390 non-null  int64  \n",
      " 9   adults                          119390 non-null  int64  \n",
      " 10  children                        119386 non-null  float64\n",
      " 11  babies                          119390 non-null  int64  \n",
      " 12  meal                            119390 non-null  object \n",
      " 13  country                         118902 non-null  object \n",
      " 14  market_segment                  119390 non-null  object \n",
      " 15  distribution_channel            119390 non-null  object \n",
      " 16  is_repeated_guest               119390 non-null  int64  \n",
      " 17  previous_cancellations          119390 non-null  int64  \n",
      " 18  previous_bookings_not_canceled  119390 non-null  int64  \n",
      " 19  reserved_room_type              119390 non-null  object \n",
      " 20  assigned_room_type              119390 non-null  object \n",
      " 21  booking_changes                 119390 non-null  int64  \n",
      " 22  deposit_type                    119390 non-null  object \n",
      " 23  agent                           103050 non-null  float64\n",
      " 24  company                         6797 non-null    float64\n",
      " 25  days_in_waiting_list            119390 non-null  int64  \n",
      " 26  customer_type                   119390 non-null  object \n",
      " 27  adr                             119390 non-null  float64\n",
      " 28  required_car_parking_spaces     119390 non-null  int64  \n",
      " 29  total_of_special_requests       119390 non-null  int64  \n",
      " 30  reservation_status              119390 non-null  object \n",
      " 31  reservation_status_date         119390 non-null  object \n",
      "dtypes: float64(4), int64(16), object(12)\n",
      "memory usage: 29.1+ MB\n"
     ]
    }
   ],
   "source": [
    "hotel.info()"
   ]
  },
  {
   "cell_type": "code",
   "execution_count": 915,
   "metadata": {},
   "outputs": [
    {
     "data": {
      "text/html": [
       "<div>\n",
       "<style scoped>\n",
       "    .dataframe tbody tr th:only-of-type {\n",
       "        vertical-align: middle;\n",
       "    }\n",
       "\n",
       "    .dataframe tbody tr th {\n",
       "        vertical-align: top;\n",
       "    }\n",
       "\n",
       "    .dataframe thead th {\n",
       "        text-align: right;\n",
       "    }\n",
       "</style>\n",
       "<table border=\"1\" class=\"dataframe\">\n",
       "  <thead>\n",
       "    <tr style=\"text-align: right;\">\n",
       "      <th></th>\n",
       "      <th>is_canceled</th>\n",
       "      <th>lead_time</th>\n",
       "      <th>arrival_date_year</th>\n",
       "      <th>arrival_date_week_number</th>\n",
       "      <th>arrival_date_day_of_month</th>\n",
       "      <th>stays_in_weekend_nights</th>\n",
       "      <th>stays_in_week_nights</th>\n",
       "      <th>adults</th>\n",
       "      <th>children</th>\n",
       "      <th>babies</th>\n",
       "      <th>is_repeated_guest</th>\n",
       "      <th>previous_cancellations</th>\n",
       "      <th>previous_bookings_not_canceled</th>\n",
       "      <th>booking_changes</th>\n",
       "      <th>agent</th>\n",
       "      <th>company</th>\n",
       "      <th>days_in_waiting_list</th>\n",
       "      <th>adr</th>\n",
       "      <th>required_car_parking_spaces</th>\n",
       "      <th>total_of_special_requests</th>\n",
       "    </tr>\n",
       "  </thead>\n",
       "  <tbody>\n",
       "    <tr>\n",
       "      <th>count</th>\n",
       "      <td>119390.000000</td>\n",
       "      <td>119390.000000</td>\n",
       "      <td>119390.000000</td>\n",
       "      <td>119390.000000</td>\n",
       "      <td>119390.000000</td>\n",
       "      <td>119390.000000</td>\n",
       "      <td>119390.000000</td>\n",
       "      <td>119390.000000</td>\n",
       "      <td>119386.000000</td>\n",
       "      <td>119390.000000</td>\n",
       "      <td>119390.000000</td>\n",
       "      <td>119390.000000</td>\n",
       "      <td>119390.000000</td>\n",
       "      <td>119390.000000</td>\n",
       "      <td>103050.000000</td>\n",
       "      <td>6797.000000</td>\n",
       "      <td>119390.000000</td>\n",
       "      <td>119390.000000</td>\n",
       "      <td>119390.000000</td>\n",
       "      <td>119390.000000</td>\n",
       "    </tr>\n",
       "    <tr>\n",
       "      <th>mean</th>\n",
       "      <td>0.370416</td>\n",
       "      <td>104.011416</td>\n",
       "      <td>2016.156554</td>\n",
       "      <td>27.165173</td>\n",
       "      <td>15.798241</td>\n",
       "      <td>0.927599</td>\n",
       "      <td>2.500302</td>\n",
       "      <td>1.856403</td>\n",
       "      <td>0.103890</td>\n",
       "      <td>0.007949</td>\n",
       "      <td>0.031912</td>\n",
       "      <td>0.087118</td>\n",
       "      <td>0.137097</td>\n",
       "      <td>0.221124</td>\n",
       "      <td>86.693382</td>\n",
       "      <td>189.266735</td>\n",
       "      <td>2.321149</td>\n",
       "      <td>101.831122</td>\n",
       "      <td>0.062518</td>\n",
       "      <td>0.571363</td>\n",
       "    </tr>\n",
       "    <tr>\n",
       "      <th>std</th>\n",
       "      <td>0.482918</td>\n",
       "      <td>106.863097</td>\n",
       "      <td>0.707476</td>\n",
       "      <td>13.605138</td>\n",
       "      <td>8.780829</td>\n",
       "      <td>0.998613</td>\n",
       "      <td>1.908286</td>\n",
       "      <td>0.579261</td>\n",
       "      <td>0.398561</td>\n",
       "      <td>0.097436</td>\n",
       "      <td>0.175767</td>\n",
       "      <td>0.844336</td>\n",
       "      <td>1.497437</td>\n",
       "      <td>0.652306</td>\n",
       "      <td>110.774548</td>\n",
       "      <td>131.655015</td>\n",
       "      <td>17.594721</td>\n",
       "      <td>50.535790</td>\n",
       "      <td>0.245291</td>\n",
       "      <td>0.792798</td>\n",
       "    </tr>\n",
       "    <tr>\n",
       "      <th>min</th>\n",
       "      <td>0.000000</td>\n",
       "      <td>0.000000</td>\n",
       "      <td>2015.000000</td>\n",
       "      <td>1.000000</td>\n",
       "      <td>1.000000</td>\n",
       "      <td>0.000000</td>\n",
       "      <td>0.000000</td>\n",
       "      <td>0.000000</td>\n",
       "      <td>0.000000</td>\n",
       "      <td>0.000000</td>\n",
       "      <td>0.000000</td>\n",
       "      <td>0.000000</td>\n",
       "      <td>0.000000</td>\n",
       "      <td>0.000000</td>\n",
       "      <td>1.000000</td>\n",
       "      <td>6.000000</td>\n",
       "      <td>0.000000</td>\n",
       "      <td>-6.380000</td>\n",
       "      <td>0.000000</td>\n",
       "      <td>0.000000</td>\n",
       "    </tr>\n",
       "    <tr>\n",
       "      <th>25%</th>\n",
       "      <td>0.000000</td>\n",
       "      <td>18.000000</td>\n",
       "      <td>2016.000000</td>\n",
       "      <td>16.000000</td>\n",
       "      <td>8.000000</td>\n",
       "      <td>0.000000</td>\n",
       "      <td>1.000000</td>\n",
       "      <td>2.000000</td>\n",
       "      <td>0.000000</td>\n",
       "      <td>0.000000</td>\n",
       "      <td>0.000000</td>\n",
       "      <td>0.000000</td>\n",
       "      <td>0.000000</td>\n",
       "      <td>0.000000</td>\n",
       "      <td>9.000000</td>\n",
       "      <td>62.000000</td>\n",
       "      <td>0.000000</td>\n",
       "      <td>69.290000</td>\n",
       "      <td>0.000000</td>\n",
       "      <td>0.000000</td>\n",
       "    </tr>\n",
       "    <tr>\n",
       "      <th>50%</th>\n",
       "      <td>0.000000</td>\n",
       "      <td>69.000000</td>\n",
       "      <td>2016.000000</td>\n",
       "      <td>28.000000</td>\n",
       "      <td>16.000000</td>\n",
       "      <td>1.000000</td>\n",
       "      <td>2.000000</td>\n",
       "      <td>2.000000</td>\n",
       "      <td>0.000000</td>\n",
       "      <td>0.000000</td>\n",
       "      <td>0.000000</td>\n",
       "      <td>0.000000</td>\n",
       "      <td>0.000000</td>\n",
       "      <td>0.000000</td>\n",
       "      <td>14.000000</td>\n",
       "      <td>179.000000</td>\n",
       "      <td>0.000000</td>\n",
       "      <td>94.575000</td>\n",
       "      <td>0.000000</td>\n",
       "      <td>0.000000</td>\n",
       "    </tr>\n",
       "    <tr>\n",
       "      <th>75%</th>\n",
       "      <td>1.000000</td>\n",
       "      <td>160.000000</td>\n",
       "      <td>2017.000000</td>\n",
       "      <td>38.000000</td>\n",
       "      <td>23.000000</td>\n",
       "      <td>2.000000</td>\n",
       "      <td>3.000000</td>\n",
       "      <td>2.000000</td>\n",
       "      <td>0.000000</td>\n",
       "      <td>0.000000</td>\n",
       "      <td>0.000000</td>\n",
       "      <td>0.000000</td>\n",
       "      <td>0.000000</td>\n",
       "      <td>0.000000</td>\n",
       "      <td>229.000000</td>\n",
       "      <td>270.000000</td>\n",
       "      <td>0.000000</td>\n",
       "      <td>126.000000</td>\n",
       "      <td>0.000000</td>\n",
       "      <td>1.000000</td>\n",
       "    </tr>\n",
       "    <tr>\n",
       "      <th>max</th>\n",
       "      <td>1.000000</td>\n",
       "      <td>737.000000</td>\n",
       "      <td>2017.000000</td>\n",
       "      <td>53.000000</td>\n",
       "      <td>31.000000</td>\n",
       "      <td>19.000000</td>\n",
       "      <td>50.000000</td>\n",
       "      <td>55.000000</td>\n",
       "      <td>10.000000</td>\n",
       "      <td>10.000000</td>\n",
       "      <td>1.000000</td>\n",
       "      <td>26.000000</td>\n",
       "      <td>72.000000</td>\n",
       "      <td>21.000000</td>\n",
       "      <td>535.000000</td>\n",
       "      <td>543.000000</td>\n",
       "      <td>391.000000</td>\n",
       "      <td>5400.000000</td>\n",
       "      <td>8.000000</td>\n",
       "      <td>5.000000</td>\n",
       "    </tr>\n",
       "  </tbody>\n",
       "</table>\n",
       "</div>"
      ],
      "text/plain": [
       "         is_canceled      lead_time  arrival_date_year  \\\n",
       "count  119390.000000  119390.000000      119390.000000   \n",
       "mean        0.370416     104.011416        2016.156554   \n",
       "std         0.482918     106.863097           0.707476   \n",
       "min         0.000000       0.000000        2015.000000   \n",
       "25%         0.000000      18.000000        2016.000000   \n",
       "50%         0.000000      69.000000        2016.000000   \n",
       "75%         1.000000     160.000000        2017.000000   \n",
       "max         1.000000     737.000000        2017.000000   \n",
       "\n",
       "       arrival_date_week_number  arrival_date_day_of_month  \\\n",
       "count             119390.000000              119390.000000   \n",
       "mean                  27.165173                  15.798241   \n",
       "std                   13.605138                   8.780829   \n",
       "min                    1.000000                   1.000000   \n",
       "25%                   16.000000                   8.000000   \n",
       "50%                   28.000000                  16.000000   \n",
       "75%                   38.000000                  23.000000   \n",
       "max                   53.000000                  31.000000   \n",
       "\n",
       "       stays_in_weekend_nights  stays_in_week_nights         adults  \\\n",
       "count            119390.000000         119390.000000  119390.000000   \n",
       "mean                  0.927599              2.500302       1.856403   \n",
       "std                   0.998613              1.908286       0.579261   \n",
       "min                   0.000000              0.000000       0.000000   \n",
       "25%                   0.000000              1.000000       2.000000   \n",
       "50%                   1.000000              2.000000       2.000000   \n",
       "75%                   2.000000              3.000000       2.000000   \n",
       "max                  19.000000             50.000000      55.000000   \n",
       "\n",
       "            children         babies  is_repeated_guest  \\\n",
       "count  119386.000000  119390.000000      119390.000000   \n",
       "mean        0.103890       0.007949           0.031912   \n",
       "std         0.398561       0.097436           0.175767   \n",
       "min         0.000000       0.000000           0.000000   \n",
       "25%         0.000000       0.000000           0.000000   \n",
       "50%         0.000000       0.000000           0.000000   \n",
       "75%         0.000000       0.000000           0.000000   \n",
       "max        10.000000      10.000000           1.000000   \n",
       "\n",
       "       previous_cancellations  previous_bookings_not_canceled  \\\n",
       "count           119390.000000                   119390.000000   \n",
       "mean                 0.087118                        0.137097   \n",
       "std                  0.844336                        1.497437   \n",
       "min                  0.000000                        0.000000   \n",
       "25%                  0.000000                        0.000000   \n",
       "50%                  0.000000                        0.000000   \n",
       "75%                  0.000000                        0.000000   \n",
       "max                 26.000000                       72.000000   \n",
       "\n",
       "       booking_changes          agent      company  days_in_waiting_list  \\\n",
       "count    119390.000000  103050.000000  6797.000000         119390.000000   \n",
       "mean          0.221124      86.693382   189.266735              2.321149   \n",
       "std           0.652306     110.774548   131.655015             17.594721   \n",
       "min           0.000000       1.000000     6.000000              0.000000   \n",
       "25%           0.000000       9.000000    62.000000              0.000000   \n",
       "50%           0.000000      14.000000   179.000000              0.000000   \n",
       "75%           0.000000     229.000000   270.000000              0.000000   \n",
       "max          21.000000     535.000000   543.000000            391.000000   \n",
       "\n",
       "                 adr  required_car_parking_spaces  total_of_special_requests  \n",
       "count  119390.000000                119390.000000              119390.000000  \n",
       "mean      101.831122                     0.062518                   0.571363  \n",
       "std        50.535790                     0.245291                   0.792798  \n",
       "min        -6.380000                     0.000000                   0.000000  \n",
       "25%        69.290000                     0.000000                   0.000000  \n",
       "50%        94.575000                     0.000000                   0.000000  \n",
       "75%       126.000000                     0.000000                   1.000000  \n",
       "max      5400.000000                     8.000000                   5.000000  "
      ]
     },
     "execution_count": 915,
     "metadata": {},
     "output_type": "execute_result"
    }
   ],
   "source": [
    "hotel.describe()"
   ]
  },
  {
   "cell_type": "code",
   "execution_count": 916,
   "metadata": {},
   "outputs": [
    {
     "data": {
      "text/plain": [
       "NaN      112593\n",
       "40.0        927\n",
       "223.0       784\n",
       "67.0        267\n",
       "45.0        250\n",
       "          ...  \n",
       "32.0          1\n",
       "11.0          1\n",
       "487.0         1\n",
       "101.0         1\n",
       "376.0         1\n",
       "Name: company, Length: 353, dtype: int64"
      ]
     },
     "execution_count": 916,
     "metadata": {},
     "output_type": "execute_result"
    }
   ],
   "source": [
    "hotel['company'].value_counts(dropna=False)"
   ]
  },
  {
   "cell_type": "code",
   "execution_count": 917,
   "metadata": {},
   "outputs": [],
   "source": [
    "hotel=hotel.drop('company',axis=1)"
   ]
  },
  {
   "attachments": {},
   "cell_type": "markdown",
   "metadata": {},
   "source": [
    "I saw that the company columns have over 110000 nans.  I decided to drop that column because we anyway have barely info. about it."
   ]
  },
  {
   "cell_type": "code",
   "execution_count": 918,
   "metadata": {},
   "outputs": [
    {
     "data": {
      "text/plain": [
       "0.0     110796\n",
       "1.0       4861\n",
       "2.0       3652\n",
       "3.0         76\n",
       "NaN          4\n",
       "10.0         1\n",
       "Name: children, dtype: int64"
      ]
     },
     "execution_count": 918,
     "metadata": {},
     "output_type": "execute_result"
    }
   ],
   "source": [
    "hotel['children'].value_counts(dropna=False)"
   ]
  },
  {
   "cell_type": "code",
   "execution_count": 919,
   "metadata": {},
   "outputs": [],
   "source": [
    "hotel['children']=hotel['children'].fillna(0)"
   ]
  },
  {
   "cell_type": "code",
   "execution_count": 920,
   "metadata": {},
   "outputs": [
    {
     "data": {
      "text/plain": [
       "0.0     110800\n",
       "1.0       4861\n",
       "2.0       3652\n",
       "3.0         76\n",
       "10.0         1\n",
       "Name: children, dtype: int64"
      ]
     },
     "execution_count": 920,
     "metadata": {},
     "output_type": "execute_result"
    }
   ],
   "source": [
    "hotel['children'].value_counts(dropna=False)"
   ]
  },
  {
   "attachments": {},
   "cell_type": "markdown",
   "metadata": {},
   "source": [
    "There were 4 nans in the chidrens columns so I replaced them with 0 because that was the most common value."
   ]
  },
  {
   "cell_type": "code",
   "execution_count": 921,
   "metadata": {},
   "outputs": [
    {
     "data": {
      "text/plain": [
       "count     118902\n",
       "unique       177\n",
       "top          PRT\n",
       "freq       48590\n",
       "Name: country, dtype: object"
      ]
     },
     "execution_count": 921,
     "metadata": {},
     "output_type": "execute_result"
    }
   ],
   "source": [
    "hotel['country'].describe()"
   ]
  },
  {
   "cell_type": "code",
   "execution_count": 922,
   "metadata": {},
   "outputs": [
    {
     "data": {
      "text/plain": [
       "PRT    48590\n",
       "GBR    12129\n",
       "FRA    10415\n",
       "ESP     8568\n",
       "DEU     7287\n",
       "       ...  \n",
       "DJI        1\n",
       "BWA        1\n",
       "HND        1\n",
       "VGB        1\n",
       "NAM        1\n",
       "Name: country, Length: 178, dtype: int64"
      ]
     },
     "execution_count": 922,
     "metadata": {},
     "output_type": "execute_result"
    }
   ],
   "source": [
    "hotel['country'].value_counts(dropna=False)"
   ]
  },
  {
   "cell_type": "code",
   "execution_count": 923,
   "metadata": {},
   "outputs": [],
   "source": [
    "hotel['country']=hotel['country'].fillna('PRT')"
   ]
  },
  {
   "cell_type": "code",
   "execution_count": 924,
   "metadata": {},
   "outputs": [
    {
     "data": {
      "text/plain": [
       "PRT    49078\n",
       "GBR    12129\n",
       "FRA    10415\n",
       "ESP     8568\n",
       "DEU     7287\n",
       "       ...  \n",
       "DJI        1\n",
       "BWA        1\n",
       "HND        1\n",
       "VGB        1\n",
       "NAM        1\n",
       "Name: country, Length: 177, dtype: int64"
      ]
     },
     "execution_count": 924,
     "metadata": {},
     "output_type": "execute_result"
    }
   ],
   "source": [
    "hotel['country'].value_counts(dropna=False)"
   ]
  },
  {
   "attachments": {},
   "cell_type": "markdown",
   "metadata": {},
   "source": [
    "There were 488 nans in the country columns so I replaced them with 'prt' because that was by far the most common value."
   ]
  },
  {
   "cell_type": "code",
   "execution_count": 925,
   "metadata": {},
   "outputs": [
    {
     "data": {
      "text/plain": [
       "9.0      31961\n",
       "NaN      16340\n",
       "240.0    13922\n",
       "1.0       7191\n",
       "14.0      3640\n",
       "         ...  \n",
       "280.0        1\n",
       "285.0        1\n",
       "289.0        1\n",
       "265.0        1\n",
       "497.0        1\n",
       "Name: agent, Length: 334, dtype: int64"
      ]
     },
     "execution_count": 925,
     "metadata": {},
     "output_type": "execute_result"
    }
   ],
   "source": [
    "hotel['agent'].value_counts(dropna=False)"
   ]
  },
  {
   "cell_type": "code",
   "execution_count": 926,
   "metadata": {},
   "outputs": [],
   "source": [
    "hotel=hotel.drop('agent',axis=1)"
   ]
  },
  {
   "cell_type": "code",
   "execution_count": 927,
   "metadata": {},
   "outputs": [
    {
     "data": {
      "text/plain": [
       "hotel                             False\n",
       "is_canceled                       False\n",
       "lead_time                         False\n",
       "arrival_date_year                 False\n",
       "arrival_date_month                False\n",
       "arrival_date_week_number          False\n",
       "arrival_date_day_of_month         False\n",
       "stays_in_weekend_nights           False\n",
       "stays_in_week_nights              False\n",
       "adults                            False\n",
       "children                          False\n",
       "babies                            False\n",
       "meal                              False\n",
       "country                           False\n",
       "market_segment                    False\n",
       "distribution_channel              False\n",
       "is_repeated_guest                 False\n",
       "previous_cancellations            False\n",
       "previous_bookings_not_canceled    False\n",
       "reserved_room_type                False\n",
       "assigned_room_type                False\n",
       "booking_changes                   False\n",
       "deposit_type                      False\n",
       "days_in_waiting_list              False\n",
       "customer_type                     False\n",
       "adr                               False\n",
       "required_car_parking_spaces       False\n",
       "total_of_special_requests         False\n",
       "reservation_status                False\n",
       "reservation_status_date           False\n",
       "dtype: bool"
      ]
     },
     "execution_count": 927,
     "metadata": {},
     "output_type": "execute_result"
    }
   ],
   "source": [
    "hotel.isna().any()"
   ]
  },
  {
   "attachments": {},
   "cell_type": "markdown",
   "metadata": {},
   "source": [
    "I deleted the agent column because there were quite a few nans and  This column isn't important for this analysis."
   ]
  },
  {
   "attachments": {},
   "cell_type": "markdown",
   "metadata": {},
   "source": [
    "#### Exploring the data"
   ]
  },
  {
   "cell_type": "code",
   "execution_count": 928,
   "metadata": {},
   "outputs": [
    {
     "data": {
      "text/plain": [
       "count        119390\n",
       "unique            4\n",
       "top       Transient\n",
       "freq          89613\n",
       "Name: customer_type, dtype: object"
      ]
     },
     "execution_count": 928,
     "metadata": {},
     "output_type": "execute_result"
    }
   ],
   "source": [
    "hotel['customer_type'].describe()"
   ]
  },
  {
   "cell_type": "code",
   "execution_count": 929,
   "metadata": {},
   "outputs": [
    {
     "data": {
      "text/plain": [
       "count    119390.000000\n",
       "mean        101.831122\n",
       "std          50.535790\n",
       "min          -6.380000\n",
       "25%          69.290000\n",
       "50%          94.575000\n",
       "75%         126.000000\n",
       "max        5400.000000\n",
       "Name: adr, dtype: float64"
      ]
     },
     "execution_count": 929,
     "metadata": {},
     "output_type": "execute_result"
    }
   ],
   "source": [
    "hotel['adr'].describe()"
   ]
  },
  {
   "cell_type": "code",
   "execution_count": 930,
   "metadata": {},
   "outputs": [
    {
     "data": {
      "text/plain": [
       "array(['BB', 'FB', 'HB', 'SC', 'Undefined'], dtype=object)"
      ]
     },
     "execution_count": 930,
     "metadata": {},
     "output_type": "execute_result"
    }
   ],
   "source": [
    "hotel['meal'].unique()"
   ]
  },
  {
   "cell_type": "code",
   "execution_count": 931,
   "metadata": {},
   "outputs": [
    {
     "data": {
      "text/plain": [
       "0    111974\n",
       "1      7383\n",
       "2        28\n",
       "3         3\n",
       "8         2\n",
       "Name: required_car_parking_spaces, dtype: int64"
      ]
     },
     "execution_count": 931,
     "metadata": {},
     "output_type": "execute_result"
    }
   ],
   "source": [
    "hotel['required_car_parking_spaces'].value_counts()\t"
   ]
  },
  {
   "attachments": {},
   "cell_type": "markdown",
   "metadata": {},
   "source": [
    "It looks like 8 parking spaces are outliers for the amount of parking required"
   ]
  },
  {
   "cell_type": "code",
   "execution_count": 932,
   "metadata": {},
   "outputs": [
    {
     "data": {
      "text/plain": [
       "count    119390.000000\n",
       "mean          0.062518\n",
       "std           0.245291\n",
       "min           0.000000\n",
       "25%           0.000000\n",
       "50%           0.000000\n",
       "75%           0.000000\n",
       "max           8.000000\n",
       "Name: required_car_parking_spaces, dtype: float64"
      ]
     },
     "execution_count": 932,
     "metadata": {},
     "output_type": "execute_result"
    }
   ],
   "source": [
    "hotel['required_car_parking_spaces'].describe()\t"
   ]
  },
  {
   "cell_type": "code",
   "execution_count": 933,
   "metadata": {},
   "outputs": [
    {
     "data": {
      "text/plain": [
       "0     101314\n",
       "1      12701\n",
       "2       3805\n",
       "3        927\n",
       "4        376\n",
       "5        118\n",
       "6         63\n",
       "7         31\n",
       "8         17\n",
       "9          8\n",
       "10         6\n",
       "13         5\n",
       "14         5\n",
       "15         3\n",
       "16         2\n",
       "17         2\n",
       "12         2\n",
       "11         2\n",
       "20         1\n",
       "21         1\n",
       "18         1\n",
       "Name: booking_changes, dtype: int64"
      ]
     },
     "execution_count": 933,
     "metadata": {},
     "output_type": "execute_result"
    }
   ],
   "source": [
    "hotel['booking_changes'].value_counts()"
   ]
  },
  {
   "cell_type": "code",
   "execution_count": 934,
   "metadata": {},
   "outputs": [],
   "source": [
    "changes={'July':7, 'August':8, 'September':9, 'October':10, 'November':11, 'December':12,\n",
    "       'January' : 1 ,  'February' : 2, 'March': 3, 'April' :4, 'May':5, 'June':6}\n",
    "hotel['arrival_date_month']=hotel['arrival_date_month'].map(changes)\n",
    "\n"
   ]
  },
  {
   "cell_type": "code",
   "execution_count": 935,
   "metadata": {},
   "outputs": [],
   "source": [
    "\n",
    "hotel['arrival_date']=pd.to_datetime(dict( month=hotel.arrival_date_month, day=hotel.arrival_date_day_of_month,year=hotel.arrival_date_year))"
   ]
  },
  {
   "cell_type": "code",
   "execution_count": 936,
   "metadata": {},
   "outputs": [
    {
     "data": {
      "text/plain": [
       "0   2015-07-01\n",
       "1   2015-07-01\n",
       "2   2015-07-01\n",
       "3   2015-07-01\n",
       "4   2015-07-01\n",
       "Name: arrival_date, dtype: datetime64[ns]"
      ]
     },
     "execution_count": 936,
     "metadata": {},
     "output_type": "execute_result"
    }
   ],
   "source": [
    "hotel['arrival_date'].head()"
   ]
  },
  {
   "attachments": {},
   "cell_type": "markdown",
   "metadata": {},
   "source": [
    "I made a new column that gives a date of arrival combining the day month and year to make it easier to analyze."
   ]
  },
  {
   "cell_type": "code",
   "execution_count": 937,
   "metadata": {},
   "outputs": [
    {
     "data": {
      "text/plain": [
       "Index(['hotel', 'is_canceled', 'lead_time', 'arrival_date_year',\n",
       "       'arrival_date_month', 'arrival_date_week_number',\n",
       "       'arrival_date_day_of_month', 'stays_in_weekend_nights',\n",
       "       'stays_in_week_nights', 'adults', 'children', 'babies', 'meal',\n",
       "       'country', 'market_segment', 'distribution_channel',\n",
       "       'is_repeated_guest', 'previous_cancellations',\n",
       "       'previous_bookings_not_canceled', 'reserved_room_type',\n",
       "       'assigned_room_type', 'booking_changes', 'deposit_type',\n",
       "       'days_in_waiting_list', 'customer_type', 'adr',\n",
       "       'required_car_parking_spaces', 'total_of_special_requests',\n",
       "       'reservation_status', 'reservation_status_date', 'arrival_date'],\n",
       "      dtype='object')"
      ]
     },
     "execution_count": 937,
     "metadata": {},
     "output_type": "execute_result"
    }
   ],
   "source": [
    "hotel.columns"
   ]
  },
  {
   "cell_type": "code",
   "execution_count": 938,
   "metadata": {},
   "outputs": [],
   "source": [
    "hotel_shrunked=hotel.drop([ 'lead_time', 'arrival_date_week_number', 'meal',\n",
    "       'country', 'market_segment', 'distribution_channel',\n",
    "       'is_repeated_guest', 'previous_cancellations',\n",
    "       'previous_bookings_not_canceled', 'reserved_room_type',\n",
    "       'assigned_room_type', 'booking_changes', 'deposit_type', \n",
    "       'days_in_waiting_list','adr','required_car_parking_spaces', 'total_of_special_requests',\n",
    "       'reservation_status', 'reservation_status_date',],axis=1)"
   ]
  },
  {
   "cell_type": "code",
   "execution_count": 939,
   "metadata": {},
   "outputs": [
    {
     "data": {
      "text/html": [
       "<div>\n",
       "<style scoped>\n",
       "    .dataframe tbody tr th:only-of-type {\n",
       "        vertical-align: middle;\n",
       "    }\n",
       "\n",
       "    .dataframe tbody tr th {\n",
       "        vertical-align: top;\n",
       "    }\n",
       "\n",
       "    .dataframe thead th {\n",
       "        text-align: right;\n",
       "    }\n",
       "</style>\n",
       "<table border=\"1\" class=\"dataframe\">\n",
       "  <thead>\n",
       "    <tr style=\"text-align: right;\">\n",
       "      <th></th>\n",
       "      <th>hotel</th>\n",
       "      <th>is_canceled</th>\n",
       "      <th>arrival_date_year</th>\n",
       "      <th>arrival_date_month</th>\n",
       "      <th>arrival_date_day_of_month</th>\n",
       "      <th>stays_in_weekend_nights</th>\n",
       "      <th>stays_in_week_nights</th>\n",
       "      <th>adults</th>\n",
       "      <th>children</th>\n",
       "      <th>babies</th>\n",
       "      <th>customer_type</th>\n",
       "      <th>arrival_date</th>\n",
       "    </tr>\n",
       "  </thead>\n",
       "  <tbody>\n",
       "    <tr>\n",
       "      <th>0</th>\n",
       "      <td>Resort Hotel</td>\n",
       "      <td>0</td>\n",
       "      <td>2015</td>\n",
       "      <td>7</td>\n",
       "      <td>1</td>\n",
       "      <td>0</td>\n",
       "      <td>0</td>\n",
       "      <td>2</td>\n",
       "      <td>0.0</td>\n",
       "      <td>0</td>\n",
       "      <td>Transient</td>\n",
       "      <td>2015-07-01</td>\n",
       "    </tr>\n",
       "    <tr>\n",
       "      <th>1</th>\n",
       "      <td>Resort Hotel</td>\n",
       "      <td>0</td>\n",
       "      <td>2015</td>\n",
       "      <td>7</td>\n",
       "      <td>1</td>\n",
       "      <td>0</td>\n",
       "      <td>0</td>\n",
       "      <td>2</td>\n",
       "      <td>0.0</td>\n",
       "      <td>0</td>\n",
       "      <td>Transient</td>\n",
       "      <td>2015-07-01</td>\n",
       "    </tr>\n",
       "    <tr>\n",
       "      <th>2</th>\n",
       "      <td>Resort Hotel</td>\n",
       "      <td>0</td>\n",
       "      <td>2015</td>\n",
       "      <td>7</td>\n",
       "      <td>1</td>\n",
       "      <td>0</td>\n",
       "      <td>1</td>\n",
       "      <td>1</td>\n",
       "      <td>0.0</td>\n",
       "      <td>0</td>\n",
       "      <td>Transient</td>\n",
       "      <td>2015-07-01</td>\n",
       "    </tr>\n",
       "    <tr>\n",
       "      <th>3</th>\n",
       "      <td>Resort Hotel</td>\n",
       "      <td>0</td>\n",
       "      <td>2015</td>\n",
       "      <td>7</td>\n",
       "      <td>1</td>\n",
       "      <td>0</td>\n",
       "      <td>1</td>\n",
       "      <td>1</td>\n",
       "      <td>0.0</td>\n",
       "      <td>0</td>\n",
       "      <td>Transient</td>\n",
       "      <td>2015-07-01</td>\n",
       "    </tr>\n",
       "    <tr>\n",
       "      <th>4</th>\n",
       "      <td>Resort Hotel</td>\n",
       "      <td>0</td>\n",
       "      <td>2015</td>\n",
       "      <td>7</td>\n",
       "      <td>1</td>\n",
       "      <td>0</td>\n",
       "      <td>2</td>\n",
       "      <td>2</td>\n",
       "      <td>0.0</td>\n",
       "      <td>0</td>\n",
       "      <td>Transient</td>\n",
       "      <td>2015-07-01</td>\n",
       "    </tr>\n",
       "    <tr>\n",
       "      <th>5</th>\n",
       "      <td>Resort Hotel</td>\n",
       "      <td>0</td>\n",
       "      <td>2015</td>\n",
       "      <td>7</td>\n",
       "      <td>1</td>\n",
       "      <td>0</td>\n",
       "      <td>2</td>\n",
       "      <td>2</td>\n",
       "      <td>0.0</td>\n",
       "      <td>0</td>\n",
       "      <td>Transient</td>\n",
       "      <td>2015-07-01</td>\n",
       "    </tr>\n",
       "    <tr>\n",
       "      <th>6</th>\n",
       "      <td>Resort Hotel</td>\n",
       "      <td>0</td>\n",
       "      <td>2015</td>\n",
       "      <td>7</td>\n",
       "      <td>1</td>\n",
       "      <td>0</td>\n",
       "      <td>2</td>\n",
       "      <td>2</td>\n",
       "      <td>0.0</td>\n",
       "      <td>0</td>\n",
       "      <td>Transient</td>\n",
       "      <td>2015-07-01</td>\n",
       "    </tr>\n",
       "    <tr>\n",
       "      <th>7</th>\n",
       "      <td>Resort Hotel</td>\n",
       "      <td>0</td>\n",
       "      <td>2015</td>\n",
       "      <td>7</td>\n",
       "      <td>1</td>\n",
       "      <td>0</td>\n",
       "      <td>2</td>\n",
       "      <td>2</td>\n",
       "      <td>0.0</td>\n",
       "      <td>0</td>\n",
       "      <td>Transient</td>\n",
       "      <td>2015-07-01</td>\n",
       "    </tr>\n",
       "    <tr>\n",
       "      <th>8</th>\n",
       "      <td>Resort Hotel</td>\n",
       "      <td>1</td>\n",
       "      <td>2015</td>\n",
       "      <td>7</td>\n",
       "      <td>1</td>\n",
       "      <td>0</td>\n",
       "      <td>3</td>\n",
       "      <td>2</td>\n",
       "      <td>0.0</td>\n",
       "      <td>0</td>\n",
       "      <td>Transient</td>\n",
       "      <td>2015-07-01</td>\n",
       "    </tr>\n",
       "    <tr>\n",
       "      <th>9</th>\n",
       "      <td>Resort Hotel</td>\n",
       "      <td>1</td>\n",
       "      <td>2015</td>\n",
       "      <td>7</td>\n",
       "      <td>1</td>\n",
       "      <td>0</td>\n",
       "      <td>3</td>\n",
       "      <td>2</td>\n",
       "      <td>0.0</td>\n",
       "      <td>0</td>\n",
       "      <td>Transient</td>\n",
       "      <td>2015-07-01</td>\n",
       "    </tr>\n",
       "  </tbody>\n",
       "</table>\n",
       "</div>"
      ],
      "text/plain": [
       "          hotel  is_canceled  arrival_date_year  arrival_date_month  \\\n",
       "0  Resort Hotel            0               2015                   7   \n",
       "1  Resort Hotel            0               2015                   7   \n",
       "2  Resort Hotel            0               2015                   7   \n",
       "3  Resort Hotel            0               2015                   7   \n",
       "4  Resort Hotel            0               2015                   7   \n",
       "5  Resort Hotel            0               2015                   7   \n",
       "6  Resort Hotel            0               2015                   7   \n",
       "7  Resort Hotel            0               2015                   7   \n",
       "8  Resort Hotel            1               2015                   7   \n",
       "9  Resort Hotel            1               2015                   7   \n",
       "\n",
       "   arrival_date_day_of_month  stays_in_weekend_nights  stays_in_week_nights  \\\n",
       "0                          1                        0                     0   \n",
       "1                          1                        0                     0   \n",
       "2                          1                        0                     1   \n",
       "3                          1                        0                     1   \n",
       "4                          1                        0                     2   \n",
       "5                          1                        0                     2   \n",
       "6                          1                        0                     2   \n",
       "7                          1                        0                     2   \n",
       "8                          1                        0                     3   \n",
       "9                          1                        0                     3   \n",
       "\n",
       "   adults  children  babies customer_type arrival_date  \n",
       "0       2       0.0       0     Transient   2015-07-01  \n",
       "1       2       0.0       0     Transient   2015-07-01  \n",
       "2       1       0.0       0     Transient   2015-07-01  \n",
       "3       1       0.0       0     Transient   2015-07-01  \n",
       "4       2       0.0       0     Transient   2015-07-01  \n",
       "5       2       0.0       0     Transient   2015-07-01  \n",
       "6       2       0.0       0     Transient   2015-07-01  \n",
       "7       2       0.0       0     Transient   2015-07-01  \n",
       "8       2       0.0       0     Transient   2015-07-01  \n",
       "9       2       0.0       0     Transient   2015-07-01  "
      ]
     },
     "execution_count": 939,
     "metadata": {},
     "output_type": "execute_result"
    }
   ],
   "source": [
    "hotel_shrunked.head(10)"
   ]
  },
  {
   "attachments": {},
   "cell_type": "markdown",
   "metadata": {},
   "source": [
    "Shrunk the data by dropping all columns that are not necessary for this analysis to make it easier to work with."
   ]
  },
  {
   "cell_type": "code",
   "execution_count": 940,
   "metadata": {},
   "outputs": [
    {
     "data": {
      "text/plain": [
       "Text(0.5, 0.98, 'The count of arrivals per year')"
      ]
     },
     "execution_count": 940,
     "metadata": {},
     "output_type": "execute_result"
    },
    {
     "data": {
      "image/png": "[encoded data removed]",
      "text/plain": [
       "<Figure size 457.25x360 with 1 Axes>"
      ]
     },
     "metadata": {
      "needs_background": "light"
     },
     "output_type": "display_data"
    }
   ],
   "source": [
    "\n",
    "sns.catplot(data=hotel_shrunked, x='arrival_date_year',kind='count',hue='hotel')\n",
    "plt.suptitle('The count of arrivals per year')\n"
   ]
  },
  {
   "attachments": {},
   "cell_type": "markdown",
   "metadata": {},
   "source": [
    "We see that the city hotel is busier than resort hotel. in 2015 there weren't many people going to hotels in 2016 it went up drastically and went a little down by 2017.   "
   ]
  },
  {
   "attachments": {},
   "cell_type": "markdown",
   "metadata": {},
   "source": [
    "I would like to analyze if kids go to hotels,  what months they come, if it's worth trying to attract them and more. "
   ]
  },
  {
   "cell_type": "code",
   "execution_count": 941,
   "metadata": {},
   "outputs": [
    {
     "data": {
      "text/plain": [
       "Index(['hotel', 'is_canceled', 'arrival_date_year', 'arrival_date_month',\n",
       "       'arrival_date_day_of_month', 'stays_in_weekend_nights',\n",
       "       'stays_in_week_nights', 'adults', 'children', 'babies', 'customer_type',\n",
       "       'arrival_date'],\n",
       "      dtype='object')"
      ]
     },
     "execution_count": 941,
     "metadata": {},
     "output_type": "execute_result"
    }
   ],
   "source": [
    "hotel_shrunked.columns"
   ]
  },
  {
   "cell_type": "code",
   "execution_count": 942,
   "metadata": {},
   "outputs": [],
   "source": [
    "hotel_adults=hotel_shrunked.reindex(hotel_shrunked.index.repeat(hotel_shrunked.adults))"
   ]
  },
  {
   "cell_type": "code",
   "execution_count": 943,
   "metadata": {},
   "outputs": [],
   "source": [
    "hotel_babies=hotel_shrunked.reindex(hotel_shrunked.index.repeat(hotel_shrunked.babies))"
   ]
  },
  {
   "cell_type": "code",
   "execution_count": 944,
   "metadata": {},
   "outputs": [],
   "source": [
    "hotel_children=hotel_shrunked.reindex(hotel_shrunked.index.repeat(hotel_shrunked.children))"
   ]
  },
  {
   "attachments": {},
   "cell_type": "markdown",
   "metadata": {},
   "source": [
    "I wanted to combine the children adults and babies columns so i made a separate dataset for each type. I duplicated the rows according to the number that's in that column. The one that had a 0 got deleted.  "
   ]
  },
  {
   "cell_type": "code",
   "execution_count": 945,
   "metadata": {},
   "outputs": [
    {
     "data": {
      "text/plain": [
       "2.0     7304\n",
       "1.0     4861\n",
       "3.0      228\n",
       "10.0      10\n",
       "Name: children, dtype: int64"
      ]
     },
     "execution_count": 945,
     "metadata": {},
     "output_type": "execute_result"
    }
   ],
   "source": [
    "hotel_children['children'].value_counts()"
   ]
  },
  {
   "cell_type": "code",
   "execution_count": 946,
   "metadata": {},
   "outputs": [],
   "source": [
    "hotel_children['children']=hotel_children['children'].replace([1,2,3,10],'children')"
   ]
  },
  {
   "cell_type": "code",
   "execution_count": 947,
   "metadata": {},
   "outputs": [],
   "source": [
    "hotel_babies['babies']=hotel_babies['babies'].replace([1,2,9,10],'babies')"
   ]
  },
  {
   "cell_type": "code",
   "execution_count": 948,
   "metadata": {},
   "outputs": [],
   "source": [
    "hotel_adults.head()\n",
    "hotel_adults['adults']=hotel_adults['adults'].replace([1,2,3,4,5,6,26,10,20,40,50,27,55],'adults')"
   ]
  },
  {
   "cell_type": "code",
   "execution_count": 949,
   "metadata": {},
   "outputs": [],
   "source": [
    "hotel_adults.rename(columns={\"adults\": \"people\"}, inplace=True)"
   ]
  },
  {
   "cell_type": "code",
   "execution_count": 950,
   "metadata": {},
   "outputs": [
    {
     "data": {
      "text/plain": [
       "Index(['hotel', 'is_canceled', 'arrival_date_year', 'arrival_date_month',\n",
       "       'arrival_date_day_of_month', 'stays_in_weekend_nights',\n",
       "       'stays_in_week_nights', 'people', 'children', 'babies', 'customer_type',\n",
       "       'arrival_date'],\n",
       "      dtype='object')"
      ]
     },
     "execution_count": 950,
     "metadata": {},
     "output_type": "execute_result"
    }
   ],
   "source": [
    "hotel_adults.columns"
   ]
  },
  {
   "cell_type": "code",
   "execution_count": 951,
   "metadata": {},
   "outputs": [],
   "source": [
    "hotel_babies.rename(columns={\"babies\": \"people\"}, inplace=True)"
   ]
  },
  {
   "cell_type": "code",
   "execution_count": 952,
   "metadata": {},
   "outputs": [],
   "source": [
    "hotel_children.rename(columns={\"children\": \"people\"}, inplace=True)"
   ]
  },
  {
   "attachments": {},
   "cell_type": "markdown",
   "metadata": {},
   "source": [
    "for each data frame I changed the values of the column to children, adult, or baby. I renamed those cols. people"
   ]
  },
  {
   "cell_type": "code",
   "execution_count": 953,
   "metadata": {},
   "outputs": [],
   "source": [
    "people=pd.concat([hotel_adults, hotel_children,hotel_babies], axis=0)"
   ]
  },
  {
   "attachments": {},
   "cell_type": "markdown",
   "metadata": {},
   "source": [
    "concated the three data frames into one.I have now one column that's called people and the values are baby, adult , or child."
   ]
  },
  {
   "cell_type": "code",
   "execution_count": 954,
   "metadata": {},
   "outputs": [
    {
     "data": {
      "text/plain": [
       "adults      221636\n",
       "children     12403\n",
       "babies         949\n",
       "Name: people, dtype: int64"
      ]
     },
     "execution_count": 954,
     "metadata": {},
     "output_type": "execute_result"
    }
   ],
   "source": [
    "people['people'].value_counts()"
   ]
  },
  {
   "cell_type": "code",
   "execution_count": 955,
   "metadata": {},
   "outputs": [
    {
     "data": {
      "text/plain": [
       "Text(0.5, 0.98, 'The range of ages per hotel')"
      ]
     },
     "execution_count": 955,
     "metadata": {},
     "output_type": "execute_result"
    },
    {
     "data": {
      "image/png": "[encoded data removed]",
      "text/plain": [
       "<Figure size 457.25x360 with 1 Axes>"
      ]
     },
     "metadata": {
      "needs_background": "light"
     },
     "output_type": "display_data"
    }
   ],
   "source": [
    "sns.catplot(data=people, x='people',kind='count',hue='hotel')\n",
    "plt.suptitle('The range of ages per hotel')"
   ]
  },
  {
   "attachments": {},
   "cell_type": "markdown",
   "metadata": {},
   "source": [
    "We see that there are barely any babies in both hotels. Children are a small percentage of the people. We can also see that the resort hotel has a little bigger percentage of children than the city hotel."
   ]
  },
  {
   "cell_type": "code",
   "execution_count": 956,
   "metadata": {},
   "outputs": [
    {
     "data": {
      "text/plain": [
       "array([2015, 2016, 2017], dtype=int64)"
      ]
     },
     "execution_count": 956,
     "metadata": {},
     "output_type": "execute_result"
    }
   ],
   "source": [
    "hotel_shrunked['arrival_date_year'].unique()"
   ]
  },
  {
   "cell_type": "code",
   "execution_count": 957,
   "metadata": {},
   "outputs": [
    {
     "data": {
      "text/plain": [
       "Text(0.5, 1.1, 'count of arrivals per year')"
      ]
     },
     "execution_count": 957,
     "metadata": {},
     "output_type": "execute_result"
    },
    {
     "data": {
      "image/png": "[encoded data removed]",
      "text/plain": [
       "<Figure size 1177.25x360 with 3 Axes>"
      ]
     },
     "metadata": {
      "needs_background": "light"
     },
     "output_type": "display_data"
    }
   ],
   "source": [
    "sns.catplot(data=people[people['is_canceled']==0], col='people',x='arrival_date_year',kind='count',hue='hotel')\n",
    "plt.suptitle('count of arrivals per year', y=1.1)"
   ]
  },
  {
   "cell_type": "code",
   "execution_count": 958,
   "metadata": {},
   "outputs": [
    {
     "data": {
      "text/plain": [
       "Text(0.5, 1.1, 'count of arrivals per year (including canceled)')"
      ]
     },
     "execution_count": 958,
     "metadata": {},
     "output_type": "execute_result"
    },
    {
     "data": {
      "image/png": "[encoded data removed]",
      "text/plain": [
       "<Figure size 1177.25x360 with 3 Axes>"
      ]
     },
     "metadata": {
      "needs_background": "light"
     },
     "output_type": "display_data"
    }
   ],
   "source": [
    "sns.catplot(data=people, col='people',x='arrival_date_year',kind='count',hue='hotel')\n",
    "plt.suptitle('count of arrivals per year (including canceled)', y=1.1)"
   ]
  },
  {
   "cell_type": "code",
   "execution_count": 959,
   "metadata": {},
   "outputs": [
    {
     "data": {
      "text/plain": [
       "Text(0.5, 1.1, 'count of canceled arrivals per year')"
      ]
     },
     "execution_count": 959,
     "metadata": {},
     "output_type": "execute_result"
    },
    {
     "data": {
      "image/png": "[encoded data removed]",
      "text/plain": [
       "<Figure size 1177.25x360 with 3 Axes>"
      ]
     },
     "metadata": {
      "needs_background": "light"
     },
     "output_type": "display_data"
    }
   ],
   "source": [
    "sns.catplot(data=people[people['is_canceled']==1], col='people',x='arrival_date_year',kind='count',hue='hotel')\n",
    "plt.suptitle('count of canceled arrivals per year', y=1.1)"
   ]
  },
  {
   "attachments": {},
   "cell_type": "markdown",
   "metadata": {},
   "source": [
    "I plotted 3  plots to see the count of arrivals that whore canceled that whore not canceled and the total. I see that in resort hotel there are more cancelations compared to the number of people that booked. I would like to check if people with kids cancel more often."
   ]
  },
  {
   "cell_type": "code",
   "execution_count": 960,
   "metadata": {},
   "outputs": [
    {
     "data": {
      "text/plain": [
       "Text(0.5, 1.1, 'percent of canceled arrivals per hotel')"
      ]
     },
     "execution_count": 960,
     "metadata": {},
     "output_type": "execute_result"
    },
    {
     "data": {
      "image/png": "[encoded data removed]",
      "text/plain": [
       "<Figure size 457.25x360 with 1 Axes>"
      ]
     },
     "metadata": {
      "needs_background": "light"
     },
     "output_type": "display_data"
    }
   ],
   "source": [
    "sns.catplot(data=people ,x='people',y='is_canceled', kind='point',hue='hotel')\n",
    "plt.suptitle('percent of canceled arrivals per hotel', y=1.1)"
   ]
  },
  {
   "attachments": {},
   "cell_type": "markdown",
   "metadata": {},
   "source": [
    "I tried checking out if the cancelation are people with kids or without but I didn't feel like it gave me enough info. so I decided to try a different way. "
   ]
  },
  {
   "cell_type": "code",
   "execution_count": 961,
   "metadata": {},
   "outputs": [
    {
     "data": {
      "text/plain": [
       "Text(0.5, 1.1, 'percent of canceled children arrivals per hotel')"
      ]
     },
     "execution_count": 961,
     "metadata": {},
     "output_type": "execute_result"
    },
    {
     "data": {
      "image/png": "[encoded data removed]",
      "text/plain": [
       "<Figure size 457.25x360 with 1 Axes>"
      ]
     },
     "metadata": {
      "needs_background": "light"
     },
     "output_type": "display_data"
    }
   ],
   "source": [
    "sns.catplot(data=hotel ,x='children',y='is_canceled', kind='point',hue='hotel')\n",
    "plt.suptitle('percent of canceled children arrivals per hotel', y=1.1)"
   ]
  },
  {
   "cell_type": "code",
   "execution_count": 962,
   "metadata": {},
   "outputs": [
    {
     "data": {
      "text/plain": [
       "0     118473\n",
       "1        900\n",
       "2         15\n",
       "10         1\n",
       "9          1\n",
       "Name: babies, dtype: int64"
      ]
     },
     "execution_count": 962,
     "metadata": {},
     "output_type": "execute_result"
    }
   ],
   "source": [
    "hotel['babies'].value_counts()"
   ]
  },
  {
   "cell_type": "code",
   "execution_count": 963,
   "metadata": {},
   "outputs": [
    {
     "data": {
      "text/plain": [
       "Text(0.5, 1.1, 'percent of canceled babies arrivals per hotel')"
      ]
     },
     "execution_count": 963,
     "metadata": {},
     "output_type": "execute_result"
    },
    {
     "data": {
      "image/png": "[encoded data removed]",
      "text/plain": [
       "<Figure size 457.25x360 with 1 Axes>"
      ]
     },
     "metadata": {
      "needs_background": "light"
     },
     "output_type": "display_data"
    }
   ],
   "source": [
    "sns.catplot(data=hotel ,x='babies',y='is_canceled', kind='point',hue='hotel')\n",
    "plt.suptitle('percent of canceled babies arrivals per hotel', y=1.1)"
   ]
  },
  {
   "attachments": {},
   "cell_type": "markdown",
   "metadata": {},
   "source": [
    "Now that I have also 0 children and babies I could analyze these better. In the children's plot, we see that in the resort hotel the booking of 10 children where canceled, and a lot of the 2 children were canceled. in the city hotel, it looks like people without children cancel more. Not many people with babies canceled."
   ]
  },
  {
   "cell_type": "code",
   "execution_count": 964,
   "metadata": {},
   "outputs": [
    {
     "data": {
      "text/plain": [
       "Text(0.5, 1.1, 'percent of children comparing to adults')"
      ]
     },
     "execution_count": 964,
     "metadata": {},
     "output_type": "execute_result"
    },
    {
     "data": {
      "image/png": "[encoded data removed]",
      "text/plain": [
       "<Figure size 432x288 with 1 Axes>"
      ]
     },
     "metadata": {
      "needs_background": "light"
     },
     "output_type": "display_data"
    }
   ],
   "source": [
    "plot = people.groupby(['arrival_date_year'])['people'].value_counts(normalize=True).mul(100).reset_index(name='percentage')\n",
    "sns.histplot(x = 'arrival_date_year' , hue = 'people',\n",
    "             multiple = 'stack',weights= 'percentage',data=plot,shrink = 0.7,bins=12)\n",
    "plt.suptitle('percent of children comparing to adults', y=1.1)"
   ]
  },
  {
   "attachments": {},
   "cell_type": "markdown",
   "metadata": {},
   "source": [
    "We can see the percentage of children vs adults which helps us analyze what year there were more kids. It seems that during the years the kids are becoming a bigger percentage."
   ]
  },
  {
   "cell_type": "code",
   "execution_count": 965,
   "metadata": {},
   "outputs": [
    {
     "data": {
      "text/plain": [
       "Text(0.5, 1.1, 'percent of children comparing to adults')"
      ]
     },
     "execution_count": 965,
     "metadata": {},
     "output_type": "execute_result"
    },
    {
     "data": {
      "image/png": "[encoded data removed]",
      "text/plain": [
       "<Figure size 432x288 with 1 Axes>"
      ]
     },
     "metadata": {
      "needs_background": "light"
     },
     "output_type": "display_data"
    }
   ],
   "source": [
    "plot = people.groupby(['arrival_date_month'])['people'].value_counts(normalize=True).mul(100).reset_index(name='percentage')\n",
    "sns.histplot(x = 'arrival_date_month' , hue = 'people',\n",
    "             multiple = 'stack',weights= 'percentage',data=plot,shrink = 0.7,bins=12)\n",
    "plt.suptitle('percent of children comparing to adults', y=1.1)"
   ]
  },
  {
   "attachments": {},
   "cell_type": "markdown",
   "metadata": {},
   "source": [
    "We can see the percent of the children vs adults which helps us analyze when kids come to the hotel. It seems that during summer and winter vacations there are more kids that come, and at the beginning of the school year there are barely any kids that come."
   ]
  },
  {
   "attachments": {},
   "cell_type": "markdown",
   "metadata": {},
   "source": [
    " Conclusion\n",
    " It looks like people in city hotel cancel more than in resort hotel. In city hotel the cancelation are mainly from people without children, in resort hotel there are a lot that cancel with children. The kids come more during vacation time.It seems that in 2017 the children percentage rose in the resort hotel more than in the city hotel.I would advise making the hotels child friendly because as we see the number of kids that go to hotels is just growing. "
   ]
  },
  {
   "cell_type": "code",
   "execution_count": null,
   "metadata": {},
   "outputs": [],
   "source": []
  }
 ],
 "metadata": {
  "kernelspec": {
   "display_name": "base",
   "language": "python",
   "name": "python3"
  },
  "language_info": {
   "codemirror_mode": {
    "name": "ipython",
    "version": 3
   },
   "file_extension": ".py",
   "mimetype": "text/x-python",
   "name": "python",
   "nbconvert_exporter": "python",
   "pygments_lexer": "ipython3",
   "version": "3.9.12"
  },
  "orig_nbformat": 4,
  "vscode": {
   "interpreter": {
    "hash": "610a6f344c2137faf927ea819c63f6cee33a2c04455044b28099f39fe9722347"
   }
  }
 },
 "nbformat": 4,
 "nbformat_minor": 2
}
