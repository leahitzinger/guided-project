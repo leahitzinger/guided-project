{
 "cells": [
  {
   "attachments": {},
   "cell_type": "markdown",
   "metadata": {},
   "source": [
    "##  Lambdas with Higher Order Functions (filter(), map(), apply())"
   ]
  },
  {
   "attachments": {},
   "cell_type": "markdown",
   "metadata": {},
   "source": [
    "Instructions: Work through the following questions. You can use the slides and deepnote examples as a guide. \n",
    "Hatzlacha! When you are finished, please push your work to git and add ruchifeldman and estherdonnenbaum as a  collaborator."
   ]
  },
  {
   "cell_type": "code",
   "execution_count": 103,
   "metadata": {},
   "outputs": [
    {
     "data": {
      "text/plain": [
       "[4, 6, 8, 12]"
      ]
     },
     "execution_count": 103,
     "metadata": {},
     "output_type": "execute_result"
    }
   ],
   "source": [
    "#1 Write code to filter out only the even items from a list\n",
    "my_list = [1, 5, 4, 6, 8, 11, 3, 12]\n",
    "even_nums = list(filter(lambda x: x%2==0, my_list))\n",
    "even_nums\n"
   ]
  },
  {
   "cell_type": "code",
   "execution_count": 92,
   "metadata": {},
   "outputs": [
    {
     "data": {
      "text/plain": [
       "[2, 10, 8, 12, 16, 22, 6, 24]"
      ]
     },
     "execution_count": 92,
     "metadata": {},
     "output_type": "execute_result"
    }
   ],
   "source": [
    "#2 write code to double each item in a list using map()\n",
    "\n",
    "my_list = [1, 5, 4, 6, 8, 11, 3, 12]\n",
    "my_list = list(map(lambda x: x*2, my_list))\n",
    "my_list\n",
    "\n"
   ]
  },
  {
   "cell_type": "code",
   "execution_count": 93,
   "metadata": {},
   "outputs": [
    {
     "data": {
      "text/plain": [
       "[3, 42, 18, 27, 36]"
      ]
     },
     "execution_count": 93,
     "metadata": {},
     "output_type": "execute_result"
    }
   ],
   "source": [
    "#3 write code to select numbers that are divisible by 3 from the list\n",
    "\n",
    "my_list = [3, 42, 18, 26, 11,27, 14, 5,36]\n",
    "my_list = list(filter(lambda x: x%3==0, my_list))\n",
    "my_list\n"
   ]
  },
  {
   "cell_type": "code",
   "execution_count": 94,
   "metadata": {},
   "outputs": [
    {
     "data": {
      "text/plain": [
       "[3, 2, 1, 4, 2]"
      ]
     },
     "execution_count": 94,
     "metadata": {},
     "output_type": "execute_result"
    }
   ],
   "source": [
    "#4 write code to count the length of the numbers in a list. Return a list of the lengths.\n",
    "\n",
    "my_list = [123, 56, 2, 8695, 26]\n",
    "len_num= list(map(lambda x: len(str(x)), my_list))\n",
    "len_num\n"
   ]
  },
  {
   "cell_type": "code",
   "execution_count": 95,
   "metadata": {},
   "outputs": [
    {
     "data": {
      "text/plain": [
       "['APPLE', 'ORANGE', 'BANANA', 'PEAR', 'MANGO', 'KIWI']"
      ]
     },
     "execution_count": 95,
     "metadata": {},
     "output_type": "execute_result"
    }
   ],
   "source": [
    "#5 write code to convert all words in the list to upper case\n",
    "\n",
    "my_list = ['apple', 'orange', 'banana', 'pear', 'mango', 'kiwi']\n",
    "my_list=list(map(lambda x: x.upper(), my_list))\n",
    "my_list\n",
    "\n"
   ]
  },
  {
   "cell_type": "code",
   "execution_count": 96,
   "metadata": {},
   "outputs": [
    {
     "data": {
      "text/plain": [
       "['pear', 'Ruchi', 'chair']"
      ]
     },
     "execution_count": 96,
     "metadata": {},
     "output_type": "execute_result"
    }
   ],
   "source": [
    "#6 Write code to filter words that contain the letter 'r' from the list, any case\n",
    "import re\n",
    "my_list = ['pear', 'Ruchi', 'belt', 'chair', 'notes', 'date']\n",
    "my_list=list(filter(lambda x: re.search('[rR]',x)  , my_list))\n",
    "my_list\n"
   ]
  },
  {
   "cell_type": "code",
   "execution_count": 97,
   "metadata": {},
   "outputs": [],
   "source": [
    "#run this cell and use this df to answer the following questions\n",
    "import pandas as pd\n",
    "\n",
    "df = pd.DataFrame(\n",
    "    {\"title\": [\"Nor The Moon\", \"Why it Didn't Happen\", \"Expelled\", \"Not As It Seemed\", \"Random DIY Crafts\", \"Senora\"],\n",
    "     \"Author\": ['C. Green', 'Simon James', 'W. Wright', 'Hellen Kay', 'R. Farno', 'Jacob Blau'],\n",
    "     \"Pages\": [450, 120, 682, 210, 75, 302],\n",
    "     \"Publisher\": ['PG', 'Feldheim', 'Menucha', 'Ladybird', 'DSB', 'PG']\n",
    "\n",
    "    }\n",
    ")"
   ]
  },
  {
   "cell_type": "code",
   "execution_count": 98,
   "metadata": {},
   "outputs": [
    {
     "data": {
      "text/plain": [
       "0     900\n",
       "1     240\n",
       "2    1364\n",
       "3     420\n",
       "4     150\n",
       "5     604\n",
       "Name: Pages_multiplied, dtype: int64"
      ]
     },
     "execution_count": 98,
     "metadata": {},
     "output_type": "execute_result"
    }
   ],
   "source": [
    "#7 Write code to multiply the number of pages by two\n",
    "\n",
    "df['Pages_multiplied']= df['Pages'].apply(lambda x: x*2)\n",
    "df['Pages_multiplied']"
   ]
  },
  {
   "cell_type": "code",
   "execution_count": 99,
   "metadata": {},
   "outputs": [
    {
     "data": {
      "text/plain": [
       "0       c. green\n",
       "1    simon james\n",
       "2      w. wright\n",
       "3     hellen kay\n",
       "4       r. farno\n",
       "5     jacob blau\n",
       "Name: Author, dtype: object"
      ]
     },
     "execution_count": 99,
     "metadata": {},
     "output_type": "execute_result"
    }
   ],
   "source": [
    "#8 Write code change authors names to lowercase\n",
    "df['Author']= df['Author'].apply(lambda x: x.lower())\n",
    "df['Author']\n",
    "\n"
   ]
  },
  {
   "cell_type": "code",
   "execution_count": 102,
   "metadata": {},
   "outputs": [
    {
     "data": {
      "text/html": [
       "<div>\n",
       "<style scoped>\n",
       "    .dataframe tbody tr th:only-of-type {\n",
       "        vertical-align: middle;\n",
       "    }\n",
       "\n",
       "    .dataframe tbody tr th {\n",
       "        vertical-align: top;\n",
       "    }\n",
       "\n",
       "    .dataframe thead th {\n",
       "        text-align: right;\n",
       "    }\n",
       "</style>\n",
       "<table border=\"1\" class=\"dataframe\">\n",
       "  <thead>\n",
       "    <tr style=\"text-align: right;\">\n",
       "      <th></th>\n",
       "      <th>title</th>\n",
       "      <th>Author</th>\n",
       "      <th>Pages</th>\n",
       "      <th>Publisher</th>\n",
       "      <th>Pages_multiplied</th>\n",
       "    </tr>\n",
       "  </thead>\n",
       "  <tbody>\n",
       "    <tr>\n",
       "      <th>1</th>\n",
       "      <td>Why it Didn't Happen</td>\n",
       "      <td>simon james</td>\n",
       "      <td>120</td>\n",
       "      <td>Feldheim</td>\n",
       "      <td>240</td>\n",
       "    </tr>\n",
       "    <tr>\n",
       "      <th>3</th>\n",
       "      <td>Not As It Seemed</td>\n",
       "      <td>hellen kay</td>\n",
       "      <td>210</td>\n",
       "      <td>Ladybird</td>\n",
       "      <td>420</td>\n",
       "    </tr>\n",
       "  </tbody>\n",
       "</table>\n",
       "</div>"
      ],
      "text/plain": [
       "                  title       Author  Pages Publisher  Pages_multiplied\n",
       "1  Why it Didn't Happen  simon james    120  Feldheim               240\n",
       "3      Not As It Seemed   hellen kay    210  Ladybird               420"
      ]
     },
     "execution_count": 102,
     "metadata": {},
     "output_type": "execute_result"
    }
   ],
   "source": [
    "# CHALLENGE\n",
    "#Write code to select only the rows where the 'title' is more that four words. Assign those rows to a new dataframe\n",
    "# df1= pd.DataFrame()\n",
    "df1=df[df['title'].apply(lambda x: len(x.split(' '))==4)]\n",
    "df1\n"
   ]
  },
  {
   "cell_type": "code",
   "execution_count": 133,
   "metadata": {},
   "outputs": [
    {
     "data": {
      "text/plain": [
       "['l 0', 'e 0', 'a 0', 'h 0', 's 1', 'a 1', 'r 1', 'a 1']"
      ]
     },
     "execution_count": 133,
     "metadata": {},
     "output_type": "execute_result"
    }
   ],
   "source": [
    "\n",
    "b"
   ]
  },
  {
   "cell_type": "code",
   "execution_count": null,
   "metadata": {},
   "outputs": [],
   "source": []
  }
 ],
 "metadata": {
  "kernelspec": {
   "display_name": "base",
   "language": "python",
   "name": "python3"
  },
  "language_info": {
   "codemirror_mode": {
    "name": "ipython",
    "version": 3
   },
   "file_extension": ".py",
   "mimetype": "text/x-python",
   "name": "python",
   "nbconvert_exporter": "python",
   "pygments_lexer": "ipython3",
   "version": "3.9.12"
  },
  "orig_nbformat": 4,
  "vscode": {
   "interpreter": {
    "hash": "610a6f344c2137faf927ea819c63f6cee33a2c04455044b28099f39fe9722347"
   }
  }
 },
 "nbformat": 4,
 "nbformat_minor": 2
}
