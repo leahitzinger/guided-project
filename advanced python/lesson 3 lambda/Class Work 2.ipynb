{
 "cells": [
  {
   "attachments": {},
   "cell_type": "markdown",
   "metadata": {},
   "source": [
    "### Lambda Functions 2"
   ]
  },
  {
   "attachments": {},
   "cell_type": "markdown",
   "metadata": {},
   "source": [
    "Instructions: Work through the following questions. The first one has been done for you. You can use the slides and deepnote examples as a guide. \n",
    "Hatzlacha! When you are finished, please push your work to git and add ruchifeldman and edonnenbaum as a  collaborator."
   ]
  },
  {
   "cell_type": "code",
   "execution_count": 1,
   "metadata": {},
   "outputs": [
    {
     "name": "stdout",
     "output_type": "stream",
     "text": [
      "Hello my name is Ruchi\n"
     ]
    }
   ],
   "source": [
    "#1. Define a lambda function that prints \"Hello my name is _________ (fill in your name here)\" and assign it to the variable \"my_name\".\n",
    "my_name = lambda : print('Hello my name is Ruchi')\n",
    "my_name()"
   ]
  },
  {
   "cell_type": "code",
   "execution_count": 2,
   "metadata": {},
   "outputs": [
    {
     "name": "stdout",
     "output_type": "stream",
     "text": [
      "Hello my name is leah\n"
     ]
    }
   ],
   "source": [
    "#2. Define a lambda function that prints \"Hello my name is _________ (fill in your name here)\" and assign it to the variable \"my_name2\". In this example your lambda function should accept the argument named \"name\".\n",
    "my_name2 = lambda name : print('Hello my name is '+name)\n",
    "my_name2('leah')"
   ]
  },
  {
   "cell_type": "code",
   "execution_count": 3,
   "metadata": {},
   "outputs": [],
   "source": [
    "#3. Rewrite the following function using a lambda: \n",
    "\n",
    "def add_one(x):\n",
    "    return x + 1\n",
    "add_one = lambda x: x + 1\n"
   ]
  },
  {
   "cell_type": "code",
   "execution_count": 5,
   "metadata": {},
   "outputs": [
    {
     "data": {
      "text/plain": [
       "0.2"
      ]
     },
     "execution_count": 5,
     "metadata": {},
     "output_type": "execute_result"
    }
   ],
   "source": [
    "#4. Define the following lambda function: \n",
    "# Save a variable \"a\"  and an expression as a/10. \n",
    "# If variable \"a\" is less than 20, the code will divide it by 10. \n",
    "# Otherwise, it will print the variable value. \n",
    "# Call the function, setting the parameter a = 2 to call the function.\n",
    "(lambda a: a/10 if a<20 else a)(2)"
   ]
  },
  {
   "cell_type": "code",
   "execution_count": 11,
   "metadata": {},
   "outputs": [
    {
     "data": {
      "text/plain": [
       "'5 Odd'"
      ]
     },
     "execution_count": 11,
     "metadata": {},
     "output_type": "execute_result"
    }
   ],
   "source": [
    "#5. Use a lambda function to determine whether a specified integer is odd or even. Hint: use \"number\" as an argument in your function.\n",
    "# Your output should print the inputted number and whether it is odd or even.\n",
    "# To start you off: \n",
    "number = int(input('Please provide any number: '))\n",
    "(lambda number: str(number)+' Even' if number % 2 == 0 else str(number)+' Odd')(number)"
   ]
  },
  {
   "cell_type": "code",
   "execution_count": null,
   "metadata": {},
   "outputs": [],
   "source": [
    "#6. Write your own function. Then convert it to a lambda.\n",
    "def divide(x):\n",
    "    if x<50:\n",
    "        print(x/2)\n",
    "    else:\n",
    "        print(x)\n",
    "lambda x:x/2 if x<50 else x"
   ]
  },
  {
   "cell_type": "code",
   "execution_count": 16,
   "metadata": {},
   "outputs": [
    {
     "data": {
      "text/plain": [
       "30"
      ]
     },
     "execution_count": 16,
     "metadata": {},
     "output_type": "execute_result"
    }
   ],
   "source": [
    "#7. # Create a lambda function with if, elif & else:\n",
    "# If the given value is less than 10 then Multiplies it by 2\n",
    "# else if it's between 10 to 20 the multiplies it by 3\n",
    "# else returns the unmodified same value\n",
    "(lambda x: x*2 if x < 10 else(x*3 if x<20 else x))(30)"
   ]
  },
  {
   "cell_type": "code",
   "execution_count": 13,
   "metadata": {},
   "outputs": [
    {
     "data": {
      "text/plain": [
       "'25 False'"
      ]
     },
     "execution_count": 13,
     "metadata": {},
     "output_type": "execute_result"
    }
   ],
   "source": [
    "#8. Create a lambda function to check if a given value is between 11 to 22.\n",
    "#Return True or False\n",
    "(lambda x: str(x)+' True' if x > 11 and x < 22 else str(x)+' False')(25)"
   ]
  },
  {
   "cell_type": "code",
   "execution_count": null,
   "metadata": {},
   "outputs": [],
   "source": []
  }
 ],
 "metadata": {
  "kernelspec": {
   "display_name": "base",
   "language": "python",
   "name": "python3"
  },
  "language_info": {
   "codemirror_mode": {
    "name": "ipython",
    "version": 3
   },
   "file_extension": ".py",
   "mimetype": "text/x-python",
   "name": "python",
   "nbconvert_exporter": "python",
   "pygments_lexer": "ipython3",
   "version": "3.9.12"
  },
  "orig_nbformat": 4,
  "vscode": {
   "interpreter": {
    "hash": "610a6f344c2137faf927ea819c63f6cee33a2c04455044b28099f39fe9722347"
   }
  }
 },
 "nbformat": 4,
 "nbformat_minor": 2
}
