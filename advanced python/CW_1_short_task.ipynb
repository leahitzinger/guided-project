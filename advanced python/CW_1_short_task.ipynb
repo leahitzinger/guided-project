{
 "cells": [
  {
   "attachments": {},
   "cell_type": "markdown",
   "metadata": {},
   "source": [
    "## Exception Handling"
   ]
  },
  {
   "attachments": {},
   "cell_type": "markdown",
   "metadata": {},
   "source": [
    "#### Short task"
   ]
  },
  {
   "cell_type": "code",
   "execution_count": 2,
   "metadata": {},
   "outputs": [
    {
     "name": "stdout",
     "output_type": "stream",
     "text": [
      "you enterd a integer\n"
     ]
    }
   ],
   "source": [
    "# write code to check the length of each item in the list and append to a new list.\n",
    "#Use try and except to avoid all potential errors from crashing the code\n",
    "words=['sara','chana','leah',5,'rivki']\n",
    "# length=[len(x) for x in words]\n",
    "length=[]\n",
    "for word in words:\n",
    "    try:\n",
    "        length.append(len(word))\n",
    "    except TypeError:\n",
    "        print('you enterd a integer')\n",
    "    except:\n",
    "        print('something went wrong')\n",
    "\n"
   ]
  },
  {
   "cell_type": "code",
   "execution_count": null,
   "metadata": {},
   "outputs": [],
   "source": []
  }
 ],
 "metadata": {
  "kernelspec": {
   "display_name": "base",
   "language": "python",
   "name": "python3"
  },
  "language_info": {
   "codemirror_mode": {
    "name": "ipython",
    "version": 3
   },
   "file_extension": ".py",
   "mimetype": "text/x-python",
   "name": "python",
   "nbconvert_exporter": "python",
   "pygments_lexer": "ipython3",
   "version": "3.9.12"
  },
  "orig_nbformat": 4,
  "vscode": {
   "interpreter": {
    "hash": "610a6f344c2137faf927ea819c63f6cee33a2c04455044b28099f39fe9722347"
   }
  }
 },
 "nbformat": 4,
 "nbformat_minor": 2
}
