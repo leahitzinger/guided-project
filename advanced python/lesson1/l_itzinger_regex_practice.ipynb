{
 "cells": [
  {
   "attachments": {},
   "cell_type": "markdown",
   "metadata": {},
   "source": [
    "### Regex Practice"
   ]
  },
  {
   "cell_type": "code",
   "execution_count": 2,
   "metadata": {},
   "outputs": [],
   "source": [
    "#import the neccessary libary\n",
    "import re\n",
    "\n"
   ]
  },
  {
   "cell_type": "code",
   "execution_count": 3,
   "metadata": {},
   "outputs": [],
   "source": [
    "#1. Check whether the given strings contain 0xB0. Display the answer as a boolean result.\n",
    "ln1 = 'start address: 0xA0, func1 address: 0xC0'\n",
    "ln2 = 'end address: 0xFF, func2 address: 0xB0'"
   ]
  },
  {
   "cell_type": "code",
   "execution_count": 4,
   "metadata": {},
   "outputs": [
    {
     "name": "stdout",
     "output_type": "stream",
     "text": [
      "False True\n"
     ]
    }
   ],
   "source": [
    "bool1=bool(re.search(r'0xB0',ln1))\n",
    "bool2=bool(re.search(r'0xB0',ln2))\n",
    "\n",
    "print(bool1, bool2)"
   ]
  },
  {
   "cell_type": "code",
   "execution_count": 5,
   "metadata": {},
   "outputs": [
    {
     "data": {
      "text/plain": [
       "'They ate five apples and five oranges'"
      ]
     },
     "execution_count": 5,
     "metadata": {},
     "output_type": "execute_result"
    }
   ],
   "source": [
    "#2. Replace all occurrences of 5 with five for the given string.\n",
    "replace_all_fives = 'They ate 5 apples and 5 oranges'\n",
    "re.sub('5', 'five', replace_all_fives)"
   ]
  },
  {
   "cell_type": "code",
   "execution_count": 6,
   "metadata": {},
   "outputs": [
    {
     "data": {
      "text/plain": [
       "'They ate five apples and 5 oranges'"
      ]
     },
     "execution_count": 6,
     "metadata": {},
     "output_type": "execute_result"
    }
   ],
   "source": [
    "#3. Replace only the first occurrence of 5 with five for the given string.\n",
    "replace_first_five = 'They ate 5 apples and 5 oranges'\n",
    "re.sub('5', 'five', replace_all_fives, count=1 , flags=0)\n"
   ]
  },
  {
   "cell_type": "code",
   "execution_count": 7,
   "metadata": {},
   "outputs": [
    {
     "data": {
      "text/plain": [
       "['NEW', 'user', 'eat', 'dinner']"
      ]
     },
     "execution_count": 7,
     "metadata": {},
     "output_type": "execute_result"
    }
   ],
   "source": [
    "#4. For the given list, return a list of  all elements that contain the letter E or e.\n",
    "\n",
    "items = ['goal', 'NEW', 'user', 'sit', 'eat', 'dinner']\n",
    "list1=[item for item in items if bool(re.findall(r'.*e.*', item ,re.I))==True]\n",
    "list1"
   ]
  },
  {
   "cell_type": "code",
   "execution_count": 8,
   "metadata": {},
   "outputs": [
    {
     "name": "stdout",
     "output_type": "stream",
     "text": [
      "<re.Match object; span=(0, 2), match='be'>\n",
      "None\n",
      "<re.Match object; span=(0, 2), match='be'>\n",
      "None\n"
     ]
    }
   ],
   "source": [
    "#5. Check if the given strings start with be.\n",
    "line1 = 'be nice'\n",
    "line2 = '\"best!\"'\n",
    "line3 = 'better?'\n",
    "line4 = 'oh no\\nbear spotted'\n",
    "lines=[line1, line2, line3, line4]\n",
    "for line in lines:\n",
    "    match=re.search(r'^be', line)\n",
    "    print(match)\n"
   ]
  },
  {
   "cell_type": "code",
   "execution_count": 9,
   "metadata": {},
   "outputs": [
    {
     "data": {
      "text/plain": [
       "'bred brown spread credible brown.'"
      ]
     },
     "execution_count": 9,
     "metadata": {},
     "output_type": "execute_result"
    }
   ],
   "source": [
    "#6. For the given input string, change only the whole word red to brown.\n",
    "change_word = 'bred red spread credible red.'\n",
    "re.sub(r'\\bred\\b', 'brown', change_word)"
   ]
  },
  {
   "cell_type": "code",
   "execution_count": 10,
   "metadata": {},
   "outputs": [
    {
     "data": {
      "text/plain": [
       "['nice1423']"
      ]
     },
     "execution_count": 10,
     "metadata": {},
     "output_type": "execute_result"
    }
   ],
   "source": [
    "#7. For the given input list, filter all elements that contain 42 surrounded by more digits.\n",
    "words = ['hi42bye', 'nice1423', 'bad42', 'cool_42a', 'fake42', '_42_']\n",
    "list1=[item for item in words if bool(re.findall(r'\\d42\\d', item ,re.I))==True]\n",
    "list1"
   ]
  },
  {
   "cell_type": "code",
   "execution_count": 11,
   "metadata": {},
   "outputs": [
    {
     "name": "stdout",
     "output_type": "stream",
     "text": [
      "['franky@google.com', 'sinatra123@yahoo.com']\n"
     ]
    }
   ],
   "source": [
    "#8. Write a regex so that the full email addresses are extracted. i.e.: mike@protonmail.com\n",
    "\n",
    "str = 'The advancements in biomarine studies franky@google.com with the investments necessary and Davos sinatra123@yahoo.com Then The New Yorker article on wind farms...'\n",
    "import re\n",
    "regex =r'\\S*@\\S*'\n",
    "full_email = re.findall(regex, str)\n",
    "\n",
    "print(full_email)"
   ]
  },
  {
   "cell_type": "code",
   "execution_count": 12,
   "metadata": {},
   "outputs": [
    {
     "name": "stdout",
     "output_type": "stream",
     "text": [
      "['franky@', 'sinatra123@']\n"
     ]
    }
   ],
   "source": [
    "#9. This time write a regex to get only the part of the email before the \"@\" sign and include the \"@\" sign. i.e: only mike@ part from mike@protonmail.com\n",
    "\n",
    "str = 'The advancements in biomarine studies franky@google.com, with the investments necessary and Davos sinatra123@yahoo.com Then The New Yorker article on wind farms...'\n",
    "\n",
    "regex =r'\\b\\S*@'\n",
    "email_before = re.findall(regex, str)\n",
    "\n",
    "print(email_before)"
   ]
  },
  {
   "cell_type": "code",
   "execution_count": 13,
   "metadata": {},
   "outputs": [
    {
     "name": "stdout",
     "output_type": "stream",
     "text": [
      "['palmiers ']\n"
     ]
    }
   ],
   "source": [
    "#10. Find the words with exactly 8 letters using regex.\n",
    "\n",
    "import re\n",
    "\n",
    "str ='''Au pays parfume que le soleil caresse,\n",
    "J'ai connu, sous un dais d'arbres tout empourpres\n",
    "Et de palmiers d'ou pleut sur les yeux la paresse,\n",
    "Une dame creole aux charmes ignores.'''\n",
    "\n",
    "regex =r'\\w{8} '\n",
    "\n",
    "letters8 = re.findall(regex, str)\n",
    "\n",
    "print(letters8)"
   ]
  },
  {
   "cell_type": "code",
   "execution_count": 14,
   "metadata": {},
   "outputs": [
    {
     "data": {
      "text/plain": [
       "['0504144665']"
      ]
     },
     "execution_count": 14,
     "metadata": {},
     "output_type": "execute_result"
    }
   ],
   "source": [
    "#11. Complete the sentence in the string. Use regex to find your phone number.\n",
    "\n",
    "string = 'My phone number is 0504144665'\n",
    "re.findall(r'\\d{3}-?\\d{3}-?\\d{4}', string)\n",
    "\n"
   ]
  },
  {
   "cell_type": "code",
   "execution_count": 15,
   "metadata": {},
   "outputs": [
    {
     "data": {
      "text/plain": [
       "['L', 'I']"
      ]
     },
     "execution_count": 15,
     "metadata": {},
     "output_type": "execute_result"
    }
   ],
   "source": [
    "#12. Fill in your name in the string. Extract your initials using regex.\n",
    "\n",
    "String = 'Leah Itzinger'\n",
    "re.findall(r'\\b\\w',String)\n",
    "\n"
   ]
  },
  {
   "cell_type": "code",
   "execution_count": 16,
   "metadata": {},
   "outputs": [],
   "source": [
    "# Please save your completed notebook to the drive with your name at the beginning. ex: SaraGross_regex_practice."
   ]
  }
 ],
 "metadata": {
  "kernelspec": {
   "display_name": "Python 3 (ipykernel)",
   "language": "python",
   "name": "python3"
  },
  "language_info": {
   "codemirror_mode": {
    "name": "ipython",
    "version": 3
   },
   "file_extension": ".py",
   "mimetype": "text/x-python",
   "name": "python",
   "nbconvert_exporter": "python",
   "pygments_lexer": "ipython3",
   "version": "3.9.12"
  },
  "orig_nbformat": 4,
  "vscode": {
   "interpreter": {
    "hash": "610a6f344c2137faf927ea819c63f6cee33a2c04455044b28099f39fe9722347"
   }
  }
 },
 "nbformat": 4,
 "nbformat_minor": 2
}
