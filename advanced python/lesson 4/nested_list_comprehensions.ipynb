{
 "cells": [
  {
   "attachments": {},
   "cell_type": "markdown",
   "metadata": {},
   "source": [
    "### Nested List Comprehensions"
   ]
  },
  {
   "cell_type": "code",
   "execution_count": 1,
   "metadata": {},
   "outputs": [
    {
     "data": {
      "text/plain": [
       "[1, 2, 3, 4, 5, 2, 3, 2, 6]"
      ]
     },
     "execution_count": 1,
     "metadata": {},
     "output_type": "execute_result"
    }
   ],
   "source": [
    "#1. Write a nested list comprehension to take out each element from the nested lists so the desired output is: output_vals = [1,2,3,4,5,2,3,2,6]\n",
    "vals = [[1,2,3],[4,5,2],[3,2,6]]\n",
    "output_vals=[x for a in vals for x in a]\n",
    "output_vals"
   ]
  },
  {
   "cell_type": "code",
   "execution_count": 4,
   "metadata": {},
   "outputs": [
    {
     "data": {
      "text/plain": [
       "['x',\n",
       " 'p',\n",
       " 'p',\n",
       " 'l',\n",
       " 'x',\n",
       " 'x',\n",
       " 'r',\n",
       " 'x',\n",
       " 'n',\n",
       " 'g',\n",
       " 'x',\n",
       " 'b',\n",
       " 'x',\n",
       " 'n',\n",
       " 'x',\n",
       " 'n',\n",
       " 'x',\n",
       " 'p',\n",
       " 'x',\n",
       " 'x',\n",
       " 'r',\n",
       " 'k',\n",
       " 'x',\n",
       " 'w',\n",
       " 'x',\n",
       " 'm',\n",
       " 'x',\n",
       " 'n',\n",
       " 'g',\n",
       " 'x']"
      ]
     },
     "execution_count": 4,
     "metadata": {},
     "output_type": "execute_result"
    }
   ],
   "source": [
    "#2 Convert to list comprehension:\n",
    "constant_list=[]\n",
    "my_list=['apple', 'orange', 'banana', 'pear', 'kiwi', 'mango']\n",
    "for word in my_list:\n",
    "    for letter in word:\n",
    "        if letter not in r'[aioue]':\n",
    "            constant_list.append(letter)\n",
    "        else:\n",
    "            constant_list.append('x')\n",
    "constant_list1=[ letter if letter not in r'[aioue]' else 'x' for word in my_list for letter in word ]"
   ]
  },
  {
   "cell_type": "code",
   "execution_count": 7,
   "metadata": {},
   "outputs": [
    {
     "data": {
      "text/plain": [
       "[4, 16, 36, 64, 100, 144, 196, 256, 324, 400]"
      ]
     },
     "execution_count": 7,
     "metadata": {},
     "output_type": "execute_result"
    }
   ],
   "source": [
    "#3. Write a nested list comprehension to return the square of all even numbers in Numbers.\n",
    "\n",
    "Numbers = [[1,2,3,4,5,6,7,8,9,10],[11,12,13,14,15,16,17,18,19,20]]\n",
    "even_numbers=[num**2 for number in Numbers for num in number if num%2==0]\n",
    "even_numbers"
   ]
  },
  {
   "cell_type": "code",
   "execution_count": 9,
   "metadata": {},
   "outputs": [
    {
     "data": {
      "text/plain": [
       "[10, 20, 30, 40]"
      ]
     },
     "execution_count": 9,
     "metadata": {},
     "output_type": "execute_result"
    }
   ],
   "source": [
    "#4. Write a nested list comprhension to take each element in nested_list and multiply it by 5, only if the element is divisible by 2.\n",
    "\n",
    "nested_list = [[1,2,3],[4,5,6],[7,8,9]]\n",
    "time_five=[num*5 for number in nested_list for num in number if num%2==0]\n",
    "time_five\n"
   ]
  },
  {
   "cell_type": "code",
   "execution_count": null,
   "metadata": {},
   "outputs": [],
   "source": [
    "#5. In your own words, explain what the following list comprehension \"does\":\n",
    "\n",
    "matrix = [x for x in range(1,10) if x%2 == 0]\n",
    "#Makes a list of even numbers from 1 through 10"
   ]
  },
  {
   "cell_type": "code",
   "execution_count": 12,
   "metadata": {},
   "outputs": [
    {
     "data": {
      "text/plain": [
       "['January', 'June', 'July']"
      ]
     },
     "execution_count": 12,
     "metadata": {},
     "output_type": "execute_result"
    }
   ],
   "source": [
    "#6. Write a nested list comprehension with an if condition:\n",
    "months = [['January', 'February', 'March'], ['April', 'May', 'June'], ['July', 'August', 'September'],['October','November','December']]\n",
    "month_j=[mon for month in months for mon in month if 'J' in mon ]\n",
    "month_j"
   ]
  },
  {
   "cell_type": "code",
   "execution_count": 3,
   "metadata": {},
   "outputs": [
    {
     "data": {
      "text/plain": [
       "[7, 6]"
      ]
     },
     "execution_count": 3,
     "metadata": {},
     "output_type": "execute_result"
    }
   ],
   "source": [
    "#7. Write a list comprehension with a condition to take numbers greater than 4 and another condition to omit numbers smaller than eight.\n",
    "num_list = [4, 11, 2, 19, 7, 6, 25, 12]\n",
    "list_num=[num for num in num_list if num>4 if num<8]\n",
    "list_num"
   ]
  },
  {
   "cell_type": "code",
   "execution_count": 4,
   "metadata": {},
   "outputs": [
    {
     "data": {
      "text/plain": [
       "['l 0',\n",
       " 'e 0',\n",
       " 'a 0',\n",
       " 'h 0',\n",
       " 'c 0',\n",
       " 'h 0',\n",
       " 'a 0',\n",
       " 'y 0',\n",
       " 'a 0',\n",
       " 's 1',\n",
       " 'a 1',\n",
       " 'r 1',\n",
       " 'a 1']"
      ]
     },
     "execution_count": 4,
     "metadata": {},
     "output_type": "execute_result"
    }
   ],
   "source": [
    "#8-CHALLENGE  Write a nested list comprehension for the following scenario:\n",
    "# We have a list of lists of words and we want to get a list of all the letters of these words along with the index of the list they belong to but only for words with more than two characters.\n",
    "l=[['leah','chaya',],['sara','hi'],['re']]\n",
    "b=[c+' '+ str(i) for i, x in enumerate(l) for a in x for c in a if len(a)>2 ]\n",
    "b"
   ]
  },
  {
   "cell_type": "code",
   "execution_count": null,
   "metadata": {},
   "outputs": [],
   "source": []
  }
 ],
 "metadata": {
  "kernelspec": {
   "display_name": "base",
   "language": "python",
   "name": "python3"
  },
  "language_info": {
   "codemirror_mode": {
    "name": "ipython",
    "version": 3
   },
   "file_extension": ".py",
   "mimetype": "text/x-python",
   "name": "python",
   "nbconvert_exporter": "python",
   "pygments_lexer": "ipython3",
   "version": "3.9.12"
  },
  "orig_nbformat": 4,
  "vscode": {
   "interpreter": {
    "hash": "610a6f344c2137faf927ea819c63f6cee33a2c04455044b28099f39fe9722347"
   }
  }
 },
 "nbformat": 4,
 "nbformat_minor": 2
}
