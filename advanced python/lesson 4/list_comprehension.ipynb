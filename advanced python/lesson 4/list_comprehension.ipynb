{
 "cells": [
  {
   "attachments": {},
   "cell_type": "markdown",
   "metadata": {},
   "source": [
    "### List Comprehension"
   ]
  },
  {
   "cell_type": "code",
   "execution_count": 1,
   "metadata": {},
   "outputs": [
    {
     "name": "stdout",
     "output_type": "stream",
     "text": [
      "['apple', 'banana', 'mango']\n"
     ]
    }
   ],
   "source": [
    "#1. Substitute the for-loop with a list comprehension:\n",
    "\n",
    "fruits = [\"apple\", \"banana\", \"cherry\", \"kiwi\", \"mango\"]\n",
    "newlist = []\n",
    "\n",
    "for x in fruits:\n",
    "  if \"a\" in x:\n",
    "    newlist.append(x)\n",
    "newlist=[x for x in newlist if 'a' in x]\n",
    "print(newlist)"
   ]
  },
  {
   "cell_type": "code",
   "execution_count": 11,
   "metadata": {},
   "outputs": [
    {
     "data": {
      "text/plain": [
       "['banana', 'mango']"
      ]
     },
     "execution_count": 11,
     "metadata": {},
     "output_type": "execute_result"
    }
   ],
   "source": [
    "#2. Modify your list comprehension to only accept items that are not \"apple\".\n",
    "newlist=[x  for x in newlist if 'a' in x if x!= 'apple']\n",
    "newlist"
   ]
  },
  {
   "cell_type": "code",
   "execution_count": 18,
   "metadata": {},
   "outputs": [],
   "source": [
    "#3. Modify your list comprehension to exclude the \"if statement\".\n",
    "newlist=[x  for x in newlist ]"
   ]
  },
  {
   "cell_type": "code",
   "execution_count": 17,
   "metadata": {},
   "outputs": [
    {
     "data": {
      "text/plain": [
       "['h', 'u', 'm', 'a', 'n']"
      ]
     },
     "execution_count": 17,
     "metadata": {},
     "output_type": "execute_result"
    }
   ],
   "source": [
    "#4. Iterate through the string \"human\" using a list comprehension.\n",
    "string='human'\n",
    "human=[l for l in string]\n",
    "human"
   ]
  },
  {
   "cell_type": "code",
   "execution_count": 16,
   "metadata": {},
   "outputs": [
    {
     "data": {
      "text/plain": [
       "[0, 2, 4, 6, 8, 10, 12, 14, 16, 18]"
      ]
     },
     "execution_count": 16,
     "metadata": {},
     "output_type": "execute_result"
    }
   ],
   "source": [
    "#5. Write a list comprehension where the list, \"number_list\" will be populated by the items in range from 0-19 if the item's value is divisible by 2.\n",
    "list_range=[n for n in range(20) if n%2==0 ]\n",
    "list_range"
   ]
  },
  {
   "cell_type": "code",
   "execution_count": 15,
   "metadata": {},
   "outputs": [
    {
     "data": {
      "text/plain": [
       "['even', 'odd', 'even', 'odd', 'even', 'odd', 'even', 'odd', 'even', 'odd']"
      ]
     },
     "execution_count": 15,
     "metadata": {},
     "output_type": "execute_result"
    }
   ],
   "source": [
    "#6. Write a list comprehension to check the 10 numbers from 0 to 9 (hint: use range). If the number is divisible by 2, then append \"even\" to the list. If not, append \"odd\".\n",
    "list_range=['even' if n%2==0 else 'odd' for n in range(10)]\n",
    "list_range"
   ]
  },
  {
   "cell_type": "code",
   "execution_count": 14,
   "metadata": {},
   "outputs": [
    {
     "data": {
      "text/plain": [
       "[1, 13, 12]"
      ]
     },
     "execution_count": 14,
     "metadata": {},
     "output_type": "execute_result"
    }
   ],
   "source": [
    "#7. Write a list comprehension to iterate over a list and take the elements that are less than 15.\n",
    "num=[1,22,13,85,12,42]\n",
    "num_list=[n for n in num if n<15]\n",
    "num_list"
   ]
  },
  {
   "cell_type": "code",
   "execution_count": 21,
   "metadata": {},
   "outputs": [
    {
     "data": {
      "text/plain": [
       "['chaya', 'chava']"
      ]
     },
     "execution_count": 21,
     "metadata": {},
     "output_type": "execute_result"
    }
   ],
   "source": [
    "#8. Write a list comprehension to iterate over a list of names and take the names that start with a \"c\" and end with an \"a\".\n",
    "names=['leah','rachel','sara','chaya','chava']\n",
    "name=[n for n in names if n[0]=='c' if n[-1]=='a']\n",
    "name"
   ]
  },
  {
   "cell_type": "code",
   "execution_count": 12,
   "metadata": {},
   "outputs": [
    {
     "data": {
      "text/plain": [
       "[1, 2, 3, 4, 5, 2, 3, 2, 6]"
      ]
     },
     "execution_count": 12,
     "metadata": {},
     "output_type": "execute_result"
    }
   ],
   "source": [
    "#9. Write a nested list comprehension to that out each element from the nested lists so the desired output is: output_vals = [1,2,3,4,5,2,3,2,6]\n",
    "vals = [[1,2,3],[4,5,2],[3,2,6]]\n",
    "output_vals=[x for y in vals for x in y]\n",
    "output_vals"
   ]
  },
  {
   "cell_type": "code",
   "execution_count": 20,
   "metadata": {},
   "outputs": [
    {
     "data": {
      "text/plain": [
       "['l 0', 'e 0', 'a 0', 'h 0', 's 1', 'a 1', 'r 1', 'a 1']"
      ]
     },
     "execution_count": 20,
     "metadata": {},
     "output_type": "execute_result"
    }
   ],
   "source": [
    "#10. Challenge: Write a nested list comprehension for the following scenario:\n",
    "# We have a list of lists of words and we want to get a list of all the letters of these words along with the index of the list they belong to but only for words with more than two characters.\n",
    "l=[['leah'],['sara'],['re']]\n",
    "b=[c+' '+ str(i) for i, x in enumerate(l) for a in x for c in a if len(a)>2 ]\n",
    "b"
   ]
  },
  {
   "cell_type": "code",
   "execution_count": null,
   "metadata": {},
   "outputs": [],
   "source": []
  }
 ],
 "metadata": {
  "kernelspec": {
   "display_name": "base",
   "language": "python",
   "name": "python3"
  },
  "language_info": {
   "codemirror_mode": {
    "name": "ipython",
    "version": 3
   },
   "file_extension": ".py",
   "mimetype": "text/x-python",
   "name": "python",
   "nbconvert_exporter": "python",
   "pygments_lexer": "ipython3",
   "version": "3.9.12"
  },
  "orig_nbformat": 4,
  "vscode": {
   "interpreter": {
    "hash": "610a6f344c2137faf927ea819c63f6cee33a2c04455044b28099f39fe9722347"
   }
  }
 },
 "nbformat": 4,
 "nbformat_minor": 2
}
