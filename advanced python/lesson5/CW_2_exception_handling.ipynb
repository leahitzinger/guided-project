{
 "cells": [
  {
   "attachments": {},
   "cell_type": "markdown",
   "metadata": {},
   "source": [
    "### Exception Handling:"
   ]
  },
  {
   "attachments": {},
   "cell_type": "markdown",
   "metadata": {},
   "source": [
    "You are opening a new store! Your store sells _Chocolate. Your job is to write a program for your new store that does the following:\n",
    "1. Tells the customer what goods can be purchased in your store. Include at least 5 items.\n",
    "2. Asks the customer for input of which item they would like to purchase, and how many of that item.\n",
    "3. Responds to the customers request with the price of the item, asks the customer for confirmation of the item, adds the item and quantity to an order list, and asks the customer if they would like to order anything else.\n",
    "4. Raise an exception if the customer inputs an item that is not part of your list.\n",
    "5. Use at least two try/excepts in your program. \n",
    "6. At the end, print out an order list with the customer's total bill. Hint: You may want to include a try/except here - when you are multiplying the item cost by the quantity, if something goes wrong with the calculation you can raise an exception error to tell the customer that there is an issue with that item and they should speak to customer service :)\n",
    "\n",
    "\n",
    "These are the basics, but be as creative as you'd like!\n",
    "Hatzlacha and have fun!"
   ]
  },
  {
   "cell_type": "code",
   "execution_count": null,
   "metadata": {},
   "outputs": [],
   "source": [
    "goods = ['Milk Chocolate', 'White Chocolate', 'Dark Chocolate',\n",
    "         'Semisweeet Chocolate', 'Swiss Chocolate', 'Perlino chocolate']\n",
    "price_goods = {'Milk Chocolate': 25, 'White Chocolate': 30, 'Dark Chocolate': 20,\n",
    "               'Semisweeet Chocolate': 22, 'Swiss Chocolate': 45, 'Perlino chocolate': 35}\n"
   ]
  },
  {
   "cell_type": "code",
   "execution_count": 26,
   "metadata": {},
   "outputs": [
    {
     "name": "stdout",
     "output_type": "stream",
     "text": [
      "Welcome to Chocolate Fantasies!\n",
      "Chocolate is always the answer...\n",
      "We sell the following varieties:\n",
      "Milk Chocolate\n",
      "White Chocolate\n",
      "Dark Chocolate\n",
      "Semisweeet Chocolate\n",
      "Swiss Chocolate\n",
      "Perlino chocolate\n",
      "your input was not recognized\n",
      "[['Milk Chocolate', '3', 75], ['White Chocolate', '5', 150]]\n"
     ]
    }
   ],
   "source": [
    "print('Welcome to Chocolate Fantasies!\\nChocolate is always the answer...\\nWe sell the following varieties:')\n",
    "for each in goods:\n",
    "    print(each)\n",
    "buy_more='yes'\n",
    "item_list=[]\n",
    "while buy_more=='yes':  \n",
    "    item = input('What would you like to purchase today')\n",
    "    amount = input('How many can we offer you')\n",
    "    try:\n",
    "        price=price_goods[item] * int(amount)\n",
    "        confirm=input('Please confirm your purchase of {} {} for {}NIS. yes or no'.format(amount,item,price))\n",
    "        if confirm=='yes':\n",
    "            item_list.append([item,amount,price])\n",
    "        buy_more=input('Would you like to buy anything else today? yes or no')\n",
    "    except KeyError:\n",
    "        print('your input was not recognized')\n",
    "        buy_more='yes'\n",
    "    except:\n",
    "        print('your input was invalid')\n",
    "        buy_more='yes'\n",
    "print(item_list)\n",
    "    \n",
    "    "
   ]
  },
  {
   "cell_type": "code",
   "execution_count": 25,
   "metadata": {},
   "outputs": [
    {
     "ename": "KeyError",
     "evalue": "'n'",
     "output_type": "error",
     "traceback": [
      "\u001b[1;31m---------------------------------------------------------------------------\u001b[0m",
      "\u001b[1;31mKeyError\u001b[0m                                  Traceback (most recent call last)",
      "\u001b[1;32mc:\\Users\\admin\\Documents\\guided project\\advanced python\\lesson5\\CW_2_exception_handling.ipynb Cell 5\u001b[0m in \u001b[0;36m<cell line: 2>\u001b[1;34m()\u001b[0m\n\u001b[0;32m      <a href='vscode-notebook-cell:/c%3A/Users/admin/Documents/guided%20project/advanced%20python/lesson5/CW_2_exception_handling.ipynb#W4sZmlsZQ%3D%3D?line=0'>1</a>\u001b[0m a\u001b[39m=\u001b[39m{\u001b[39m'\u001b[39m\u001b[39ms\u001b[39m\u001b[39m'\u001b[39m:\u001b[39m3\u001b[39m,\u001b[39m'\u001b[39m\u001b[39mb\u001b[39m\u001b[39m'\u001b[39m:\u001b[39m5\u001b[39m}\n\u001b[1;32m----> <a href='vscode-notebook-cell:/c%3A/Users/admin/Documents/guided%20project/advanced%20python/lesson5/CW_2_exception_handling.ipynb#W4sZmlsZQ%3D%3D?line=1'>2</a>\u001b[0m a[\u001b[39m'\u001b[39;49m\u001b[39mn\u001b[39;49m\u001b[39m'\u001b[39;49m]\n",
      "\u001b[1;31mKeyError\u001b[0m: 'n'"
     ]
    }
   ],
   "source": []
  },
  {
   "cell_type": "code",
   "execution_count": null,
   "metadata": {},
   "outputs": [],
   "source": []
  }
 ],
 "metadata": {
  "kernelspec": {
   "display_name": "base",
   "language": "python",
   "name": "python3"
  },
  "language_info": {
   "codemirror_mode": {
    "name": "ipython",
    "version": 3
   },
   "file_extension": ".py",
   "mimetype": "text/x-python",
   "name": "python",
   "nbconvert_exporter": "python",
   "pygments_lexer": "ipython3",
   "version": "3.9.12"
  },
  "orig_nbformat": 4,
  "vscode": {
   "interpreter": {
    "hash": "610a6f344c2137faf927ea819c63f6cee33a2c04455044b28099f39fe9722347"
   }
  }
 },
 "nbformat": 4,
 "nbformat_minor": 2
}
