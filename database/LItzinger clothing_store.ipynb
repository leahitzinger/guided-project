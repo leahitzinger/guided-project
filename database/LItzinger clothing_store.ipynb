{
 "cells": [
  {
   "cell_type": "code",
   "execution_count": 2,
   "metadata": {},
   "outputs": [
    {
     "data": {
      "text/plain": [
       "0"
      ]
     },
     "execution_count": 2,
     "metadata": {},
     "output_type": "execute_result"
    }
   ],
   "source": [
    "import pymysql\n",
    "conn=pymysql.connect(host='localhost',port=3306,user='root',password='Qwerty613!',db='sys')\n",
    "cursor=conn.cursor()\n",
    "cursor.execute(\"CREATE DATABASE IF NOT EXISTS clothing_store;\")\n",
    "cursor.execute('USE clothing_store;')"
   ]
  },
  {
   "cell_type": "code",
   "execution_count": null,
   "metadata": {},
   "outputs": [],
   "source": [
    "products_table='''CREATE TABLE IF NOT EXISTS products\n",
    "(product_id MEDIUMINT UNSIGNED NOT NULL, \n",
    "product_name VARCHAR(50) NOT NULL, \n",
    "product_description VARCHAR(400),\n",
    "product_price DECIMAL(5,2) NOT NULL,\n",
    "category_name VARCHAR(50) NOT NULL,\n",
    "product_size TINYINT NOT NULL,\n",
    "PRIMARY KEY (product_id)\n",
    ");'''\n",
    "cursor.execute(products_table)"
   ]
  },
  {
   "cell_type": "code",
   "execution_count": null,
   "metadata": {},
   "outputs": [],
   "source": [
    "customers_table='''CREATE TABLE IF NOT EXISTS customers\n",
    "(customer_id MEDIUMINT UNSIGNED NOT NULL AUTO_INCREMENT, \n",
    "customer_name VARCHAR(75) NOT NULL, \n",
    "customer_address VARCHAR(100),\n",
    "customer_city VARCHAR(50),\n",
    "customer_country VARCHAR(50),\n",
    "customer_phone VARCHAR(20),\n",
    "customer_email VARCHAR(50) NOT NULL,\n",
    "PRIMARY KEY (customer_id)\n",
    ");'''\n",
    "cursor.execute(customers_table)"
   ]
  },
  {
   "cell_type": "code",
   "execution_count": null,
   "metadata": {},
   "outputs": [],
   "source": [
    "orders_table='''CREATE TABLE IF NOT EXISTS orders\n",
    "(order_id MEDIUMINT UNSIGNED NOT NULL AUTO_INCREMENT, \n",
    "customer_id MEDIUMINT UNSIGNED NOT NULL, \n",
    "total_price DECIMAL(7,2) NOT NULL, \n",
    "order_date DATE NOT NULL,\n",
    "payment_method ENUM('credit card' , 'paypal' , 'debit card') NOT NULL, \n",
    "shipping_date DATE NOT NULL,\n",
    "PRIMARY KEY (order_id)\n",
    ");'''\n",
    "cursor.execute(orders_table)"
   ]
  },
  {
   "cell_type": "code",
   "execution_count": null,
   "metadata": {},
   "outputs": [],
   "source": [
    "prudoct_ordered_table='''CREATE TABLE IF NOT EXISTS prudoct_ordered\n",
    "(prudoct_order_id MEDIUMINT UNSIGNED NOT NULL, \n",
    "order_id MEDIUMINT UNSIGNED NOT NULL, \n",
    "product_id MEDIUMINT UNSIGNED NOT NULL, \n",
    "quantity TINYINT UNSIGNED NOT NULL,\n",
    "size TINYINT UNSIGNED NOT NULL, \n",
    "PRIMARY KEY (prudoct_order_id)\n",
    ");'''\n",
    "cursor.execute(prudoct_ordered_table)"
   ]
  },
  {
   "cell_type": "code",
   "execution_count": null,
   "metadata": {},
   "outputs": [],
   "source": [
    "billing_table='''CREATE TABLE IF NOT EXISTS billing\n",
    "(billing_id MEDIUMINT UNSIGNED NOT NULL, \n",
    "order_id MEDIUMINT UNSIGNED NOT NULL, \n",
    "billing_name VARCHAR(75) NOT NULL, \n",
    "billing_email VARCHAR(50) NOT NULL,\n",
    "billing_address VARCHAR(100) NOT NULL,\n",
    "cc_number VARCHAR(16) NOT NULL,\n",
    "cvv_number VARCHAR(4) NOT NULL,\n",
    "expiration_date VARCHAR(5) NOT NULL,\n",
    "PRIMARY KEY (billing_id)\n",
    ");'''\n",
    "cursor.execute(billing_table)"
   ]
  },
  {
   "cell_type": "code",
   "execution_count": null,
   "metadata": {},
   "outputs": [],
   "source": [
    "shipping_table='''CREATE TABLE IF NOT EXISTS shipping\n",
    "(shipping_id MEDIUMINT UNSIGNED NOT NULL, \n",
    "order_id MEDIUMINT UNSIGNED NOT NULL, \n",
    "shipping_name VARCHAR(75) NOT NULL, \n",
    "shipping_address VARCHAR(100) NOT NULL, \n",
    "shipping_city VARCHAR(50) NOT NULL,\n",
    "shipping_country TINYINT UNSIGNED NOT NULL,\n",
    "shipping_phone VARCHAR(20) NOT NULL,\n",
    "PRIMARY KEY (shipping_id)\n",
    ");'''\n",
    "cursor.execute(shipping_table)"
   ]
  },
  {
   "cell_type": "code",
   "execution_count": null,
   "metadata": {},
   "outputs": [],
   "source": [
    "country_table='''CREATE TABLE IF NOT EXISTS country\n",
    "(country_id TINYINT UNSIGNED NOT NULL AUTO_INCREMENT, \n",
    "country_name VARCHAR(50) NOT NULL, \n",
    "shipping_cost DECIMAL(4,2) NOT NULL,  \n",
    "PRIMARY KEY (country_id)\n",
    ");'''\n",
    "cursor.execute(country_table)"
   ]
  },
  {
   "cell_type": "code",
   "execution_count": null,
   "metadata": {},
   "outputs": [],
   "source": [
    "cursor.execute('''ALTER TABLE orders\n",
    "ADD CONSTRAINT fk_customer FOREIGN KEY(customer_id) REFERENCES customers(customer_id);\n",
    "''')"
   ]
  },
  {
   "cell_type": "code",
   "execution_count": null,
   "metadata": {},
   "outputs": [],
   "source": [
    "cursor.execute('''ALTER TABLE prudoct_ordered \n",
    "ADD CONSTRAINT fk_order FOREIGN KEY(order_id) REFERENCES orders(order_id),\n",
    "ADD CONSTRAINT fk_product FOREIGN KEY(product_id) REFERENCES products(product_id);\n",
    "''')"
   ]
  },
  {
   "cell_type": "code",
   "execution_count": null,
   "metadata": {},
   "outputs": [],
   "source": [
    "cursor.execute('''ALTER TABLE billing\n",
    "ADD CONSTRAINT fk_order_billing FOREIGN KEY(order_id) REFERENCES orders(order_id);\n",
    "''')"
   ]
  },
  {
   "cell_type": "code",
   "execution_count": null,
   "metadata": {},
   "outputs": [],
   "source": [
    "cursor.execute('''ALTER TABLE shipping\n",
    "ADD CONSTRAINT fk_order_shipping FOREIGN KEY(order_id) REFERENCES orders(order_id);\n",
    "''')"
   ]
  },
  {
   "cell_type": "code",
   "execution_count": null,
   "metadata": {},
   "outputs": [],
   "source": [
    "cursor.execute('''ALTER TABLE shipping\n",
    "ADD CONSTRAINT fk_country_shipping FOREIGN KEY(shipping_country) REFERENCES country(country_id);\n",
    "''')"
   ]
  },
  {
   "cell_type": "code",
   "execution_count": 3,
   "metadata": {},
   "outputs": [
    {
     "data": {
      "text/plain": [
       "0"
      ]
     },
     "execution_count": 3,
     "metadata": {},
     "output_type": "execute_result"
    }
   ],
   "source": [
    "cursor.execute(\"ALTER TABLE orders MODIFY COLUMN order_date DATE DEFAULT(CURRENT_DATE)\")"
   ]
  },
  {
   "cell_type": "code",
   "execution_count": 6,
   "metadata": {},
   "outputs": [
    {
     "data": {
      "text/plain": [
       "0"
      ]
     },
     "execution_count": 6,
     "metadata": {},
     "output_type": "execute_result"
    }
   ],
   "source": [
    "cursor.execute('''ALTER TABLE customers AUTO_INCREMENT=1000''')"
   ]
  },
  {
   "cell_type": "code",
   "execution_count": 7,
   "metadata": {},
   "outputs": [
    {
     "data": {
      "text/plain": [
       "0"
      ]
     },
     "execution_count": 7,
     "metadata": {},
     "output_type": "execute_result"
    }
   ],
   "source": [
    "cursor.execute('''ALTER TABLE orders AUTO_INCREMENT=1000''')"
   ]
  },
  {
   "cell_type": "code",
   "execution_count": 8,
   "metadata": {},
   "outputs": [
    {
     "data": {
      "text/plain": [
       "0"
      ]
     },
     "execution_count": 8,
     "metadata": {},
     "output_type": "execute_result"
    }
   ],
   "source": [
    "cursor.execute('''CREATE ROLE store_read, store_read_write;''')\n",
    "cursor.execute('''GRANT SELECT ON clothing_store.* TO store_read;''')\n",
    "cursor.execute('''GRANT SELECT,INSERT ON clothing_store.* TO store_read_write;''')"
   ]
  },
  {
   "cell_type": "code",
   "execution_count": 9,
   "metadata": {},
   "outputs": [
    {
     "data": {
      "text/plain": [
       "0"
      ]
     },
     "execution_count": 9,
     "metadata": {},
     "output_type": "execute_result"
    }
   ],
   "source": [
    "cursor.execute(\"CREATE USER reading@localhost IDENTIFIED BY 'pass123'\")\n",
    "cursor.execute(\"CREATE USER write_read@localhost IDENTIFIED BY 'pass456'\")\n",
    "cursor.execute('''GRANT store_read TO reading@localhost;''')\n",
    "cursor.execute('''GRANT store_read_write TO write_read@localhost;''')"
   ]
  },
  {
   "cell_type": "code",
   "execution_count": 52,
   "metadata": {},
   "outputs": [],
   "source": [
    "import pandas as pd\n",
    "product_df=pd.read_csv('store_data.csv',skiprows=1)"
   ]
  },
  {
   "cell_type": "code",
   "execution_count": 53,
   "metadata": {},
   "outputs": [],
   "source": [
    "for index, row in product_df.iterrows():\n",
    "    cursor.execute('''INSERT INTO products VALUES(%s,%s,%s,%s,%s,%s);''',(row[0],row[1],row[2],row[3],row[4],row[5]) )"
   ]
  },
  {
   "cell_type": "code",
   "execution_count": 56,
   "metadata": {},
   "outputs": [],
   "source": [
    "conn.commit()"
   ]
  },
  {
   "cell_type": "code",
   "execution_count": 62,
   "metadata": {},
   "outputs": [
    {
     "data": {
      "text/plain": [
       "((3344,\n",
       "  'Black Leggings',\n",
       "  'Made from a soft and breathable cotton',\n",
       "  Decimal('15.50'),\n",
       "  'Leggings',\n",
       "  3),\n",
       " (3345,\n",
       "  'Black Leggings',\n",
       "  'Made from a soft and breathable cotton',\n",
       "  Decimal('15.50'),\n",
       "  'Leggings',\n",
       "  4),\n",
       " (3346,\n",
       "  'Black Leggings',\n",
       "  'Made from a soft and breathable cotton',\n",
       "  Decimal('15.50'),\n",
       "  'Leggings',\n",
       "  5),\n",
       " (3347,\n",
       "  'Black Leggings',\n",
       "  'Made from a soft and breathable cotton',\n",
       "  Decimal('15.50'),\n",
       "  'Leggings',\n",
       "  6),\n",
       " (7666,\n",
       "  'Short sleeved Jersey Dress',\n",
       "  'Machine washable, 100% cotton',\n",
       "  Decimal('19.99'),\n",
       "  'Dress',\n",
       "  4),\n",
       " (7667,\n",
       "  'Short sleeved Jersey Dress',\n",
       "  'Machine washable, 100% cotton',\n",
       "  Decimal('19.99'),\n",
       "  'Dress',\n",
       "  5),\n",
       " (7668,\n",
       "  'Short sleeved Jersey Dress',\n",
       "  'Machine washable, 100% cotton',\n",
       "  Decimal('19.99'),\n",
       "  'Dress',\n",
       "  6),\n",
       " (7669,\n",
       "  'Short sleeved Jersey Dress',\n",
       "  'Machine washable, 100% cotton',\n",
       "  Decimal('19.99'),\n",
       "  'Dress',\n",
       "  7),\n",
       " (7670,\n",
       "  'Short sleeved Jersey Dress',\n",
       "  'Machine washable, 100% cotton',\n",
       "  Decimal('19.99'),\n",
       "  'Dress',\n",
       "  8),\n",
       " (7671,\n",
       "  'Short sleeved Jersey Dress',\n",
       "  'Machine washable, 100% cotton',\n",
       "  Decimal('19.99'),\n",
       "  'Dress',\n",
       "  9))"
      ]
     },
     "execution_count": 62,
     "metadata": {},
     "output_type": "execute_result"
    }
   ],
   "source": [
    "cursor.execute('''SELECT * FROM products''')\n",
    "cursor.fetchall()"
   ]
  },
  {
   "cell_type": "code",
   "execution_count": 60,
   "metadata": {},
   "outputs": [
    {
     "data": {
      "text/plain": [
       "3"
      ]
     },
     "execution_count": 60,
     "metadata": {},
     "output_type": "execute_result"
    }
   ],
   "source": [
    "billing_charges = \"INSERT INTO country (country_name, shipping_cost) VALUES (%s, %s)\"\n",
    "val = [\n",
    "  ('USA', 5.90),\n",
    "  ('UK', 9.90),\n",
    "  ('ISRAEL', 15.90)\n",
    "]\n",
    "cursor.executemany(billing_charges, val)"
   ]
  },
  {
   "cell_type": "code",
   "execution_count": 61,
   "metadata": {},
   "outputs": [],
   "source": [
    "conn.commit()"
   ]
  },
  {
   "cell_type": "code",
   "execution_count": null,
   "metadata": {},
   "outputs": [],
   "source": [
    "#  cursor.execute(\"DROP DATABASE clothing_store\")"
   ]
  },
  {
   "cell_type": "code",
   "execution_count": null,
   "metadata": {},
   "outputs": [],
   "source": []
  }
 ],
 "metadata": {
  "kernelspec": {
   "display_name": "base",
   "language": "python",
   "name": "python3"
  },
  "language_info": {
   "codemirror_mode": {
    "name": "ipython",
    "version": 3
   },
   "file_extension": ".py",
   "mimetype": "text/x-python",
   "name": "python",
   "nbconvert_exporter": "python",
   "pygments_lexer": "ipython3",
   "version": "3.9.12"
  },
  "orig_nbformat": 4,
  "vscode": {
   "interpreter": {
    "hash": "610a6f344c2137faf927ea819c63f6cee33a2c04455044b28099f39fe9722347"
   }
  }
 },
 "nbformat": 4,
 "nbformat_minor": 2
}
